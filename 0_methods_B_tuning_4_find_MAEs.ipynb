{
 "cells": [
  {
   "cell_type": "markdown",
   "metadata": {
    "slideshow": {
     "slide_type": "slide"
    },
    "tags": []
   },
   "source": [
    "### 0_methods_B_tuning_4_find_MAEs.ipynb  \n",
    "\n",
    "# Tuning: find Mean Absolute Error of each model run\n",
    "#### We share this notebook for transparency, but it CANNOT BE EXECUTED as model output from the 3595 tuning runs is not published online.\n",
    "\n",
    "**Notebook input:**\n",
    "- parameters_2TU_sampled_after_constraints.csv (from subfolder 0_methods_B_tuning_files)\n",
    "- parameters_KDE_sampled_after_constraints.csv (from subfolder 0_methods_B_tuning_files)\n",
    "- parameters_3P5_sampled_after_constraints.csv (from subfolder 0_methods_B_tuning_files)\n",
    "- model output of the tuning runs (not provided)\n",
    "\n",
    "**Notebook output (saved in subfolder 0_methods_B_tuning_files):**\n",
    "- total_table_ensemble_2TU.csv\n",
    "- total_table_ensemble_KDE.csv\n",
    "- total_table_ensemble_3P5.csv\n",
    "\n",
    "**Notebook comments:**  \n",
    "- This notebook does the postprocessing of the tuning runs and computes Mean Absolute Errors (MAEs) of model versus observations.  \n",
    "- The resulting MAEs are saved in a total_table file together with the medians and mean residence times (MRTs).\n",
    "- We share this notebook for transparency, but it cannot be executed as model output from the 3595 tuning runs is not published online.\n",
    "\n",
    "**General information:**\n",
    "- This notebook was published in the zenodo repository https://doi.org/10.5281/zenodo.10622403 along with the paper:\n",
    "\n",
    "   - Jeemijn Scheen, Jörg Lippold, Frerk Pöppelmeier, Finn Süfke and Thomas F. Stocker. Promising regions for detecting the overturning circulation in Atlantic 231Pa/230Th: a model-data comparison. Paleoceanography and Paleoclimatology, 2025.\n",
    "- Code author for this notebook: Jeemijn Scheen"
   ]
  },
  {
   "cell_type": "code",
   "execution_count": 20,
   "metadata": {},
   "outputs": [],
   "source": [
    "########### SETTINGS ###########\n",
    "# choose from 2TU KDE 3P5\n",
    "ensemble = 'KDE'\n",
    "################################"
   ]
  },
  {
   "cell_type": "markdown",
   "metadata": {},
   "source": [
    "# Set up notebook  \n",
    "**Easiest:** load conda environment for which this notebook worked.  \n",
    "**Just use environment.yml (present in this folder) and follow** https://docs.conda.io/projects/conda/en/latest/user-guide/tasks/manage-environments.html#creating-an-environment-from-an-environment-yml-file"
   ]
  },
  {
   "cell_type": "code",
   "execution_count": 9,
   "metadata": {},
   "outputs": [],
   "source": [
    "from pathlib import Path         # Path objects to avoid inter-platform trouble in file paths\n",
    "import platform\n",
    "\n",
    "########## SET FILE PATHS ######################################\n",
    "# KEEP THE Path() FUNCTION AND USE FORWARD SLASHES '/' ON EVERY OPERATING SYSTEM\n",
    "savedir = Path('./figures/')      # folder for saving figures & other output; (empty) directory needed\n",
    "obsdir = Path('./data/')          # obs. data is loaded from here\n",
    "tuning_files_dir = Path('./0_methods_B_tuning_files/')   # location of parameters_XXX_sampled_after_constraints.csv files\n",
    "modeldir = Path('./modeloutput/') # model output is loaded from here\n",
    "#############################################\n",
    "\n",
    "## CHECK FILEPATHS\n",
    "# expand paths because np.loadtxt can't handle home directory ~\n",
    "savedir = savedir.expanduser()\n",
    "obsdir = obsdir.expanduser()\n",
    "modeldir = modeldir.expanduser()\n",
    "tuning_files_dir = tuning_files_dir.expanduser()\n",
    "def check_dir(path):\n",
    "    if not path.exists():\n",
    "        raise Exception('File path ' + str(path) + ' does not exit. Correct or create first.')\n",
    "check_dir(savedir)\n",
    "check_dir(obsdir)\n",
    "check_dir(modeldir)\n",
    "check_dir(tuning_files_dir)\n",
    "\n",
    "## IMPORT PACKAGES\n",
    "# first time install missing packages via $conda install numpy OR $pip3 install numpy (be consistent)\n",
    "import numpy as np\n",
    "import xarray as xr                            # $conda install -c anaconda -n cartopy xarray; needs some time\n",
    "import pandas as pd\n",
    "import importlib as imp                        # to import user-defined functions; renaming new name to name of deprecated package 'imp'\n",
    "import math                                    # math.e or math.exp()\n",
    "import xesmf as xe                             # regridding; install via conda-forge channel e.g. !conda install -c conda-forge xesmf -y\n",
    "\n",
    "# plot-related packages:\n",
    "%matplotlib inline\n",
    "import matplotlib\n",
    "import matplotlib.pyplot as plt\n",
    "import matplotlib.pylab as pylab\n",
    "import matplotlib.gridspec as gridspec\n",
    "from matplotlib.ticker import MultipleLocator\n",
    "matplotlib.rcParams['savefig.bbox'] = 'tight'  # cuts off whitespace\n",
    "import matplotlib.cm as cmp                    # colormaps\n",
    "import cmcrameri.cm as cmcr                    # better colour maps (https://www.fabiocrameri.ch/colourmaps/); $conda install -c conda-forge cmcrameri\n",
    "import cartopy.crs as ccrs\n",
    "import seaborn as sns\n",
    "\n",
    "## CHECK PYTHON VERSION\n",
    "if 1/2 == 0:\n",
    "    raise Exception(\"You are using python 2. Please use python 3 for a correct display of the figures.\") \n",
    "\n",
    "## PLOT SETTINGS\n",
    "# larger labels\n",
    "params = {'legend.fontsize': 'x-large',\n",
    "         'axes.labelsize': 'x-large',\n",
    "         'axes.titlesize':'x-large',\n",
    "         'xtick.labelsize':'x-large',\n",
    "         'ytick.labelsize':'x-large'}\n",
    "pylab.rcParams.update(params)\n",
    "\n",
    "# set a random run as control simulation; doesn't matter as only model grid is used\n",
    "fnctrl = modeldir / 'CTRL_NEWNR'\n",
    "\n",
    "# in the model output, simulation year 0 is called 1765 CE (pre-industrial)\n",
    "spinup_yr = 1765\n",
    "\n",
    "## INFORMATION ON ENSEMBLES\n",
    "# only used for ensemble 'KDE':\n",
    "kdes_runs_batch1 = list(range(0,20))+list(range(40,48))\n",
    "kdes_runs_batch2 = list(range(20,40))+list(range(48,56))\n",
    "kdes_runs_batch3 = list(range(56,84))\n",
    "\n",
    "all_run_nrs = {'2TU' : range(0,511),\n",
    "               '3P5' : range(0,3000),\n",
    "               'KDE' : kdes_runs_batch1+kdes_runs_batch2+kdes_runs_batch3}\n",
    "\n",
    "## LOAD USER-DEFINED FUNCTIONS\n",
    "import functions as f                          # my own functions; call via f.function_name()"
   ]
  },
  {
   "cell_type": "code",
   "execution_count": 4,
   "metadata": {},
   "outputs": [
    {
     "data": {
      "text/plain": [
       "<module 'functions' from '/Users/jeemijnscheen/Documents/PHD/PhD_notebooks/functions.py'>"
      ]
     },
     "execution_count": 4,
     "metadata": {},
     "output_type": "execute_result"
    }
   ],
   "source": [
    "imp.reload(f)   # shows how to reload functions after editing functions.py w/o kernel restart"
   ]
  },
  {
   "cell_type": "markdown",
   "metadata": {
    "tags": []
   },
   "source": [
    "# Load observations \n",
    "Dissolved Pa, Th from GEOTRACES IDP2021, Deng et al., Ng et al. and Pavia et al:"
   ]
  },
  {
   "cell_type": "code",
   "execution_count": 7,
   "metadata": {},
   "outputs": [
    {
     "name": "stderr",
     "output_type": "stream",
     "text": [
      "/Users/jeemijnscheen/Documents/PHD/PhD_notebooks/functions.py:700: DtypeWarning: Columns (21) have mixed types. Specify dtype option on import or set low_memory=False.\n",
      "  obs = pd.read_csv(fnobs, sep='\\t', header=39, dtype={'Cruise Aliases':'str'})\n"
     ]
    },
    {
     "name": "stdout",
     "output_type": "stream",
     "text": [
      "Column 21 has mixed types as it contains quality control variables, which can be int or string. Fine.\n",
      "Reduced dataset from  96184  rows to  2166  rows after deleting nans.\n",
      "Reduced dataset from  129  rows to  129  rows after deleting nans.\n",
      "Reduced dataset from  20  rows to  20  rows after deleting nans.\n",
      "Reduced dataset from  126  rows to  126  rows after deleting nans.\n",
      "Starting to match obs to nearest model coords... \n",
      "... finished matching.\n",
      "Performing a weighted average (weights=1/error) in cells with >1 obs, with error propagation.\n",
      "Function obs_to_model_grid(): done.\n"
     ]
    }
   ],
   "source": [
    "# load geotraces observations\n",
    "fnobs = obsdir / 'Pad_Thd_IDP2021.txt'\n",
    "obs_d_geotraces_incl_arctic = f.get_obs_geotraces(fnobs, dissolved_type='BOTTLE', \n",
    "                                                  drop_meta_data=True, good_quality=True)\n",
    "obs_d_geotraces = obs_d_geotraces_incl_arctic[~obs_d_geotraces_incl_arctic.cruise.isin(\n",
    "    ['GN01','GN02','GN03','GN04'])].copy()\n",
    "\n",
    "# load other dissolved observations from 3 additional studies\n",
    "obs_d_deng = f.get_obs_other(obsdir / 'Deng2018Pad_Thd_formatted_uBq_per_kg.csv') # is geovide\n",
    "obs_d_ng = f.get_obs_other(obsdir / 'Ng2020Pad_Thd_formatted_dpm_per_1000kg.csv')\n",
    "for var in ['Pad','Pad_err','Thd','Thd_err']:\n",
    "    # convert dpm/1000kg to uBq/kg; using 1 dpm = 1/60 * 1e6 uBq\n",
    "    obs_d_ng[var] = obs_d_ng[var] / 60.0 * 1e3  \n",
    "obs_d_pavia = f.get_obs_other(obsdir / 'Pavia2020Pad_Thd_formatted_uBq_per_kg.csv')\n",
    "\n",
    "# combine all dissolved data\n",
    "obs_d = pd.concat([obs_d_geotraces,obs_d_deng,obs_d_ng,obs_d_pavia], join='outer')\n",
    "obs_d_incl_arctic = pd.concat([obs_d_geotraces_incl_arctic,obs_d_deng,obs_d_ng\n",
    "                               ,obs_d_pavia], join='outer')  # for completeness; not used\n",
    "\n",
    "[obs_d, obs_d_ave, obs_d_ave_num] = f.obs_to_model_grid(obs_d, fnctrl)"
   ]
  },
  {
   "cell_type": "code",
   "execution_count": 23,
   "metadata": {},
   "outputs": [],
   "source": [
    "## define basins/cruises of interest\n",
    "# using obs_d since obs_p would only give a subset of that\n",
    "cruises_all = np.unique(obs_d.cruise)        # already excludes Arctic cruises\n",
    "\n",
    "# only 1 basin incl its SO sector\n",
    "cruises_Atl = ['GA02', 'GAc02', 'GA03', 'GAc03', 'GA10','GIPY04', 'GIPY05', \n",
    "               'deng', 'ng'] # deng=geovide\n",
    "cruises_Pac = ['GP16', 'GPc01', 'GSc02', 'pavia']\n",
    "\n",
    "# SO (Southern Ocean)\n",
    "cruises_SO = ['GSc02','GIPY04', 'GIPY05','GIpr05', 'pavia'] \n",
    "# chosing here the definition that GA10 is not SO\n",
    "\n",
    "# for testing purposes; not used\n",
    "cruises_Arctic = ['GN01', 'GN02', 'GN03', 'GN04']  \n",
    "cruises_Labr = ['GN02']"
   ]
  },
  {
   "cell_type": "markdown",
   "metadata": {
    "tags": []
   },
   "source": [
    "Particle-bound Pa, Th from GEOTRACES IDP2021:"
   ]
  },
  {
   "cell_type": "code",
   "execution_count": 24,
   "metadata": {},
   "outputs": [
    {
     "name": "stdout",
     "output_type": "stream",
     "text": [
      "Reduced dataset from  102686  rows to  860  rows after deleting nans.\n",
      "Reduced dataset from  1009  rows to  1003  rows after deleting nans.\n"
     ]
    }
   ],
   "source": [
    "# LOAD WITH NEW COLUMNS Pap, Thp THAT COMBINE SPT,LPT,TP and \n",
    "# extra columns Pap_type, Thp_type which keep track of the origin\n",
    "# also with only keeping good quality measurements\n",
    "fnobs = obsdir / 'Pap_Thp_IDP2021.txt'\n",
    "\n",
    "obs_p_incl_arctic = f.get_obs_geotraces(fnobs, drop_meta_data=True, p_type='combined', good_quality=True)\n",
    "obs_p = obs_p_incl_arctic[~obs_p_incl_arctic.cruise.isin(\n",
    "    ['GN01','GN02','GN03','GN04'])].copy()"
   ]
  },
  {
   "cell_type": "markdown",
   "metadata": {
    "tags": []
   },
   "source": [
    "# Load model run IDs and parameters\n",
    "Here we only load the run IDs (which determine the runnames) and the parameters.  \n",
    "It is combined into a table, to which we later add the MAEs etc.  \n",
    "We do not need to load the model runs here, but for efficiency this is done 1 by 1 during the calculations below.  "
   ]
  },
  {
   "cell_type": "code",
   "execution_count": 21,
   "metadata": {},
   "outputs": [],
   "source": [
    "# read in the csv on which the tuning runs were based\n",
    "# this already gives us columns run_ID and the 13 parameters that were adjusted\n",
    "# using var 'ensemble' as set on top of this notebook\n",
    "total_table = pd.read_csv(tuning_files_dir / ('parameters_'+ensemble+'_sampled_after_constraints.csv'))\n",
    "\n",
    "total_table.rename(columns={'# setID':'run_ID', '﻿BGC_PaThWs':'PaThWs', 'BGC_PaThWs':'PaThWs', \n",
    "                            'BGC_PaDesConst':'PaDesConst', 'BGC_ThDesConst':'ThDesConst', \n",
    "                            'BGC_sigmaPaPOC':'sigmaPaPOC', 'BGC_sigmaPaCa':'sigmaPaCa', \n",
    "                            'BGC_sigmaPaOp':'sigmaPaOp', 'BGC_sigmaPaDu':'sigmaPaDu', 'BGC_sigmaPaNeph':'sigmaPaNeph', \n",
    "                            'BGC_sigmaThPOC':'sigmaThPOC', 'BGC_sigmaThCa':'sigmaThCa', \n",
    "                            'BGC_sigmaThOp':'sigmaThOp', 'BGC_sigmaThDu':'sigmaThDu', 'BGC_sigmaThNeph':'sigmaThNeph'}, \n",
    "                   inplace=True) # BGC_PaThWs column name contained still DOF unicode char\n",
    "\n",
    "# add a column with the runname for completeness (corresponding parameter files, .out files and output files carry this name)\n",
    "#     N.B. technically speaking: with runname we mean parameterfilesname here. We dont mean executablename, \n",
    "#     since the executable is the same for the entire ensemble.\n",
    "total_table.insert(1, 'runname', [f.runname(n, ID=True, ensemble=ensemble) for n in total_table.run_ID]) # add new column runnames after column 1"
   ]
  },
  {
   "cell_type": "code",
   "execution_count": 22,
   "metadata": {},
   "outputs": [
    {
     "data": {
      "text/html": [
       "<div>\n",
       "<style scoped>\n",
       "    .dataframe tbody tr th:only-of-type {\n",
       "        vertical-align: middle;\n",
       "    }\n",
       "\n",
       "    .dataframe tbody tr th {\n",
       "        vertical-align: top;\n",
       "    }\n",
       "\n",
       "    .dataframe thead th {\n",
       "        text-align: right;\n",
       "    }\n",
       "</style>\n",
       "<table border=\"1\" class=\"dataframe\">\n",
       "  <thead>\n",
       "    <tr style=\"text-align: right;\">\n",
       "      <th></th>\n",
       "      <th>run_ID</th>\n",
       "      <th>runname</th>\n",
       "      <th>sigmaPaPOC</th>\n",
       "      <th>sigmaPaCa</th>\n",
       "      <th>sigmaPaOp</th>\n",
       "      <th>sigmaPaDu</th>\n",
       "      <th>sigmaPaNeph</th>\n",
       "      <th>sigmaThPOC</th>\n",
       "      <th>sigmaThCa</th>\n",
       "      <th>sigmaThOp</th>\n",
       "      <th>sigmaThDu</th>\n",
       "      <th>sigmaThNeph</th>\n",
       "    </tr>\n",
       "  </thead>\n",
       "  <tbody>\n",
       "    <tr>\n",
       "      <th>0</th>\n",
       "      <td>1000</td>\n",
       "      <td>3P51000_PI</td>\n",
       "      <td>0.041664</td>\n",
       "      <td>0.027694</td>\n",
       "      <td>0.003618</td>\n",
       "      <td>0.025605</td>\n",
       "      <td>0.007500</td>\n",
       "      <td>0.171562</td>\n",
       "      <td>0.108154</td>\n",
       "      <td>0.184250</td>\n",
       "      <td>0.007954</td>\n",
       "      <td>0.079776</td>\n",
       "    </tr>\n",
       "    <tr>\n",
       "      <th>1</th>\n",
       "      <td>1001</td>\n",
       "      <td>3P51001_PI</td>\n",
       "      <td>0.032777</td>\n",
       "      <td>0.009552</td>\n",
       "      <td>0.091571</td>\n",
       "      <td>0.009172</td>\n",
       "      <td>0.007582</td>\n",
       "      <td>0.058784</td>\n",
       "      <td>0.367628</td>\n",
       "      <td>0.110147</td>\n",
       "      <td>0.118523</td>\n",
       "      <td>0.001203</td>\n",
       "    </tr>\n",
       "    <tr>\n",
       "      <th>2</th>\n",
       "      <td>1002</td>\n",
       "      <td>3P51002_PI</td>\n",
       "      <td>0.030240</td>\n",
       "      <td>0.054182</td>\n",
       "      <td>0.179840</td>\n",
       "      <td>0.022319</td>\n",
       "      <td>0.020960</td>\n",
       "      <td>0.134542</td>\n",
       "      <td>1.716227</td>\n",
       "      <td>0.130726</td>\n",
       "      <td>0.103457</td>\n",
       "      <td>0.045642</td>\n",
       "    </tr>\n",
       "    <tr>\n",
       "      <th>3</th>\n",
       "      <td>1003</td>\n",
       "      <td>3P51003_PI</td>\n",
       "      <td>0.011025</td>\n",
       "      <td>0.064817</td>\n",
       "      <td>0.006240</td>\n",
       "      <td>0.034878</td>\n",
       "      <td>0.051747</td>\n",
       "      <td>0.235281</td>\n",
       "      <td>1.807028</td>\n",
       "      <td>0.076880</td>\n",
       "      <td>0.118701</td>\n",
       "      <td>0.054947</td>\n",
       "    </tr>\n",
       "    <tr>\n",
       "      <th>4</th>\n",
       "      <td>1004</td>\n",
       "      <td>3P51004_PI</td>\n",
       "      <td>0.030462</td>\n",
       "      <td>0.007852</td>\n",
       "      <td>0.149346</td>\n",
       "      <td>0.003379</td>\n",
       "      <td>0.002312</td>\n",
       "      <td>0.042884</td>\n",
       "      <td>0.332646</td>\n",
       "      <td>0.213407</td>\n",
       "      <td>0.034688</td>\n",
       "      <td>0.099854</td>\n",
       "    </tr>\n",
       "    <tr>\n",
       "      <th>...</th>\n",
       "      <td>...</td>\n",
       "      <td>...</td>\n",
       "      <td>...</td>\n",
       "      <td>...</td>\n",
       "      <td>...</td>\n",
       "      <td>...</td>\n",
       "      <td>...</td>\n",
       "      <td>...</td>\n",
       "      <td>...</td>\n",
       "      <td>...</td>\n",
       "      <td>...</td>\n",
       "      <td>...</td>\n",
       "    </tr>\n",
       "    <tr>\n",
       "      <th>2995</th>\n",
       "      <td>3995</td>\n",
       "      <td>3P53995_PI</td>\n",
       "      <td>0.020129</td>\n",
       "      <td>0.064073</td>\n",
       "      <td>0.158277</td>\n",
       "      <td>0.042453</td>\n",
       "      <td>0.050615</td>\n",
       "      <td>0.033920</td>\n",
       "      <td>1.832027</td>\n",
       "      <td>0.063243</td>\n",
       "      <td>0.046403</td>\n",
       "      <td>0.090363</td>\n",
       "    </tr>\n",
       "    <tr>\n",
       "      <th>2996</th>\n",
       "      <td>3996</td>\n",
       "      <td>3P53996_PI</td>\n",
       "      <td>0.024468</td>\n",
       "      <td>0.070220</td>\n",
       "      <td>0.134154</td>\n",
       "      <td>0.002926</td>\n",
       "      <td>0.007099</td>\n",
       "      <td>0.230160</td>\n",
       "      <td>1.076886</td>\n",
       "      <td>0.119036</td>\n",
       "      <td>0.044523</td>\n",
       "      <td>0.011031</td>\n",
       "    </tr>\n",
       "    <tr>\n",
       "      <th>2997</th>\n",
       "      <td>3997</td>\n",
       "      <td>3P53997_PI</td>\n",
       "      <td>0.017211</td>\n",
       "      <td>0.070603</td>\n",
       "      <td>0.045437</td>\n",
       "      <td>0.028234</td>\n",
       "      <td>0.011729</td>\n",
       "      <td>0.263597</td>\n",
       "      <td>0.944984</td>\n",
       "      <td>0.210549</td>\n",
       "      <td>0.018470</td>\n",
       "      <td>0.021141</td>\n",
       "    </tr>\n",
       "    <tr>\n",
       "      <th>2998</th>\n",
       "      <td>3998</td>\n",
       "      <td>3P53998_PI</td>\n",
       "      <td>0.025439</td>\n",
       "      <td>0.030531</td>\n",
       "      <td>0.172991</td>\n",
       "      <td>0.042291</td>\n",
       "      <td>0.023682</td>\n",
       "      <td>0.107265</td>\n",
       "      <td>0.898596</td>\n",
       "      <td>0.216407</td>\n",
       "      <td>0.023834</td>\n",
       "      <td>0.117130</td>\n",
       "    </tr>\n",
       "    <tr>\n",
       "      <th>2999</th>\n",
       "      <td>3999</td>\n",
       "      <td>3P53999_PI</td>\n",
       "      <td>0.014046</td>\n",
       "      <td>0.040937</td>\n",
       "      <td>0.153761</td>\n",
       "      <td>0.039787</td>\n",
       "      <td>0.050914</td>\n",
       "      <td>0.155717</td>\n",
       "      <td>0.428827</td>\n",
       "      <td>0.011437</td>\n",
       "      <td>0.006589</td>\n",
       "      <td>0.108380</td>\n",
       "    </tr>\n",
       "  </tbody>\n",
       "</table>\n",
       "<p>3000 rows × 12 columns</p>\n",
       "</div>"
      ],
      "text/plain": [
       "      run_ID     runname  sigmaPaPOC  sigmaPaCa  sigmaPaOp  sigmaPaDu  \\\n",
       "0       1000  3P51000_PI    0.041664   0.027694   0.003618   0.025605   \n",
       "1       1001  3P51001_PI    0.032777   0.009552   0.091571   0.009172   \n",
       "2       1002  3P51002_PI    0.030240   0.054182   0.179840   0.022319   \n",
       "3       1003  3P51003_PI    0.011025   0.064817   0.006240   0.034878   \n",
       "4       1004  3P51004_PI    0.030462   0.007852   0.149346   0.003379   \n",
       "...      ...         ...         ...        ...        ...        ...   \n",
       "2995    3995  3P53995_PI    0.020129   0.064073   0.158277   0.042453   \n",
       "2996    3996  3P53996_PI    0.024468   0.070220   0.134154   0.002926   \n",
       "2997    3997  3P53997_PI    0.017211   0.070603   0.045437   0.028234   \n",
       "2998    3998  3P53998_PI    0.025439   0.030531   0.172991   0.042291   \n",
       "2999    3999  3P53999_PI    0.014046   0.040937   0.153761   0.039787   \n",
       "\n",
       "      sigmaPaNeph  sigmaThPOC  sigmaThCa  sigmaThOp  sigmaThDu  sigmaThNeph  \n",
       "0        0.007500    0.171562   0.108154   0.184250   0.007954     0.079776  \n",
       "1        0.007582    0.058784   0.367628   0.110147   0.118523     0.001203  \n",
       "2        0.020960    0.134542   1.716227   0.130726   0.103457     0.045642  \n",
       "3        0.051747    0.235281   1.807028   0.076880   0.118701     0.054947  \n",
       "4        0.002312    0.042884   0.332646   0.213407   0.034688     0.099854  \n",
       "...           ...         ...        ...        ...        ...          ...  \n",
       "2995     0.050615    0.033920   1.832027   0.063243   0.046403     0.090363  \n",
       "2996     0.007099    0.230160   1.076886   0.119036   0.044523     0.011031  \n",
       "2997     0.011729    0.263597   0.944984   0.210549   0.018470     0.021141  \n",
       "2998     0.023682    0.107265   0.898596   0.216407   0.023834     0.117130  \n",
       "2999     0.050914    0.155717   0.428827   0.011437   0.006589     0.108380  \n",
       "\n",
       "[3000 rows x 12 columns]"
      ]
     },
     "execution_count": 22,
     "metadata": {},
     "output_type": "execute_result"
    }
   ],
   "source": [
    "total_table"
   ]
  },
  {
   "cell_type": "markdown",
   "metadata": {},
   "source": [
    "# Compute Mean Residence Time (MRT)\n",
    "Saved MRT is based on average of last 50 years of run. Also checks that in equilibrium: otherwise MRT=nan is added to total_table.  \n",
    "\n",
    "**Expected residence time:**   \n",
    "Marchal et al. 2000 & Siddall et al. 2005 cite Yu et al. 1996: Pa ~200 yr; Th ~30yr  \n",
    "Rempfer et al. 2017 (cites multiple): Pa 100-200 yr; Th few decades  \n",
    "**Missiaen et al. 2020 (cites Henderson et al. 2003): Pa 50-200 yr; Th 10-40 yr**  "
   ]
  },
  {
   "cell_type": "code",
   "execution_count": 13,
   "metadata": {},
   "outputs": [],
   "source": [
    "# ================= TAKES A WHILE (< 5 MIN)========================\n",
    "\n",
    "## Load MEAN RESIDENCE TIME for all runs\n",
    "runs = [f.runname(n, ensemble=ensemble) for n in all_run_nrs[ensemble]]\n",
    "modelled_mrt = f.load_var_multiple_runs(['Mrt_Pa_bac','Mrt_Th_bac'], \n",
    "                                        'timeseries_inst', modeldir, runs, spinup_yr=spinup_yr)  # cant execute (tuning output not provided)\n",
    "sec_to_yr = 1.0 / (365.25*24*3600)"
   ]
  },
  {
   "cell_type": "code",
   "execution_count": 14,
   "metadata": {},
   "outputs": [
    {
     "name": "stdout",
     "output_type": "stream",
     "text": [
      "equilibrium residence time of Pa: 67.7 yr\n",
      "equilibrium residence time of Th: 18.3 yr\n",
      "\n"
     ]
    },
    {
     "data": {
      "image/png": "[encoded data removed]",
      "text/plain": [
       "<Figure size 432x288 with 1 Axes>"
      ]
     },
     "metadata": {},
     "output_type": "display_data"
    }
   ],
   "source": [
    "# PLOT mean residence time for a specific run\n",
    "\n",
    "######### SETTINGS ############### \n",
    "n = 2  # run number of ensemble\n",
    "##################################\n",
    "\n",
    "ds = modelled_mrt[f.runname(all_run_nrs[ensemble][n], ensemble=ensemble)]\n",
    "\n",
    "sns.set_style('ticks')\n",
    "fig, ax = plt.subplots(1)\n",
    "\n",
    "ax.set_title('Mean residence time \\n run: ' + f.runname(all_run_nrs[ensemble][n], ensemble=ensemble))\n",
    "ax.plot(ds.Mrt_Pa_bac.time, ds.Mrt_Pa_bac * sec_to_yr, label='Pa')\n",
    "ax.plot(ds.Mrt_Th_bac.time, ds.Mrt_Th_bac * sec_to_yr, label='Th')\n",
    "ax.legend(loc='lower right')\n",
    "ax.set_xlabel('Simulation time [yr]')\n",
    "ax.set_ylabel('Mean residence time [yr]')\n",
    "plt.tight_layout()\n",
    "plt.savefig(savedir / ('residence_time_run_' + f.runname(all_run_nrs[ensemble][n], ensemble=ensemble) + '.pdf'))\n",
    "\n",
    "# diagnose residence time at last 100 years\n",
    "print('equilibrium residence time of Pa:', np.round((ds.Mrt_Pa_bac[-100:-1] * sec_to_yr).mean().item(),1), 'yr')\n",
    "print('equilibrium residence time of Th:', np.round((ds.Mrt_Th_bac[-100:-1] * sec_to_yr).mean().item(),1), 'yr\\n')"
   ]
  },
  {
   "cell_type": "code",
   "execution_count": 15,
   "metadata": {},
   "outputs": [
    {
     "name": "stdout",
     "output_type": "stream",
     "text": [
      "All 84 runs were succesfull IF this is the first print statement. Done.\n"
     ]
    }
   ],
   "source": [
    "# ================= TAKES A WHILE (< 5 MIN)========================\n",
    "\n",
    "## check if runs are in equilibrium & insert MRT to table\n",
    "\n",
    "###### SETTINGS #########################\n",
    "# what is the 'internal variability' of the above curve? (trial and error by eye gives 0.1 yr)\n",
    "delta_significant = 0.1  # in yr; a difference is significant if > delta_significant\n",
    "# hardcoded: 50 yr average of MRT at end is saved\n",
    "#########################################\n",
    "\n",
    "# fill lists with information on the way\n",
    "mrts_Pa = []\n",
    "mrts_Th = []\n",
    "for n in all_run_nrs[ensemble]:\n",
    "    ds = modelled_mrt[f.runname(n, ensemble=ensemble)]\n",
    "    # t1 is 200 yr before end;     t2 is at end (50 yr average)\n",
    "    mrt_Pa_t1 = ds.Mrt_Pa_bac.isel(time=-200) * sec_to_yr\n",
    "    mrt_Pa_t2 = ds.Mrt_Pa_bac.isel(time=slice(-50,-1)).mean() * sec_to_yr\n",
    "    mrt_Th_t1 = ds.Mrt_Th_bac.isel(time=-200) * sec_to_yr \n",
    "    mrt_Th_t2 = ds.Mrt_Th_bac.isel(time=slice(-50,-1)).mean() * sec_to_yr\n",
    "\n",
    "    if abs(mrt_Pa_t2 - mrt_Pa_t1) < delta_significant:\n",
    "        # simulation ran into equilibrium\n",
    "        mrts_Pa.append(mrt_Pa_t2.item())\n",
    "        mrts_Th.append(mrt_Th_t2.item())\n",
    "    else:\n",
    "        # save nan instead as a sign that this run is not in equilibrium\n",
    "        mrts_Pa.append(np.nan)\n",
    "        mrts_Th.append(np.nan)        \n",
    "        print(\"MRT is not constant i.e. no equilibrium for run nr\", n, \"which has runname\", f.runname(n,ensemble=ensemble))\n",
    "        \n",
    "print('All',len(all_run_nrs[ensemble]),'runs were succesfull IF this is the first print statement. Done.')\n",
    "# all runs of 2TU are in equilibrium!\n",
    "\n",
    "# add resulting MRTs to table\n",
    "total_table.insert(2, 'MRT_Pa', mrts_Pa) # add new column MRT_Pa after column 2\n",
    "total_table.insert(3, 'MRT_Th', mrts_Th) "
   ]
  },
  {
   "cell_type": "markdown",
   "metadata": {},
   "source": [
    "- Ensemble 2TU: residence times have the correct range inside them (but span more)\n",
    "- Ensemble 3TU: residence times have the correct range inside them (but span more)"
   ]
  },
  {
   "cell_type": "code",
   "execution_count": 17,
   "metadata": {},
   "outputs": [],
   "source": [
    "## delete objects again to save memory\n",
    "del modelled_mrt"
   ]
  },
  {
   "cell_type": "markdown",
   "metadata": {},
   "source": [
    "# Compute median"
   ]
  },
  {
   "cell_type": "code",
   "execution_count": 18,
   "metadata": {},
   "outputs": [
    {
     "name": "stdout",
     "output_type": "stream",
     "text": [
      "median of Pad obs: 2.592 uBq/kg\n",
      "median of Thd obs: 4.737377 uBq/kg\n",
      "median of Pap obs: 0.030676 uBq/kg\n",
      "median of Thp obs: 0.5572295 uBq/kg\n",
      "\n"
     ]
    }
   ],
   "source": [
    "# COMPUTE median\n",
    "####### TAKES CA. 5 MINS ########\n",
    "\n",
    "######### SETTINGS: ########\n",
    "run_nrs = all_run_nrs[ensemble]    # defined at top of notebook\n",
    "############################\n",
    "\n",
    "# print observations median of Pad, Thd, Pap, Thp as comparison\n",
    "print('median of Pad obs:', obs_d.Pad.median(), 'uBq/kg')\n",
    "print('median of Thd obs:', obs_d.Thd.median(), 'uBq/kg')\n",
    "if 'obs_p' in globals():\n",
    "    print('median of Pap obs:', obs_p.Pap.median(), 'uBq/kg')\n",
    "    print('median of Thp obs:', obs_p.Thp.median(), 'uBq/kg\\n')\n",
    "\n",
    "## load all model data\n",
    "runnames = [f.runname(nr=i, ensemble=ensemble, ID=False) for i in run_nrs]\n",
    "load_vars = ['Pad','Thd','Pap','Thp','rho_SI']\n",
    "data_fulls = f.load_var_multiple_runs(variables=load_vars, file_type='full_ave', \n",
    "                                      folder=modeldir, runs=runnames)  # cant execute (tuning output not provided); still model units of dpm/m3\n",
    "\n",
    "## loop over runs and fill information on the way\n",
    "median_Pad = []\n",
    "median_Thd = []\n",
    "median_Pap = []\n",
    "median_Thp = []\n",
    "for i,n in enumerate(run_nrs):\n",
    "    run = f.runname(nr=n, ensemble=ensemble, ID=False)\n",
    "    \n",
    "    # convert model units dpm/m3 to uBq/kg\n",
    "    obj = data_fulls[run].isel(time=-1)                                 # output of this run, still in dpm/m3\n",
    "    obj = f.model_to_sw_unit(obj, data_fulls[run].rho_SI.isel(time=-1)) # to uBq/kg\n",
    "\n",
    "    # compute and save median\n",
    "    median_Pad.append(obj.Pad.median().item())\n",
    "    median_Thd.append(obj.Thd.median().item())\n",
    "    median_Pap.append(obj.Pap.median().item())\n",
    "    median_Thp.append(obj.Thp.median().item())\n",
    "    \n",
    "# add results to table\n",
    "total_table.insert(4, 'median_Pad', median_Pad)\n",
    "total_table.insert(5, 'median_Thd', median_Thd)\n",
    "total_table.insert(6, 'median_Pap', median_Pap)\n",
    "total_table.insert(7, 'median_Thp', median_Thp)\n",
    "\n",
    "# delete (large) datasets again to save memory\n",
    "del data_fulls"
   ]
  },
  {
   "cell_type": "markdown",
   "metadata": {},
   "source": [
    "# Compute MAEs\n",
    "We compute Mean Absolute Errors as a measure of how well each model run fits the observations. MAEs have the advantage over RMSEs to be less influenced by outliers, and are a bit more intuitive to interpret because they have no square root.  \n",
    "\n",
    "Formula:  \n",
    "$$MAE = \\frac{\\sum_{l=1}^N a_l \\cdot |sim_l - obs_l|}{\\sum_{l=1}^N a_l}$$\n",
    "where $|x|$ is the absolute value of $x$, and $l$ is a model grid cell (lat, lon, z) where observations are present. If multiple observations occur in 1 grid cell, they are averaged and the result is saved as $obs_l$ (obs_ave in the code). Output of model grid cells where no observations are present is ignored. The unit of MAE is the same as the unit of obs/models.   \n",
    "\n",
    "Weights:  \n",
    "We weight the MAE by the uncertainty in the observations:  \n",
    "$$a_l = \\frac{1}{err_l}$$\n",
    "where $err_l$ is the uncertainty reported in the observations. Note that $a_l \\to \\infty$ when $err_l\\to 0$, but we checked that none of the errors in Pad and Thd is literally 0. \n",
    "This formula is used in the function find_weights().  \n",
    "\n",
    "We will now use obs_ave together with every model run via the get_sim() function to compute the MAE of model-obs misfit. Care is taken that both objects are pandas dataframes (both xarray would have been possible as well but not implemented). The MAE is weighted by observational uncertainties, as described in the formulas above. We also provide the unweighted MAEs (not used in the paper)."
   ]
  },
  {
   "cell_type": "code",
   "execution_count": 43,
   "metadata": {},
   "outputs": [
    {
     "name": "stderr",
     "output_type": "stream",
     "text": [
      "/Users/jeemijnscheen/Documents/PHD/PhD_notebooks/functions.py:700: DtypeWarning: Columns (21) have mixed types. Specify dtype option on import or set low_memory=False.\n",
      "  obs = pd.read_csv(fnobs, sep='\\t', header=39, dtype={'Cruise Aliases':'str'})\n"
     ]
    },
    {
     "name": "stdout",
     "output_type": "stream",
     "text": [
      "Column 21 has mixed types as it contains quality control variables, which can be int or string. Fine.\n",
      "Reduced dataset from  96184  rows to  2166  rows after deleting nans.\n",
      "Reduced dataset from  129  rows to  129  rows after deleting nans.\n",
      "Reduced dataset from  20  rows to  20  rows after deleting nans.\n",
      "Reduced dataset from  126  rows to  126  rows after deleting nans.\n",
      "Starting to match obs to nearest model coords... \n",
      "... finished matching.\n",
      "Performing a weighted average (weights=1/error) in cells with >1 obs, with error propagation.\n",
      "Function obs_to_model_grid(): done.\n",
      "Reduced dataset from  102686  rows to  860  rows after deleting nans.\n",
      "Reduced dataset from  1009  rows to  1003  rows after deleting nans.\n",
      "Starting to match obs to nearest model coords... \n",
      "... finished matching.\n",
      "Performing a weighted average (weights=1/error) in cells with >1 obs, with error propagation.\n",
      "Function obs_to_model_grid(): done.\n"
     ]
    }
   ],
   "source": [
    "## prepare: load obs \n",
    "\n",
    "## load observations again to be sure to have the right version / desired subset\n",
    "\n",
    "# dissolved\n",
    "# load geotraces observations\n",
    "fnobs = obsdir / 'Pad_Thd_IDP2021.txt'\n",
    "obs_d_geotraces_incl_arctic = f.get_obs_geotraces(fnobs, dissolved_type='BOTTLE', \n",
    "                                                  drop_meta_data=True, good_quality=True)\n",
    "obs_d_geotraces = obs_d_geotraces_incl_arctic[~obs_d_geotraces_incl_arctic.cruise.isin(\n",
    "    ['GN01','GN02','GN03','GN04'])].copy()\n",
    "\n",
    "# load other dissolved observations from 3 additional studies\n",
    "obs_d_deng = f.get_obs_other(obsdir / 'Deng2018Pad_Thd_formatted_uBq_per_kg.csv') # is geovide\n",
    "obs_d_ng = f.get_obs_other(obsdir / 'Ng2020Pad_Thd_formatted_dpm_per_1000kg.csv')\n",
    "for var in ['Pad','Pad_err','Thd','Thd_err']:\n",
    "    # convert dpm/1000kg to uBq/kg; using 1 dpm = 1/60 * 1e6 uBq\n",
    "    obs_d_ng[var] = obs_d_ng[var] / 60.0 * 1e3  \n",
    "obs_d_pavia = f.get_obs_other(obsdir / 'Pavia2020Pad_Thd_formatted_uBq_per_kg.csv')\n",
    "\n",
    "# combine all dissolved data\n",
    "obs_d = pd.concat([obs_d_geotraces,obs_d_deng,obs_d_ng,obs_d_pavia], join='outer')\n",
    "obs_d_incl_arctic = pd.concat([obs_d_geotraces_incl_arctic,obs_d_deng,obs_d_ng\n",
    "                               ,obs_d_pavia], join='outer')  # for completeness; not used\n",
    "[obs_d, obs_d_ave, obs_d_ave_num] = f.obs_to_model_grid(obs_d, fnctrl)\n",
    "\n",
    "# particle-bound\n",
    "fnobs = obsdir / 'Pap_Thp_IDP2021.txt'\n",
    "obs_p = f.get_obs_geotraces(fnobs, drop_meta_data=True, p_type='combined', good_quality=True)\n",
    "[obs_p, obs_p_ave, obs_p_ave_num] = f.obs_to_model_grid(obs_p, fnctrl) # this accidentally still contained the Arctic (only data for GN01 Thp, which have reasonable values)"
   ]
  },
  {
   "cell_type": "code",
   "execution_count": null,
   "metadata": {},
   "outputs": [],
   "source": [
    "## prepare: compute weights\n",
    "\n",
    "# load one example run; only used for volume of grid cells\n",
    "runid = all_run_nrs[ensemble][0] + 1000  # must be ID so plus 1000\n",
    "    \n",
    "# dissolved\n",
    "[res_d_table, res_entire] = f.get_sim(memberid=runid, path=modeldir, obs_ave=obs_d_ave, \n",
    "                                      ensemble=ensemble, convert_unit_to_obs=True) # cant execute (tuning output not provided)\n",
    "# find weights\n",
    "[weights_unc_Pad, weights_unc_Thd] = f.find_weights(obs_d_ave, res_entire, volume=False, uncertainty=True)\n",
    "\n",
    "# particle-bound \n",
    "# => has other res_table since obs are at other locations: other model grid cells are selected\n",
    "[res_p_table, res_entire] = f.get_sim(memberid=runid, path=modeldir, obs_ave=obs_p_ave, \n",
    "                                      ensemble=ensemble, convert_unit_to_obs=True) # cant execute (tuning output not provided)\n",
    "# find weights\n",
    "[weights_unc_Pap, weights_unc_Thp] = f.find_weights(obs_p_ave, res_entire, volume=False, uncertainty=True)"
   ]
  },
  {
   "cell_type": "markdown",
   "metadata": {},
   "source": [
    "### Get MAE for 1 example run"
   ]
  },
  {
   "cell_type": "code",
   "execution_count": 25,
   "metadata": {},
   "outputs": [],
   "source": [
    "# first load 1 model run\n",
    "\n",
    "###### SETTINGS #########################\n",
    "n = 5  # set run_nr\n",
    "#########################################\n",
    "\n",
    "runid = all_run_nrs[ensemble][n] + 1000   # must be ID so plus 1000\n",
    "    \n",
    "[res_d_table, res_entire] = f.get_sim(memberid=runid, path=modeldir, obs_ave=obs_d_ave, \n",
    "                                      ensemble=ensemble, convert_unit_to_obs=True)\n",
    "[res_p_table, res_entire] = f.get_sim(memberid=runid, path=modeldir, obs_ave=obs_p_ave, \n",
    "                                      ensemble=ensemble, convert_unit_to_obs=True)\n",
    "# res_entire gives entire model data in xarray(all 3D variables including also Pad, Thd, Pap, Thp)\n",
    "# res_d/p_table gives pandas dataframe/table with columns Pad,Thd resp. Pap,Thp; only containing grid cells where obs are \n",
    "#               available; using index of obs_ave (column names of obs_ave determine whether Pad,Thd or Pap,Thp is of interest)"
   ]
  },
  {
   "cell_type": "code",
   "execution_count": null,
   "metadata": {},
   "outputs": [],
   "source": [
    "# compute MAE for that example run without weights\n",
    "# NOTE: not used in the paper, but provided as well\n",
    "print('MAE without weights for runid', runid,':')\n",
    "print('Pad:')\n",
    "this_MAE = f.calc_mae(model=res_d_table.Pad, observation=obs_d_ave.Pad, weights=None, verbose=True)\n",
    "print('Thd:')\n",
    "this_MAE = f.calc_mae(model=res_d_table.Thd, observation=obs_d_ave.Thd, weights=None, verbose=True)\n",
    "print('Pap:')\n",
    "this_MAE = f.calc_mae(model=res_p_table.Pap, observation=obs_p_ave.Pap, weights=None, verbose=True)\n",
    "print('Thp:')\n",
    "this_MAE = f.calc_mae(model=res_p_table.Thp, observation=obs_p_ave.Thp, weights=None, verbose=True)\n",
    "print('\\n')\n",
    "\n",
    "# NOTE: version used in the paper\n",
    "print('MAE with uncertainty weights for runid', runid,':')\n",
    "print('Pad:')\n",
    "this_MAE = f.calc_mae(model=res_d_table.Pad, observation=obs_d_ave.Pad, weights=weights_unc_Pad, verbose=True)\n",
    "print('Thd:')\n",
    "this_MAE = f.calc_mae(model=res_d_table.Thd, observation=obs_d_ave.Thd, weights=weights_unc_Thd, verbose=True)\n",
    "print('Pap:')\n",
    "this_MAE = f.calc_mae(model=res_p_table.Pap, observation=obs_p_ave.Pap, weights=weights_unc_Pap, verbose=True)\n",
    "print('Thp:')\n",
    "this_MAE = f.calc_mae(model=res_p_table.Thp, observation=obs_p_ave.Thp, weights=weights_unc_Thp, verbose=True)"
   ]
  },
  {
   "cell_type": "markdown",
   "metadata": {},
   "source": [
    "## Get MAE for all runs"
   ]
  },
  {
   "cell_type": "code",
   "execution_count": 25,
   "metadata": {},
   "outputs": [
    {
     "name": "stdout",
     "output_type": "stream",
     "text": [
      "--- NUMBER OF TASKS: GOING TO COMPUTE 2 different versions of MAEs (actually x 4 for Pad,Thd,Pap,Thp).\n",
      "Performing a weighted average (weights=1/error) in cells with >1 obs, with error propagation.\n",
      "Function obs_to_model_grid(): done.\n",
      "Performing a weighted average (weights=1/error) in cells with >1 obs, with error propagation.\n",
      "Function obs_to_model_grid(): done.\n",
      "Going to compute MAE_Pad, MAE_Thd, MAE_Pap, MAE_Thp for 84 model runs.\n",
      "--- FINISHED TASK NUMBER 1  ---\n",
      "Performing a weighted average (weights=1/error) in cells with >1 obs, with error propagation.\n",
      "Function obs_to_model_grid(): done.\n",
      "Performing a weighted average (weights=1/error) in cells with >1 obs, with error propagation.\n",
      "Function obs_to_model_grid(): done.\n",
      "Going to compute MAE_Pad, MAE_Thd, MAE_Pap, MAE_Thp for 84 model runs.\n",
      "--- FINISHED TASK NUMBER 2  ---\n",
      "...FINISHED!\n"
     ]
    }
   ],
   "source": [
    "######### COMPUTE ALL DESIRED MAEs: TAKES A LONG WHILE ###########\n",
    "\n",
    "###### SETTINGS ######\n",
    "# define all MAEs to be computed as fourplets and name them (without the _Pad, _Thd)\n",
    "# fourplets (cruises, wo_surface, weighted_vol, weighted_unc) \n",
    "MAE_tasks = {'MAE_unc_weights':(cruises_all,False,False,True), \n",
    "             'MAE_no_weights':(cruises_all,False,False,False)}\n",
    "        \n",
    "model_run_nrs = all_run_nrs[ensemble]    # takes for 2TU: ca. 10 min x number of tasks\n",
    "######################\n",
    "\n",
    "modelrunIDs = np.asarray(model_run_nrs) + 1000  # must be ID so plus 1000\n",
    "\n",
    "print('--- NUMBER OF TASKS: GOING TO COMPUTE', len(MAE_tasks), 'different versions of MAEs (actually x 4 for Pad,Thd,Pap,Thp).')\n",
    "\n",
    "MAE_results = {}\n",
    "counter = 0\n",
    "for key in MAE_tasks:\n",
    "    (cruises, wo_surface, weighted_vol, weighted_unc) = MAE_tasks[key]\n",
    "    \n",
    "    [junk, this_obs_d_ave, junk2] = f.subset_of_obs(obs_d, fnctrl, cruises=cruises, wo_surface=wo_surface)\n",
    "    [junk, this_obs_p_ave, junk2] = f.subset_of_obs(obs_p, fnctrl, cruises=cruises, wo_surface=wo_surface)\n",
    "    [MAEs_task_Pad, MAEs_task_Thd, MAEs_task_Pap, MAEs_task_Thp] = f.calc_all_MAEs(this_obs_d_ave, this_obs_p_ave, \n",
    "                                                                                   modelrunIDs=modelrunIDs, modeldir=modeldir,\n",
    "                                                                                   ensemble=ensemble, weighted_vol=weighted_vol, \n",
    "                                                                                   weighted_unc=weighted_unc, verbose=False) # cant execute (tuning output not provided)\n",
    "    MAE_results[key+'_Pad'] = MAEs_task_Pad\n",
    "    MAE_results[key+'_Thd'] = MAEs_task_Thd\n",
    "    MAE_results[key+'_Pap'] = MAEs_task_Pap\n",
    "    MAE_results[key+'_Thp'] = MAEs_task_Thp\n",
    "    \n",
    "    counter += 1\n",
    "    print('--- FINISHED TASK NUMBER', counter, ' ---')\n",
    "\n",
    "print('...FINISHED!')\n",
    "# if ERROR: cruises objects are defined a few cells above"
   ]
  },
  {
   "cell_type": "markdown",
   "metadata": {},
   "source": [
    "# Export result\n",
    "The next notebook will explore the result to find the best fits."
   ]
  },
  {
   "cell_type": "code",
   "execution_count": 29,
   "metadata": {},
   "outputs": [],
   "source": [
    "# add all results to total_table\n",
    "col = 8  # start inserting from column 8, because the last column inserted above is at position 7\n",
    "\n",
    "for key in MAE_results:\n",
    "    total_table.insert(col, key, MAE_results[key])\n",
    "    col += 1"
   ]
  },
  {
   "cell_type": "code",
   "execution_count": 31,
   "metadata": {},
   "outputs": [],
   "source": [
    "# export table to csv\n",
    "total_table.to_csv(savedir / ('total_table_ensemble_' + ensemble + '.csv'), index=False)"
   ]
  },
  {
   "cell_type": "code",
   "execution_count": null,
   "metadata": {},
   "outputs": [],
   "source": []
  }
 ],
 "metadata": {
  "celltoolbar": "Slideshow",
  "hide_input": false,
  "kernelspec": {
   "display_name": "base",
   "language": "python",
   "name": "python3"
  },
  "language_info": {
   "codemirror_mode": {
    "name": "ipython",
    "version": 3
   },
   "file_extension": ".py",
   "mimetype": "text/x-python",
   "name": "python",
   "nbconvert_exporter": "python",
   "pygments_lexer": "ipython3",
   "version": "3.8.15"
  },
  "toc": {
   "colors": {
    "hover_highlight": "#DAA520",
    "running_highlight": "#FF0000",
    "selected_highlight": "#FFD700"
   },
   "moveMenuLeft": true,
   "nav_menu": {
    "height": "63px",
    "width": "252px"
   },
   "navigate_menu": true,
   "number_sections": true,
   "sideBar": true,
   "threshold": 4,
   "toc_cell": false,
   "toc_section_display": "block",
   "toc_window_display": false
  }
 },
 "nbformat": 4,
 "nbformat_minor": 4
}
