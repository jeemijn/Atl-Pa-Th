{
 "cells": [
  {
   "cell_type": "markdown",
   "metadata": {
    "slideshow": {
     "slide_type": "slide"
    },
    "tags": []
   },
   "source": [
    "<a id='top'></a>\n",
    "\n",
    "### 0_methods_B_tuning_3_find_best_fit.ipynb  \n",
    "\n",
    "# Tuning: find best fit\n",
    "This notebook does the postprocessing of the tuning runs and computes Mean Absolute Erorrs (MAEs) of model minus observations.  \n",
    "They are saved in a total_table file together with the median, mean residence time (MRT) and k_ads_Pa_sum, k_ads_Th_sum as measures of total scavenging.  \n",
    "Further analysis is done in tuning_analyse.ipynb to find the best fit run.\n",
    "\n",
    "Steps: \n",
    "- **[Set up notebook](#setup-notebook)**\n",
    "- **[Load observations dissolved - quick](#load-obsd)**\n",
    "- **[Load observations particle-bound - quick](#load-obsp)**\n",
    "- [Explore observations geotraces dissolved and explain choices](#explore-obsd) \n",
    "- [Explore observations geotraces particle-bound and explain choices](#explore-obsp) \n",
    "- **[Load model runs - quick](#load-model)**\n",
    "- [Explore model runs](#explore-model)\n",
    "- **[Compute MRT](#MRT)** \n",
    "- **[Compute median and k_ads_sum](#median-kads)** \n",
    "- **[Compute RMSEs of model-obs misfit](#RMSE)** \n",
    "- **[Compute MAEs of model-obs misfit](#MAE)**\n",
    "- **[Export result](#export)**  \n",
    "- Find best fit: see tuning_analyse.ipynb\n",
    "\n",
    "**This notebook can be run/read by only executing the bold parts**"
   ]
  },
  {
   "cell_type": "code",
   "execution_count": 1,
   "metadata": {},
   "outputs": [],
   "source": [
    "########### SETTINGS ###########\n",
    "# set ensemble to 1 of: 1TU 2TU 3TU PAR 1P5 2P5 KDE\n",
    "ensemble = '3P5'\n",
    "################################"
   ]
  },
  {
   "cell_type": "markdown",
   "metadata": {},
   "source": [
    "<a id='setup-notebook'></a>\n",
    "# Set up notebook\n",
    "[go to top](#top)"
   ]
  },
  {
   "cell_type": "markdown",
   "metadata": {},
   "source": [
    "**Easiest:** load conda environment for which this notebook worked.  \n",
    "**Just use environment.yml (present in this folder) and follow** https://docs.conda.io/projects/conda/en/latest/user-guide/tasks/manage-environments.html#creating-an-environment-from-an-environment-yml-file"
   ]
  },
  {
   "cell_type": "code",
   "execution_count": 2,
   "metadata": {},
   "outputs": [],
   "source": [
    "from pathlib import Path         # Path objects to avoid inter-platform trouble in file paths\n",
    "import platform\n",
    "\n",
    "########## SET FILE PATHS ######################################\n",
    "\n",
    "# KEEP THE Path() FUNCTION AND USE FORWARD SLASHES '/' ON EVERY OPERATING SYSTEM\n",
    "savedir = Path('./figures/')      # folder for saving figures & other output; (empty) directory needed\n",
    "obsdir = Path('./data/')          # obs. data is loaded from here\n",
    "modeldir = Path('./modeloutput/') # model output is loaded from here\n",
    "\n",
    "## OR define modeldir depending on which system you are working on:\n",
    "# if platform.system() == \"Darwin\":   # on Mac (e.g. laptop)\n",
    "#    modeldir = Path('~/Documents/PHD/Bern3D/results')\n",
    "# elif platform.system() == \"Linux\":  # on linux (e.g. cluster)\n",
    "#    modeldir = Path('/storage/climatestor/Bern3dLPX/scheen/b3d_results')\n",
    "# else:\n",
    "#    raise Exception(\"unknown system\", platform.system())\n",
    "\n",
    "#############################################\n",
    "\n",
    "## CHECK FILEPATHS\n",
    "# expand paths because np.loadtxt can't handle home directory ~\n",
    "savedir = savedir.expanduser()\n",
    "obsdir = obsdir.expanduser()\n",
    "modeldir = modeldir.expanduser()\n",
    "def check_dir(path):\n",
    "    if not path.exists():\n",
    "        raise Exception('File path ' + str(path) + ' does not exit. Correct or create first.')\n",
    "check_dir(savedir)\n",
    "check_dir(obsdir)\n",
    "check_dir(modeldir)\n",
    "\n",
    "## IMPORT PACKAGES\n",
    "# first time install missing packages via $conda install numpy OR $pip3 install numpy (be consistent)\n",
    "import numpy as np\n",
    "import xarray as xr                            # $conda install -c anaconda -n cartopy xarray; needs some time\n",
    "import pandas as pd\n",
    "import importlib as imp                        # to import user-defined functions; renaming new name to name of deprecated package 'imp'\n",
    "import math                                    # math.e or math.exp()\n",
    "import xesmf as xe                             # regridding; install via conda-forge channel e.g. !conda install -c conda-forge xesmf -y\n",
    "\n",
    "# plot-related packages:\n",
    "%matplotlib inline\n",
    "import matplotlib\n",
    "import matplotlib.pyplot as plt\n",
    "import matplotlib.pylab as pylab\n",
    "import matplotlib.gridspec as gridspec\n",
    "from matplotlib.ticker import MultipleLocator\n",
    "matplotlib.rcParams['savefig.bbox'] = 'tight'  # cuts off whitespace\n",
    "import matplotlib.cm as cmp                    # colormaps\n",
    "import cmcrameri.cm as cmcr                    # better colour maps (https://www.fabiocrameri.ch/colourmaps/); $conda install -c conda-forge cmcrameri\n",
    "import cartopy.crs as ccrs\n",
    "import seaborn as sns\n",
    "\n",
    "## CHECK PYTHON VERSION\n",
    "if 1/2 == 0:\n",
    "    raise Exception(\"You are using python 2. Please use python 3 for a correct display of the figures.\") \n",
    "\n",
    "## PLOT SETTINGS\n",
    "# larger labels\n",
    "params = {'legend.fontsize': 'x-large',\n",
    "         'axes.labelsize': 'x-large',\n",
    "         'axes.titlesize':'x-large',\n",
    "         'xtick.labelsize':'x-large',\n",
    "         'ytick.labelsize':'x-large'}\n",
    "pylab.rcParams.update(params)\n",
    "\n",
    "\n",
    "# set a random run (the 1st run actually) as control simulation; doesn't matter as only model grid is used\n",
    "fnctrl = modeldir / '1TU1000_PI'  \n",
    "\n",
    "# in the model output, simulation year 0 is called 1765 CE (pre-industrial)\n",
    "spinup_yr = 1765\n",
    "\n",
    "## INFORMATION ON ENSEMBLES\n",
    "# only used for ensemble '3TU'\n",
    "all_runs_ws = range(0,14)\n",
    "all_runs_kdes = range(100,118)\n",
    "all_runs_sigmas_poc = range(200,221)\n",
    "all_runs_sigmas_ca = range(300,319)\n",
    "all_runs_sigmas_op = range(400,422)\n",
    "all_runs_sigmas_du = range(500,521)\n",
    "all_runs_sigmas_ne = range(600,619)\n",
    "all_runs_all_sigmas = range(701,711)   # varying all sigmas from 'min of obs range' to 'max of obs range +50%'\n",
    "all_runs_try_combined = range(800,810) # manual choices that combine optimal parameters that were result of the other 3TU runs\n",
    "\n",
    "# only used for ensemble 'KDE':\n",
    "kdes_runs_batch1 = list(range(0,20))+list(range(40,48))\n",
    "kdes_runs_batch2 = list(range(20,40))+list(range(48,56))\n",
    "kdes_runs_batch3 = list(range(56,84))\n",
    "\n",
    "all_run_nrs = {'1TU' : range(0,2951),\n",
    "               '2TU' : range(0,511),\n",
    "               '3TU' : list(all_runs_ws)+list(all_runs_kdes)+list(all_runs_sigmas_poc)+list(all_runs_sigmas_ca)+list(all_runs_sigmas_op)\n",
    "                       +list(all_runs_sigmas_du)+list(all_runs_sigmas_ne)+list(all_runs_all_sigmas)+list(all_runs_try_combined),\n",
    "               'PAR' : ['_WS0000', '_WS0100', '_WS0500', '_WS1000', '_WS1500', '_WS2000', '_WS3000', '_WS4000', '_WS5000', \n",
    "                        '_PTCA00', '_PTCA01', '_PTCA02', '_PTCA03', '_PTCA04', '_PTCA05', '_PTCA06', '_PTCA07', '_PTCA08'],\n",
    "               '1P5' : range(0,3006),\n",
    "               '2P5' : range(0,3000),\n",
    "               '3P5' : range(0,3000),\n",
    "               'KDE' : kdes_runs_batch1+kdes_runs_batch2+kdes_runs_batch3}\n",
    "# NOTE FOR 'PAR' ENSEMBLE: for this ensemble I messed up the naming. It went as: PAR_WS0001 and PAR_PTCA01\n",
    "# quick fixes are implemented inside the functions\n",
    "# it can be replaced now by 3TU, which also varies Ws and sigmajCa, but with other sigmas fixed at different vals that seem a bit better\n",
    "\n",
    "## LOAD USER-DEFINED FUNCTIONS\n",
    "import functions as f                          # my own functions; call via f.function_name()"
   ]
  },
  {
   "cell_type": "code",
   "execution_count": null,
   "metadata": {},
   "outputs": [],
   "source": [
    "imp.reload(f)   # shows how to reload functions after editing functions.py w/o kernel restart"
   ]
  },
  {
   "cell_type": "markdown",
   "metadata": {
    "tags": []
   },
   "source": [
    "<a id='load-obsd'></a>\n",
    "# Load observations of dissolved Pa, Th - quick\n",
    "from GEOTRACES IDP2021, Deng et al., Ng et al. and Pavia et al.  \n",
    "IDP 2021 = Intermediate Data Product  \n",
    "see obsdir/IDP_2021_log_how_downloaded.rtf  \n",
    "[go to top](#top)"
   ]
  },
  {
   "cell_type": "code",
   "execution_count": 7,
   "metadata": {},
   "outputs": [
    {
     "name": "stderr",
     "output_type": "stream",
     "text": [
      "<ipython-input-7-d2443af5b823>:3: DtypeWarning: Columns (21) have mixed types.Specify dtype option on import or set low_memory=False.\n",
      "  obs_d_geotraces_incl_arctic = f.get_obs_geotraces(fnobs, dissolved_type='BOTTLE',\n"
     ]
    },
    {
     "name": "stdout",
     "output_type": "stream",
     "text": [
      "Column 21 has mixed types as it contains quality control variables, which can be int or string. Fine.\n",
      "Reduced dataset from  96184  rows to  2166  rows after deleting nans.\n",
      "Reduced dataset from  129  rows to  129  rows after deleting nans.\n",
      "Reduced dataset from  20  rows to  20  rows after deleting nans.\n",
      "Reduced dataset from  126  rows to  126  rows after deleting nans.\n",
      "Starting to match obs to nearest model coords... \n",
      "... finished matching.\n",
      "Performing a weighted average (weights=1/error) in cells with >1 obs, with error propagation.\n",
      "Function obs_to_model_grid(): done.\n"
     ]
    }
   ],
   "source": [
    "# load geotraces observations\n",
    "fnobs = obsdir / 'Pad_Thd_IDP2021.txt'\n",
    "obs_d_geotraces_incl_arctic = f.get_obs_geotraces(fnobs, dissolved_type='BOTTLE', \n",
    "                                                  drop_meta_data=True, good_quality=True)\n",
    "obs_d_geotraces = obs_d_geotraces_incl_arctic[~obs_d_geotraces_incl_arctic.cruise.isin(\n",
    "    ['GN01','GN02','GN03','GN04'])].copy()\n",
    "\n",
    "# load other dissolved observations from 3 additional studies\n",
    "obs_d_deng = f.get_obs_other(obsdir / 'Deng2018Pad_Thd_formatted_uBq_per_kg.csv') # is geovide\n",
    "obs_d_ng = f.get_obs_other(obsdir / 'Ng2020Pad_Thd_formatted_dpm_per_1000kg.csv')\n",
    "for var in ['Pad','Pad_err','Thd','Thd_err']:\n",
    "    # convert dpm/1000kg to uBq/kg; using 1 dpm = 1/60 * 1e6 uBq\n",
    "    obs_d_ng[var] = obs_d_ng[var] / 60.0 * 1e3  \n",
    "obs_d_pavia = f.get_obs_other(obsdir / 'Pavia2020Pad_Thd_formatted_uBq_per_kg.csv')\n",
    "\n",
    "# combine all dissolved data\n",
    "obs_d = pd.concat([obs_d_geotraces,obs_d_deng,obs_d_ng,obs_d_pavia], join='outer')\n",
    "obs_d_incl_arctic = pd.concat([obs_d_geotraces_incl_arctic,obs_d_deng,obs_d_ng\n",
    "                               ,obs_d_pavia], join='outer')  # for completeness; not used\n",
    "\n",
    "[obs_d, obs_d_ave, obs_d_ave_num] = f.obs_to_model_grid(obs_d, fnctrl)"
   ]
  },
  {
   "cell_type": "code",
   "execution_count": 8,
   "metadata": {},
   "outputs": [
    {
     "data": {
      "text/html": [
       "<div>\n",
       "<style scoped>\n",
       "    .dataframe tbody tr th:only-of-type {\n",
       "        vertical-align: middle;\n",
       "    }\n",
       "\n",
       "    .dataframe tbody tr th {\n",
       "        vertical-align: top;\n",
       "    }\n",
       "\n",
       "    .dataframe thead th {\n",
       "        text-align: right;\n",
       "    }\n",
       "</style>\n",
       "<table border=\"1\" class=\"dataframe\">\n",
       "  <thead>\n",
       "    <tr style=\"text-align: right;\">\n",
       "      <th></th>\n",
       "      <th></th>\n",
       "      <th></th>\n",
       "      <th>z_qc</th>\n",
       "      <th>z_bottom</th>\n",
       "      <th>lon_sim_0_to_360</th>\n",
       "      <th>lon_sim_100_to_460</th>\n",
       "      <th>lat_sim</th>\n",
       "      <th>z_sim</th>\n",
       "      <th>cruise</th>\n",
       "      <th>station</th>\n",
       "      <th>pressure</th>\n",
       "      <th>pressure_qc</th>\n",
       "      <th>Pad</th>\n",
       "      <th>Pad_err</th>\n",
       "      <th>Pad_qc</th>\n",
       "      <th>Thd</th>\n",
       "      <th>Thd_err</th>\n",
       "      <th>Thd_qc</th>\n",
       "      <th>QV:ODV:SAMPLE</th>\n",
       "    </tr>\n",
       "    <tr>\n",
       "      <th>lon</th>\n",
       "      <th>lat</th>\n",
       "      <th>z</th>\n",
       "      <th></th>\n",
       "      <th></th>\n",
       "      <th></th>\n",
       "      <th></th>\n",
       "      <th></th>\n",
       "      <th></th>\n",
       "      <th></th>\n",
       "      <th></th>\n",
       "      <th></th>\n",
       "      <th></th>\n",
       "      <th></th>\n",
       "      <th></th>\n",
       "      <th></th>\n",
       "      <th></th>\n",
       "      <th></th>\n",
       "      <th></th>\n",
       "      <th></th>\n",
       "    </tr>\n",
       "  </thead>\n",
       "  <tbody>\n",
       "    <tr>\n",
       "      <th rowspan=\"3\" valign=\"top\">0.00000</th>\n",
       "      <th rowspan=\"3\" valign=\"top\">-52.9560</th>\n",
       "      <th>380.400</th>\n",
       "      <td>0.0</td>\n",
       "      <td>2624.0</td>\n",
       "      <td>3.5</td>\n",
       "      <td>363.5</td>\n",
       "      <td>-54.0</td>\n",
       "      <td>377.094555</td>\n",
       "      <td>GIPY04</td>\n",
       "      <td>65</td>\n",
       "      <td>384.1</td>\n",
       "      <td>0.0</td>\n",
       "      <td>NaN</td>\n",
       "      <td>NaN</td>\n",
       "      <td>9.0</td>\n",
       "      <td>9.915253</td>\n",
       "      <td>0.127193</td>\n",
       "      <td>1.0</td>\n",
       "      <td>1.0</td>\n",
       "    </tr>\n",
       "    <tr>\n",
       "      <th>500.000</th>\n",
       "      <td>0.0</td>\n",
       "      <td>2624.0</td>\n",
       "      <td>3.5</td>\n",
       "      <td>363.5</td>\n",
       "      <td>-54.0</td>\n",
       "      <td>518.904447</td>\n",
       "      <td>GIPY04</td>\n",
       "      <td>65</td>\n",
       "      <td>505.1</td>\n",
       "      <td>0.0</td>\n",
       "      <td>NaN</td>\n",
       "      <td>NaN</td>\n",
       "      <td>9.0</td>\n",
       "      <td>12.790078</td>\n",
       "      <td>0.168823</td>\n",
       "      <td>1.0</td>\n",
       "      <td>1.0</td>\n",
       "    </tr>\n",
       "    <tr>\n",
       "      <th>999.900</th>\n",
       "      <td>0.0</td>\n",
       "      <td>2624.0</td>\n",
       "      <td>3.5</td>\n",
       "      <td>363.5</td>\n",
       "      <td>-54.0</td>\n",
       "      <td>982.009764</td>\n",
       "      <td>GIPY04</td>\n",
       "      <td>65</td>\n",
       "      <td>1011.3</td>\n",
       "      <td>0.0</td>\n",
       "      <td>NaN</td>\n",
       "      <td>NaN</td>\n",
       "      <td>9.0</td>\n",
       "      <td>16.094715</td>\n",
       "      <td>0.190595</td>\n",
       "      <td>1.0</td>\n",
       "      <td>1.0</td>\n",
       "    </tr>\n",
       "    <tr>\n",
       "      <th rowspan=\"2\" valign=\"top\">0.00109</th>\n",
       "      <th rowspan=\"2\" valign=\"top\">-51.8659</th>\n",
       "      <th>57.700</th>\n",
       "      <td>0.0</td>\n",
       "      <td>2640.0</td>\n",
       "      <td>3.5</td>\n",
       "      <td>363.5</td>\n",
       "      <td>-50.0</td>\n",
       "      <td>59.480928</td>\n",
       "      <td>GIPY04</td>\n",
       "      <td>62 (Super 4)</td>\n",
       "      <td>58.2</td>\n",
       "      <td>0.0</td>\n",
       "      <td>NaN</td>\n",
       "      <td>NaN</td>\n",
       "      <td>9.0</td>\n",
       "      <td>0.915358</td>\n",
       "      <td>0.012224</td>\n",
       "      <td>1.0</td>\n",
       "      <td>1.0</td>\n",
       "    </tr>\n",
       "    <tr>\n",
       "      <th>165.900</th>\n",
       "      <td>0.0</td>\n",
       "      <td>2640.0</td>\n",
       "      <td>3.5</td>\n",
       "      <td>363.5</td>\n",
       "      <td>-50.0</td>\n",
       "      <td>149.938598</td>\n",
       "      <td>GIPY04</td>\n",
       "      <td>62 (Super 4)</td>\n",
       "      <td>167.4</td>\n",
       "      <td>0.0</td>\n",
       "      <td>NaN</td>\n",
       "      <td>NaN</td>\n",
       "      <td>9.0</td>\n",
       "      <td>2.141705</td>\n",
       "      <td>0.021980</td>\n",
       "      <td>1.0</td>\n",
       "      <td>1.0</td>\n",
       "    </tr>\n",
       "    <tr>\n",
       "      <th>...</th>\n",
       "      <th>...</th>\n",
       "      <th>...</th>\n",
       "      <td>...</td>\n",
       "      <td>...</td>\n",
       "      <td>...</td>\n",
       "      <td>...</td>\n",
       "      <td>...</td>\n",
       "      <td>...</td>\n",
       "      <td>...</td>\n",
       "      <td>...</td>\n",
       "      <td>...</td>\n",
       "      <td>...</td>\n",
       "      <td>...</td>\n",
       "      <td>...</td>\n",
       "      <td>...</td>\n",
       "      <td>...</td>\n",
       "      <td>...</td>\n",
       "      <td>...</td>\n",
       "      <td>...</td>\n",
       "    </tr>\n",
       "    <tr>\n",
       "      <th rowspan=\"5\" valign=\"top\">186.21500</th>\n",
       "      <th rowspan=\"5\" valign=\"top\">-53.8350</th>\n",
       "      <th>3501.243</th>\n",
       "      <td>NaN</td>\n",
       "      <td>NaN</td>\n",
       "      <td>185.0</td>\n",
       "      <td>185.0</td>\n",
       "      <td>-54.0</td>\n",
       "      <td>3425.697606</td>\n",
       "      <td>pavia</td>\n",
       "      <td>15</td>\n",
       "      <td>NaN</td>\n",
       "      <td>NaN</td>\n",
       "      <td>5.58</td>\n",
       "      <td>0.11</td>\n",
       "      <td>NaN</td>\n",
       "      <td>11.650000</td>\n",
       "      <td>0.110000</td>\n",
       "      <td>NaN</td>\n",
       "      <td>NaN</td>\n",
       "    </tr>\n",
       "    <tr>\n",
       "      <th>3999.365</th>\n",
       "      <td>NaN</td>\n",
       "      <td>NaN</td>\n",
       "      <td>185.0</td>\n",
       "      <td>185.0</td>\n",
       "      <td>-54.0</td>\n",
       "      <td>4060.409965</td>\n",
       "      <td>pavia</td>\n",
       "      <td>15</td>\n",
       "      <td>NaN</td>\n",
       "      <td>NaN</td>\n",
       "      <td>5.78</td>\n",
       "      <td>0.13</td>\n",
       "      <td>NaN</td>\n",
       "      <td>12.540000</td>\n",
       "      <td>0.150000</td>\n",
       "      <td>NaN</td>\n",
       "      <td>NaN</td>\n",
       "    </tr>\n",
       "    <tr>\n",
       "      <th>4500.535</th>\n",
       "      <td>NaN</td>\n",
       "      <td>NaN</td>\n",
       "      <td>185.0</td>\n",
       "      <td>185.0</td>\n",
       "      <td>-54.0</td>\n",
       "      <td>4415.270321</td>\n",
       "      <td>pavia</td>\n",
       "      <td>15</td>\n",
       "      <td>NaN</td>\n",
       "      <td>NaN</td>\n",
       "      <td>5.71</td>\n",
       "      <td>0.14</td>\n",
       "      <td>NaN</td>\n",
       "      <td>13.600000</td>\n",
       "      <td>0.160000</td>\n",
       "      <td>NaN</td>\n",
       "      <td>NaN</td>\n",
       "    </tr>\n",
       "    <tr>\n",
       "      <th>5000.069</th>\n",
       "      <td>NaN</td>\n",
       "      <td>NaN</td>\n",
       "      <td>185.0</td>\n",
       "      <td>185.0</td>\n",
       "      <td>-54.0</td>\n",
       "      <td>4797.743518</td>\n",
       "      <td>pavia</td>\n",
       "      <td>15</td>\n",
       "      <td>NaN</td>\n",
       "      <td>NaN</td>\n",
       "      <td>5.43</td>\n",
       "      <td>0.16</td>\n",
       "      <td>NaN</td>\n",
       "      <td>13.700000</td>\n",
       "      <td>0.140000</td>\n",
       "      <td>NaN</td>\n",
       "      <td>NaN</td>\n",
       "    </tr>\n",
       "    <tr>\n",
       "      <th>5247.235</th>\n",
       "      <td>NaN</td>\n",
       "      <td>NaN</td>\n",
       "      <td>185.0</td>\n",
       "      <td>185.0</td>\n",
       "      <td>-54.0</td>\n",
       "      <td>4797.743518</td>\n",
       "      <td>pavia</td>\n",
       "      <td>15</td>\n",
       "      <td>NaN</td>\n",
       "      <td>NaN</td>\n",
       "      <td>5.81</td>\n",
       "      <td>0.13</td>\n",
       "      <td>NaN</td>\n",
       "      <td>13.530000</td>\n",
       "      <td>0.180000</td>\n",
       "      <td>NaN</td>\n",
       "      <td>NaN</td>\n",
       "    </tr>\n",
       "  </tbody>\n",
       "</table>\n",
       "<p>1870 rows × 17 columns</p>\n",
       "</div>"
      ],
      "text/plain": [
       "                             z_qc  z_bottom  lon_sim_0_to_360  \\\n",
       "lon       lat      z                                            \n",
       "0.00000   -52.9560 380.400    0.0    2624.0               3.5   \n",
       "                   500.000    0.0    2624.0               3.5   \n",
       "                   999.900    0.0    2624.0               3.5   \n",
       "0.00109   -51.8659 57.700     0.0    2640.0               3.5   \n",
       "                   165.900    0.0    2640.0               3.5   \n",
       "...                           ...       ...               ...   \n",
       "186.21500 -53.8350 3501.243   NaN       NaN             185.0   \n",
       "                   3999.365   NaN       NaN             185.0   \n",
       "                   4500.535   NaN       NaN             185.0   \n",
       "                   5000.069   NaN       NaN             185.0   \n",
       "                   5247.235   NaN       NaN             185.0   \n",
       "\n",
       "                             lon_sim_100_to_460  lat_sim        z_sim  cruise  \\\n",
       "lon       lat      z                                                            \n",
       "0.00000   -52.9560 380.400                363.5    -54.0   377.094555  GIPY04   \n",
       "                   500.000                363.5    -54.0   518.904447  GIPY04   \n",
       "                   999.900                363.5    -54.0   982.009764  GIPY04   \n",
       "0.00109   -51.8659 57.700                 363.5    -50.0    59.480928  GIPY04   \n",
       "                   165.900                363.5    -50.0   149.938598  GIPY04   \n",
       "...                                         ...      ...          ...     ...   \n",
       "186.21500 -53.8350 3501.243               185.0    -54.0  3425.697606   pavia   \n",
       "                   3999.365               185.0    -54.0  4060.409965   pavia   \n",
       "                   4500.535               185.0    -54.0  4415.270321   pavia   \n",
       "                   5000.069               185.0    -54.0  4797.743518   pavia   \n",
       "                   5247.235               185.0    -54.0  4797.743518   pavia   \n",
       "\n",
       "                                  station  pressure  pressure_qc   Pad  \\\n",
       "lon       lat      z                                                     \n",
       "0.00000   -52.9560 380.400             65     384.1          0.0   NaN   \n",
       "                   500.000             65     505.1          0.0   NaN   \n",
       "                   999.900             65    1011.3          0.0   NaN   \n",
       "0.00109   -51.8659 57.700    62 (Super 4)      58.2          0.0   NaN   \n",
       "                   165.900   62 (Super 4)     167.4          0.0   NaN   \n",
       "...                                   ...       ...          ...   ...   \n",
       "186.21500 -53.8350 3501.243            15       NaN          NaN  5.58   \n",
       "                   3999.365            15       NaN          NaN  5.78   \n",
       "                   4500.535            15       NaN          NaN  5.71   \n",
       "                   5000.069            15       NaN          NaN  5.43   \n",
       "                   5247.235            15       NaN          NaN  5.81   \n",
       "\n",
       "                             Pad_err Pad_qc        Thd   Thd_err  Thd_qc  \\\n",
       "lon       lat      z                                                       \n",
       "0.00000   -52.9560 380.400       NaN    9.0   9.915253  0.127193     1.0   \n",
       "                   500.000       NaN    9.0  12.790078  0.168823     1.0   \n",
       "                   999.900       NaN    9.0  16.094715  0.190595     1.0   \n",
       "0.00109   -51.8659 57.700        NaN    9.0   0.915358  0.012224     1.0   \n",
       "                   165.900       NaN    9.0   2.141705  0.021980     1.0   \n",
       "...                              ...    ...        ...       ...     ...   \n",
       "186.21500 -53.8350 3501.243     0.11    NaN  11.650000  0.110000     NaN   \n",
       "                   3999.365     0.13    NaN  12.540000  0.150000     NaN   \n",
       "                   4500.535     0.14    NaN  13.600000  0.160000     NaN   \n",
       "                   5000.069     0.16    NaN  13.700000  0.140000     NaN   \n",
       "                   5247.235     0.13    NaN  13.530000  0.180000     NaN   \n",
       "\n",
       "                             QV:ODV:SAMPLE  \n",
       "lon       lat      z                        \n",
       "0.00000   -52.9560 380.400             1.0  \n",
       "                   500.000             1.0  \n",
       "                   999.900             1.0  \n",
       "0.00109   -51.8659 57.700              1.0  \n",
       "                   165.900             1.0  \n",
       "...                                    ...  \n",
       "186.21500 -53.8350 3501.243            NaN  \n",
       "                   3999.365            NaN  \n",
       "                   4500.535            NaN  \n",
       "                   5000.069            NaN  \n",
       "                   5247.235            NaN  \n",
       "\n",
       "[1870 rows x 17 columns]"
      ]
     },
     "execution_count": 8,
     "metadata": {},
     "output_type": "execute_result"
    }
   ],
   "source": [
    "# observations of Pad, Thd on observation coords\n",
    "obs_d"
   ]
  },
  {
   "cell_type": "code",
   "execution_count": 9,
   "metadata": {},
   "outputs": [
    {
     "data": {
      "text/html": [
       "<div>\n",
       "<style scoped>\n",
       "    .dataframe tbody tr th:only-of-type {\n",
       "        vertical-align: middle;\n",
       "    }\n",
       "\n",
       "    .dataframe tbody tr th {\n",
       "        vertical-align: top;\n",
       "    }\n",
       "\n",
       "    .dataframe thead th {\n",
       "        text-align: right;\n",
       "    }\n",
       "</style>\n",
       "<table border=\"1\" class=\"dataframe\">\n",
       "  <thead>\n",
       "    <tr style=\"text-align: right;\">\n",
       "      <th></th>\n",
       "      <th></th>\n",
       "      <th></th>\n",
       "      <th>Pad</th>\n",
       "      <th>Thd</th>\n",
       "      <th>Pad_err</th>\n",
       "      <th>Thd_err</th>\n",
       "      <th>cruise</th>\n",
       "    </tr>\n",
       "    <tr>\n",
       "      <th>lat_sim</th>\n",
       "      <th>lon_sim_100_to_460</th>\n",
       "      <th>z_sim</th>\n",
       "      <th></th>\n",
       "      <th></th>\n",
       "      <th></th>\n",
       "      <th></th>\n",
       "      <th></th>\n",
       "    </tr>\n",
       "  </thead>\n",
       "  <tbody>\n",
       "    <tr>\n",
       "      <th rowspan=\"5\" valign=\"top\">-70.0</th>\n",
       "      <th rowspan=\"2\" valign=\"top\">349.5</th>\n",
       "      <th>19.088927</th>\n",
       "      <td>0.571656</td>\n",
       "      <td>1.851687</td>\n",
       "      <td>0.329533</td>\n",
       "      <td>0.232304</td>\n",
       "      <td>GIPY05</td>\n",
       "    </tr>\n",
       "    <tr>\n",
       "      <th>149.938598</th>\n",
       "      <td>0.946553</td>\n",
       "      <td>2.974546</td>\n",
       "      <td>0.303997</td>\n",
       "      <td>0.427319</td>\n",
       "      <td>GIPY05</td>\n",
       "    </tr>\n",
       "    <tr>\n",
       "      <th rowspan=\"3\" valign=\"top\">356.5</th>\n",
       "      <th>59.480928</th>\n",
       "      <td>1.124049</td>\n",
       "      <td>2.603894</td>\n",
       "      <td>0.322114</td>\n",
       "      <td>0.23358</td>\n",
       "      <td>GIPY05</td>\n",
       "    </tr>\n",
       "    <tr>\n",
       "      <th>103.015962</th>\n",
       "      <td>1.01556</td>\n",
       "      <td>2.64848</td>\n",
       "      <td>0.236357</td>\n",
       "      <td>0.220982</td>\n",
       "      <td>GIPY05</td>\n",
       "    </tr>\n",
       "    <tr>\n",
       "      <th>200.512438</th>\n",
       "      <td>1.750369</td>\n",
       "      <td>6.636425</td>\n",
       "      <td>0.345175</td>\n",
       "      <td>0.529465</td>\n",
       "      <td>GIPY05</td>\n",
       "    </tr>\n",
       "    <tr>\n",
       "      <th>...</th>\n",
       "      <th>...</th>\n",
       "      <th>...</th>\n",
       "      <td>...</td>\n",
       "      <td>...</td>\n",
       "      <td>...</td>\n",
       "      <td>...</td>\n",
       "      <td>...</td>\n",
       "    </tr>\n",
       "    <tr>\n",
       "      <th rowspan=\"5\" valign=\"top\">57.5</th>\n",
       "      <th rowspan=\"5\" valign=\"top\">335.5</th>\n",
       "      <th>2198.977326</th>\n",
       "      <td>1.47</td>\n",
       "      <td>0.96</td>\n",
       "      <td>0.14</td>\n",
       "      <td>0.13</td>\n",
       "      <td>deng</td>\n",
       "    </tr>\n",
       "    <tr>\n",
       "      <th>2635.351809</th>\n",
       "      <td>1.94</td>\n",
       "      <td>1.35</td>\n",
       "      <td>0.13</td>\n",
       "      <td>0.14</td>\n",
       "      <td>deng</td>\n",
       "    </tr>\n",
       "    <tr>\n",
       "      <th>2879.323748</th>\n",
       "      <td>1.664413</td>\n",
       "      <td>1.786474</td>\n",
       "      <td>0.098698</td>\n",
       "      <td>0.083603</td>\n",
       "      <td>deng</td>\n",
       "    </tr>\n",
       "    <tr>\n",
       "      <th>3142.279938</th>\n",
       "      <td>1.806038</td>\n",
       "      <td>2.546746</td>\n",
       "      <td>0.071896</td>\n",
       "      <td>0.080554</td>\n",
       "      <td>deng</td>\n",
       "    </tr>\n",
       "    <tr>\n",
       "      <th>4060.409965</th>\n",
       "      <td>2.02</td>\n",
       "      <td>2.5</td>\n",
       "      <td>0.18</td>\n",
       "      <td>0.17</td>\n",
       "      <td>deng</td>\n",
       "    </tr>\n",
       "  </tbody>\n",
       "</table>\n",
       "<p>1108 rows × 5 columns</p>\n",
       "</div>"
      ],
      "text/plain": [
       "                                             Pad       Thd   Pad_err  \\\n",
       "lat_sim lon_sim_100_to_460 z_sim                                       \n",
       "-70.0   349.5              19.088927    0.571656  1.851687  0.329533   \n",
       "                           149.938598   0.946553  2.974546  0.303997   \n",
       "        356.5              59.480928    1.124049  2.603894  0.322114   \n",
       "                           103.015962    1.01556   2.64848  0.236357   \n",
       "                           200.512438   1.750369  6.636425  0.345175   \n",
       "...                                          ...       ...       ...   \n",
       " 57.5   335.5              2198.977326      1.47      0.96      0.14   \n",
       "                           2635.351809      1.94      1.35      0.13   \n",
       "                           2879.323748  1.664413  1.786474  0.098698   \n",
       "                           3142.279938  1.806038  2.546746  0.071896   \n",
       "                           4060.409965      2.02       2.5      0.18   \n",
       "\n",
       "                                         Thd_err  cruise  \n",
       "lat_sim lon_sim_100_to_460 z_sim                          \n",
       "-70.0   349.5              19.088927    0.232304  GIPY05  \n",
       "                           149.938598   0.427319  GIPY05  \n",
       "        356.5              59.480928     0.23358  GIPY05  \n",
       "                           103.015962   0.220982  GIPY05  \n",
       "                           200.512438   0.529465  GIPY05  \n",
       "...                                          ...     ...  \n",
       " 57.5   335.5              2198.977326      0.13    deng  \n",
       "                           2635.351809      0.14    deng  \n",
       "                           2879.323748  0.083603    deng  \n",
       "                           3142.279938  0.080554    deng  \n",
       "                           4060.409965      0.17    deng  \n",
       "\n",
       "[1108 rows x 5 columns]"
      ]
     },
     "execution_count": 9,
     "metadata": {},
     "output_type": "execute_result"
    }
   ],
   "source": [
    "# observations of Pad, Thd on nearest model grid cell (averaged when multiple obs present in 1 grid cell)\n",
    "obs_d_ave"
   ]
  },
  {
   "cell_type": "code",
   "execution_count": 10,
   "metadata": {},
   "outputs": [
    {
     "data": {
      "text/html": [
       "<div>\n",
       "<style scoped>\n",
       "    .dataframe tbody tr th:only-of-type {\n",
       "        vertical-align: middle;\n",
       "    }\n",
       "\n",
       "    .dataframe tbody tr th {\n",
       "        vertical-align: top;\n",
       "    }\n",
       "\n",
       "    .dataframe thead th {\n",
       "        text-align: right;\n",
       "    }\n",
       "</style>\n",
       "<table border=\"1\" class=\"dataframe\">\n",
       "  <thead>\n",
       "    <tr style=\"text-align: right;\">\n",
       "      <th></th>\n",
       "      <th></th>\n",
       "      <th></th>\n",
       "      <th>Pad</th>\n",
       "      <th>Thd</th>\n",
       "    </tr>\n",
       "    <tr>\n",
       "      <th>lat_sim</th>\n",
       "      <th>lon_sim_100_to_460</th>\n",
       "      <th>z_sim</th>\n",
       "      <th></th>\n",
       "      <th></th>\n",
       "    </tr>\n",
       "  </thead>\n",
       "  <tbody>\n",
       "    <tr>\n",
       "      <th rowspan=\"5\" valign=\"top\">-70.0</th>\n",
       "      <th rowspan=\"2\" valign=\"top\">349.5</th>\n",
       "      <th>19.088927</th>\n",
       "      <td>1.0</td>\n",
       "      <td>1.0</td>\n",
       "    </tr>\n",
       "    <tr>\n",
       "      <th>149.938598</th>\n",
       "      <td>1.0</td>\n",
       "      <td>1.0</td>\n",
       "    </tr>\n",
       "    <tr>\n",
       "      <th rowspan=\"3\" valign=\"top\">356.5</th>\n",
       "      <th>59.480928</th>\n",
       "      <td>1.0</td>\n",
       "      <td>1.0</td>\n",
       "    </tr>\n",
       "    <tr>\n",
       "      <th>103.015962</th>\n",
       "      <td>1.0</td>\n",
       "      <td>1.0</td>\n",
       "    </tr>\n",
       "    <tr>\n",
       "      <th>200.512438</th>\n",
       "      <td>1.0</td>\n",
       "      <td>1.0</td>\n",
       "    </tr>\n",
       "    <tr>\n",
       "      <th>...</th>\n",
       "      <th>...</th>\n",
       "      <th>...</th>\n",
       "      <td>...</td>\n",
       "      <td>...</td>\n",
       "    </tr>\n",
       "    <tr>\n",
       "      <th rowspan=\"5\" valign=\"top\">85.0</th>\n",
       "      <th rowspan=\"5\" valign=\"top\">425.0</th>\n",
       "      <th>1499.977687</th>\n",
       "      <td>1.0</td>\n",
       "      <td>1.0</td>\n",
       "    </tr>\n",
       "    <tr>\n",
       "      <th>2879.323748</th>\n",
       "      <td>1.0</td>\n",
       "      <td>1.0</td>\n",
       "    </tr>\n",
       "    <tr>\n",
       "      <th>3425.697606</th>\n",
       "      <td>1.0</td>\n",
       "      <td>1.0</td>\n",
       "    </tr>\n",
       "    <tr>\n",
       "      <th>4060.409965</th>\n",
       "      <td>1.0</td>\n",
       "      <td>1.0</td>\n",
       "    </tr>\n",
       "    <tr>\n",
       "      <th>4415.270321</th>\n",
       "      <td>1.0</td>\n",
       "      <td>1.0</td>\n",
       "    </tr>\n",
       "  </tbody>\n",
       "</table>\n",
       "<p>1426 rows × 2 columns</p>\n",
       "</div>"
      ],
      "text/plain": [
       "                                        Pad  Thd\n",
       "lat_sim lon_sim_100_to_460 z_sim                \n",
       "-70.0   349.5              19.088927    1.0  1.0\n",
       "                           149.938598   1.0  1.0\n",
       "        356.5              59.480928    1.0  1.0\n",
       "                           103.015962   1.0  1.0\n",
       "                           200.512438   1.0  1.0\n",
       "...                                     ...  ...\n",
       " 85.0   425.0              1499.977687  1.0  1.0\n",
       "                           2879.323748  1.0  1.0\n",
       "                           3425.697606  1.0  1.0\n",
       "                           4060.409965  1.0  1.0\n",
       "                           4415.270321  1.0  1.0\n",
       "\n",
       "[1426 rows x 2 columns]"
      ]
     },
     "execution_count": 10,
     "metadata": {},
     "output_type": "execute_result"
    }
   ],
   "source": [
    "# number of obs that were averaged in this grid cell location \n",
    "obs_d_ave_num.loc[:,('Pad','Thd',)]"
   ]
  },
  {
   "cell_type": "markdown",
   "metadata": {
    "tags": []
   },
   "source": [
    "<a id='load-obsp'></a>\n",
    "# Load observations of particle-bound Pa, Th from GEOTRACES IDP2021 - quick\n",
    "IDP 2021 = Intermediate Data Product  \n",
    "see obsdir/IDP_2021_log_how_downloaded.rtf  \n",
    "[go to top](#top)"
   ]
  },
  {
   "cell_type": "code",
   "execution_count": 18,
   "metadata": {},
   "outputs": [
    {
     "name": "stdout",
     "output_type": "stream",
     "text": [
      "Reduced dataset from  102686  rows to  860  rows after deleting nans.\n",
      "Reduced dataset from  1009  rows to  1003  rows after deleting nans.\n"
     ]
    }
   ],
   "source": [
    "# LOAD WITH NEW COLUMNS Pap, Thp THAT COMBINE SPT,LPT,TP and \n",
    "# extra columns Pap_type, Thp_type which keep track of the origin\n",
    "# also with only keeping good quality measurements\n",
    "fnobs = obsdir / 'Pap_Thp_IDP2021.txt'\n",
    "\n",
    "obs_p_incl_arctic = f.get_obs_geotraces(fnobs, drop_meta_data=True, p_type='combined', good_quality=True)\n",
    "obs_p = obs_p_incl_arctic[~obs_p_incl_arctic.cruise.isin(\n",
    "    ['GN01','GN02','GN03','GN04'])].copy()"
   ]
  },
  {
   "cell_type": "markdown",
   "metadata": {
    "tags": []
   },
   "source": [
    "<a id='explore-obsd'></a>\n",
    "# Explore dissolved geotraces observations and explain choices\n",
    "Aware! In this section we use 'obs_d' for obs_d_geotraces, whereas in rest of notebook 'obs_d' must be a concatenation of geotraces and the other studies deng pavia ng.  \n",
    "[go to top](#top)"
   ]
  },
  {
   "cell_type": "code",
   "execution_count": 22,
   "metadata": {},
   "outputs": [
    {
     "name": "stderr",
     "output_type": "stream",
     "text": [
      "<ipython-input-22-f5b07ca16309>:5: DtypeWarning: Columns (21) have mixed types.Specify dtype option on import or set low_memory=False.\n",
      "  obs_d = f.get_obs_geotraces(fnobs, dissolved_type='BOTTLE', drop_meta_data=False, good_quality=True)\n"
     ]
    },
    {
     "name": "stdout",
     "output_type": "stream",
     "text": [
      "Column 21 has mixed types as it contains quality control variables, which can be int or string. Fine.\n",
      "Reduced dataset from  96184  rows to  2166  rows after deleting nans.\n",
      "Starting to match obs to nearest model coords... \n",
      "... finished matching.\n",
      "Performing a weighted average (weights=1/error) in cells with >1 obs, with error propagation.\n",
      "Function obs_to_model_grid(): done.\n"
     ]
    },
    {
     "data": {
      "text/plain": [
       "array([2008, 2009, 2010, 2011, 2012, 2013, 2014, 2015, 2016, 2017])"
      ]
     },
     "execution_count": 22,
     "metadata": {},
     "output_type": "execute_result"
    }
   ],
   "source": [
    "# # find out in which year cruises took place (keep meta data while loading)\n",
    "\n",
    "# fnobs = obsdir / 'Pad_Thd_IDP2021.txt'\n",
    "\n",
    "# obs_d = f.get_obs_geotraces(fnobs, dissolved_type='BOTTLE', drop_meta_data=False, good_quality=True)\n",
    "# [obs_d, obs_d_ave, obs_d_ave_num] = f.obs_to_model_grid(obs_d, fnctrl)\n",
    "\n",
    "# yr = [int(string[0:4]) for string in obs_d[\"yyyy-mm-ddThh:mm:ss.sss\"]]\n",
    "# np.unique(yr)\n",
    "\n",
    "# # => 2008-2017 for dissolved"
   ]
  },
  {
   "cell_type": "markdown",
   "metadata": {},
   "source": [
    "### Load obs"
   ]
  },
  {
   "cell_type": "code",
   "execution_count": 13,
   "metadata": {},
   "outputs": [
    {
     "name": "stderr",
     "output_type": "stream",
     "text": [
      "<ipython-input-13-f54537914fc0>:3: DtypeWarning: Columns (21) have mixed types.Specify dtype option on import or set low_memory=False.\n",
      "  obs_d = f.get_obs_geotraces(fnobs, dissolved_type='ALL', drop_meta_data=True, good_quality=False)\n"
     ]
    },
    {
     "name": "stdout",
     "output_type": "stream",
     "text": [
      "Column 21 has mixed types as it contains quality control variables, which can be int or string. Fine.\n",
      "Reduced dataset from  96184  rows to  2256  rows after deleting nans.\n"
     ]
    }
   ],
   "source": [
    "fnobs = obsdir / 'Pad_Thd_IDP2021.txt'\n",
    "\n",
    "obs_d = f.get_obs_geotraces(fnobs, dissolved_type='ALL', drop_meta_data=True, good_quality=False)\n",
    "# dissolved_type='ALL' => keeping all types of columns for now for this data exploration\n",
    "# good_quality='false' => keeping all observations, good and bad quality"
   ]
  },
  {
   "cell_type": "markdown",
   "metadata": {},
   "source": [
    "Recall that indexing in pandas works like:   \n",
    "`obs_d.iloc[:,1]      # rows, cols via number`  \n",
    "`obs_d.loc[201,'lat'] # rows, cols via names of index var resp column name`  \n",
    "In order to access our dataframe via lat, lon and z, we need these coordinates (lon,lat,z) to be in a multi-index."
   ]
  },
  {
   "cell_type": "markdown",
   "metadata": {},
   "source": [
    "### Recap: how to access data in a multi-index pandas dataframe?\n",
    "Examples in the next cell  \n",
    "\n",
    "Following tutorial: https://towardsdatascience.com/accessing-data-in-a-multiindex-dataframe-in-pandas-569e8767201d\n"
   ]
  },
  {
   "cell_type": "code",
   "execution_count": 14,
   "metadata": {},
   "outputs": [
    {
     "data": {
      "text/html": [
       "<div>\n",
       "<style scoped>\n",
       "    .dataframe tbody tr th:only-of-type {\n",
       "        vertical-align: middle;\n",
       "    }\n",
       "\n",
       "    .dataframe tbody tr th {\n",
       "        vertical-align: top;\n",
       "    }\n",
       "\n",
       "    .dataframe thead th {\n",
       "        text-align: right;\n",
       "    }\n",
       "</style>\n",
       "<table border=\"1\" class=\"dataframe\">\n",
       "  <thead>\n",
       "    <tr style=\"text-align: right;\">\n",
       "      <th></th>\n",
       "      <th></th>\n",
       "      <th></th>\n",
       "      <th>z_qc</th>\n",
       "      <th>z_bottom</th>\n",
       "      <th>cruise</th>\n",
       "      <th>station</th>\n",
       "      <th>pressure</th>\n",
       "      <th>pressure_qc</th>\n",
       "      <th>Pad_BOTTLE</th>\n",
       "      <th>Pad_BOTTLE_err</th>\n",
       "      <th>Pad_BOTTLE_qc</th>\n",
       "      <th>Pad_FISH</th>\n",
       "      <th>...</th>\n",
       "      <th>Thd_UWAY</th>\n",
       "      <th>Thd_UWAY_err</th>\n",
       "      <th>Thd_UWAY_qc</th>\n",
       "      <th>Thd_BOAT_PUMP</th>\n",
       "      <th>Thd_BOAT_PUMP_err</th>\n",
       "      <th>Thd_BOAT_PUMP_qc</th>\n",
       "      <th>Thd_SUBICE_PUMP</th>\n",
       "      <th>Thd_SUBICE_PUMP_err</th>\n",
       "      <th>Thd_SUBICE_PUMP_qc</th>\n",
       "      <th>QV:ODV:SAMPLE</th>\n",
       "    </tr>\n",
       "    <tr>\n",
       "      <th>lon</th>\n",
       "      <th>lat</th>\n",
       "      <th>z</th>\n",
       "      <th></th>\n",
       "      <th></th>\n",
       "      <th></th>\n",
       "      <th></th>\n",
       "      <th></th>\n",
       "      <th></th>\n",
       "      <th></th>\n",
       "      <th></th>\n",
       "      <th></th>\n",
       "      <th></th>\n",
       "      <th></th>\n",
       "      <th></th>\n",
       "      <th></th>\n",
       "      <th></th>\n",
       "      <th></th>\n",
       "      <th></th>\n",
       "      <th></th>\n",
       "      <th></th>\n",
       "      <th></th>\n",
       "      <th></th>\n",
       "      <th></th>\n",
       "    </tr>\n",
       "  </thead>\n",
       "  <tbody>\n",
       "    <tr>\n",
       "      <th rowspan=\"5\" valign=\"top\">30.284</th>\n",
       "      <th rowspan=\"5\" valign=\"top\">84.3896</th>\n",
       "      <th>50.1</th>\n",
       "      <td>0.0</td>\n",
       "      <td>4057.0</td>\n",
       "      <td>GN04</td>\n",
       "      <td>050</td>\n",
       "      <td>50.6</td>\n",
       "      <td>0.0</td>\n",
       "      <td>0.524766</td>\n",
       "      <td>0.174922</td>\n",
       "      <td>1</td>\n",
       "      <td>NaN</td>\n",
       "      <td>...</td>\n",
       "      <td>NaN</td>\n",
       "      <td>NaN</td>\n",
       "      <td>9.0</td>\n",
       "      <td>NaN</td>\n",
       "      <td>NaN</td>\n",
       "      <td>9.0</td>\n",
       "      <td>NaN</td>\n",
       "      <td>NaN</td>\n",
       "      <td>9.0</td>\n",
       "      <td>1.0</td>\n",
       "    </tr>\n",
       "    <tr>\n",
       "      <th>100.2</th>\n",
       "      <td>0.0</td>\n",
       "      <td>4057.0</td>\n",
       "      <td>GN04</td>\n",
       "      <td>050</td>\n",
       "      <td>101.3</td>\n",
       "      <td>0.0</td>\n",
       "      <td>0.524766</td>\n",
       "      <td>0.174922</td>\n",
       "      <td>1.0</td>\n",
       "      <td>NaN</td>\n",
       "      <td>...</td>\n",
       "      <td>NaN</td>\n",
       "      <td>NaN</td>\n",
       "      <td>9.0</td>\n",
       "      <td>NaN</td>\n",
       "      <td>NaN</td>\n",
       "      <td>9.0</td>\n",
       "      <td>NaN</td>\n",
       "      <td>NaN</td>\n",
       "      <td>9.0</td>\n",
       "      <td>1.0</td>\n",
       "    </tr>\n",
       "    <tr>\n",
       "      <th>299.9</th>\n",
       "      <td>0.0</td>\n",
       "      <td>4057.0</td>\n",
       "      <td>GN04</td>\n",
       "      <td>050</td>\n",
       "      <td>303.4</td>\n",
       "      <td>0.0</td>\n",
       "      <td>0.699688</td>\n",
       "      <td>0.174922</td>\n",
       "      <td>1.0</td>\n",
       "      <td>NaN</td>\n",
       "      <td>...</td>\n",
       "      <td>NaN</td>\n",
       "      <td>NaN</td>\n",
       "      <td>9.0</td>\n",
       "      <td>NaN</td>\n",
       "      <td>NaN</td>\n",
       "      <td>9.0</td>\n",
       "      <td>NaN</td>\n",
       "      <td>NaN</td>\n",
       "      <td>9.0</td>\n",
       "      <td>1.0</td>\n",
       "    </tr>\n",
       "    <tr>\n",
       "      <th>500.4</th>\n",
       "      <td>0.0</td>\n",
       "      <td>4057.0</td>\n",
       "      <td>GN04</td>\n",
       "      <td>050</td>\n",
       "      <td>506.4</td>\n",
       "      <td>0.0</td>\n",
       "      <td>0.349844</td>\n",
       "      <td>0.174922</td>\n",
       "      <td>1.0</td>\n",
       "      <td>NaN</td>\n",
       "      <td>...</td>\n",
       "      <td>NaN</td>\n",
       "      <td>NaN</td>\n",
       "      <td>9.0</td>\n",
       "      <td>NaN</td>\n",
       "      <td>NaN</td>\n",
       "      <td>9.0</td>\n",
       "      <td>NaN</td>\n",
       "      <td>NaN</td>\n",
       "      <td>9.0</td>\n",
       "      <td>1.0</td>\n",
       "    </tr>\n",
       "    <tr>\n",
       "      <th>750.4</th>\n",
       "      <td>0.0</td>\n",
       "      <td>4057.0</td>\n",
       "      <td>GN04</td>\n",
       "      <td>050</td>\n",
       "      <td>759.9</td>\n",
       "      <td>0.0</td>\n",
       "      <td>1.399375</td>\n",
       "      <td>0.174922</td>\n",
       "      <td>1.0</td>\n",
       "      <td>NaN</td>\n",
       "      <td>...</td>\n",
       "      <td>NaN</td>\n",
       "      <td>NaN</td>\n",
       "      <td>9.0</td>\n",
       "      <td>NaN</td>\n",
       "      <td>NaN</td>\n",
       "      <td>9.0</td>\n",
       "      <td>NaN</td>\n",
       "      <td>NaN</td>\n",
       "      <td>9.0</td>\n",
       "      <td>1.0</td>\n",
       "    </tr>\n",
       "    <tr>\n",
       "      <th>...</th>\n",
       "      <th>...</th>\n",
       "      <th>...</th>\n",
       "      <td>...</td>\n",
       "      <td>...</td>\n",
       "      <td>...</td>\n",
       "      <td>...</td>\n",
       "      <td>...</td>\n",
       "      <td>...</td>\n",
       "      <td>...</td>\n",
       "      <td>...</td>\n",
       "      <td>...</td>\n",
       "      <td>...</td>\n",
       "      <td>...</td>\n",
       "      <td>...</td>\n",
       "      <td>...</td>\n",
       "      <td>...</td>\n",
       "      <td>...</td>\n",
       "      <td>...</td>\n",
       "      <td>...</td>\n",
       "      <td>...</td>\n",
       "      <td>...</td>\n",
       "      <td>...</td>\n",
       "      <td>...</td>\n",
       "    </tr>\n",
       "    <tr>\n",
       "      <th rowspan=\"5\" valign=\"top\">306.630</th>\n",
       "      <th rowspan=\"5\" valign=\"top\">56.1206</th>\n",
       "      <th>2297.7</th>\n",
       "      <td>0.0</td>\n",
       "      <td>3312.0</td>\n",
       "      <td>GN02</td>\n",
       "      <td>K1</td>\n",
       "      <td>2331.7</td>\n",
       "      <td>0.0</td>\n",
       "      <td>1.188388</td>\n",
       "      <td>0.096120</td>\n",
       "      <td>1</td>\n",
       "      <td>NaN</td>\n",
       "      <td>...</td>\n",
       "      <td>NaN</td>\n",
       "      <td>NaN</td>\n",
       "      <td>9.0</td>\n",
       "      <td>NaN</td>\n",
       "      <td>NaN</td>\n",
       "      <td>9.0</td>\n",
       "      <td>NaN</td>\n",
       "      <td>NaN</td>\n",
       "      <td>9.0</td>\n",
       "      <td>1.0</td>\n",
       "    </tr>\n",
       "    <tr>\n",
       "      <th>2447.0</th>\n",
       "      <td>0.0</td>\n",
       "      <td>3312.0</td>\n",
       "      <td>GN02</td>\n",
       "      <td>K1</td>\n",
       "      <td>2484.1</td>\n",
       "      <td>0.0</td>\n",
       "      <td>2.446680</td>\n",
       "      <td>0.166025</td>\n",
       "      <td>1</td>\n",
       "      <td>NaN</td>\n",
       "      <td>...</td>\n",
       "      <td>NaN</td>\n",
       "      <td>NaN</td>\n",
       "      <td>9.0</td>\n",
       "      <td>NaN</td>\n",
       "      <td>NaN</td>\n",
       "      <td>9.0</td>\n",
       "      <td>NaN</td>\n",
       "      <td>NaN</td>\n",
       "      <td>9.0</td>\n",
       "      <td>1.0</td>\n",
       "    </tr>\n",
       "    <tr>\n",
       "      <th>2598.4</th>\n",
       "      <td>0.0</td>\n",
       "      <td>3312.0</td>\n",
       "      <td>GN02</td>\n",
       "      <td>K1</td>\n",
       "      <td>2638.8</td>\n",
       "      <td>0.0</td>\n",
       "      <td>2.970969</td>\n",
       "      <td>0.157287</td>\n",
       "      <td>4</td>\n",
       "      <td>NaN</td>\n",
       "      <td>...</td>\n",
       "      <td>NaN</td>\n",
       "      <td>NaN</td>\n",
       "      <td>9.0</td>\n",
       "      <td>NaN</td>\n",
       "      <td>NaN</td>\n",
       "      <td>9.0</td>\n",
       "      <td>NaN</td>\n",
       "      <td>NaN</td>\n",
       "      <td>9.0</td>\n",
       "      <td>1.0</td>\n",
       "    </tr>\n",
       "    <tr>\n",
       "      <th>2750.1</th>\n",
       "      <td>0.0</td>\n",
       "      <td>3312.0</td>\n",
       "      <td>GN02</td>\n",
       "      <td>K1</td>\n",
       "      <td>2793.8</td>\n",
       "      <td>0.0</td>\n",
       "      <td>1.328198</td>\n",
       "      <td>0.052429</td>\n",
       "      <td>1</td>\n",
       "      <td>NaN</td>\n",
       "      <td>...</td>\n",
       "      <td>NaN</td>\n",
       "      <td>NaN</td>\n",
       "      <td>9.0</td>\n",
       "      <td>NaN</td>\n",
       "      <td>NaN</td>\n",
       "      <td>9.0</td>\n",
       "      <td>NaN</td>\n",
       "      <td>NaN</td>\n",
       "      <td>9.0</td>\n",
       "      <td>1.0</td>\n",
       "    </tr>\n",
       "    <tr>\n",
       "      <th>2998.8</th>\n",
       "      <td>0.0</td>\n",
       "      <td>3312.0</td>\n",
       "      <td>GN02</td>\n",
       "      <td>K1</td>\n",
       "      <td>3048.3</td>\n",
       "      <td>0.0</td>\n",
       "      <td>0.978672</td>\n",
       "      <td>0.069905</td>\n",
       "      <td>4</td>\n",
       "      <td>NaN</td>\n",
       "      <td>...</td>\n",
       "      <td>NaN</td>\n",
       "      <td>NaN</td>\n",
       "      <td>9.0</td>\n",
       "      <td>NaN</td>\n",
       "      <td>NaN</td>\n",
       "      <td>9.0</td>\n",
       "      <td>NaN</td>\n",
       "      <td>NaN</td>\n",
       "      <td>9.0</td>\n",
       "      <td>1.0</td>\n",
       "    </tr>\n",
       "  </tbody>\n",
       "</table>\n",
       "<p>602 rows × 37 columns</p>\n",
       "</div>"
      ],
      "text/plain": [
       "                        z_qc  z_bottom cruise station  pressure  pressure_qc  \\\n",
       "lon     lat     z                                                              \n",
       "30.284  84.3896 50.1     0.0    4057.0   GN04     050      50.6          0.0   \n",
       "                100.2    0.0    4057.0   GN04     050     101.3          0.0   \n",
       "                299.9    0.0    4057.0   GN04     050     303.4          0.0   \n",
       "                500.4    0.0    4057.0   GN04     050     506.4          0.0   \n",
       "                750.4    0.0    4057.0   GN04     050     759.9          0.0   \n",
       "...                      ...       ...    ...     ...       ...          ...   \n",
       "306.630 56.1206 2297.7   0.0    3312.0   GN02      K1    2331.7          0.0   \n",
       "                2447.0   0.0    3312.0   GN02      K1    2484.1          0.0   \n",
       "                2598.4   0.0    3312.0   GN02      K1    2638.8          0.0   \n",
       "                2750.1   0.0    3312.0   GN02      K1    2793.8          0.0   \n",
       "                2998.8   0.0    3312.0   GN02      K1    3048.3          0.0   \n",
       "\n",
       "                        Pad_BOTTLE  Pad_BOTTLE_err Pad_BOTTLE_qc  Pad_FISH  \\\n",
       "lon     lat     z                                                            \n",
       "30.284  84.3896 50.1      0.524766        0.174922             1       NaN   \n",
       "                100.2     0.524766        0.174922           1.0       NaN   \n",
       "                299.9     0.699688        0.174922           1.0       NaN   \n",
       "                500.4     0.349844        0.174922           1.0       NaN   \n",
       "                750.4     1.399375        0.174922           1.0       NaN   \n",
       "...                            ...             ...           ...       ...   \n",
       "306.630 56.1206 2297.7    1.188388        0.096120             1       NaN   \n",
       "                2447.0    2.446680        0.166025             1       NaN   \n",
       "                2598.4    2.970969        0.157287             4       NaN   \n",
       "                2750.1    1.328198        0.052429             1       NaN   \n",
       "                2998.8    0.978672        0.069905             4       NaN   \n",
       "\n",
       "                        ...  Thd_UWAY  Thd_UWAY_err  Thd_UWAY_qc  \\\n",
       "lon     lat     z       ...                                        \n",
       "30.284  84.3896 50.1    ...       NaN           NaN          9.0   \n",
       "                100.2   ...       NaN           NaN          9.0   \n",
       "                299.9   ...       NaN           NaN          9.0   \n",
       "                500.4   ...       NaN           NaN          9.0   \n",
       "                750.4   ...       NaN           NaN          9.0   \n",
       "...                     ...       ...           ...          ...   \n",
       "306.630 56.1206 2297.7  ...       NaN           NaN          9.0   \n",
       "                2447.0  ...       NaN           NaN          9.0   \n",
       "                2598.4  ...       NaN           NaN          9.0   \n",
       "                2750.1  ...       NaN           NaN          9.0   \n",
       "                2998.8  ...       NaN           NaN          9.0   \n",
       "\n",
       "                        Thd_BOAT_PUMP  Thd_BOAT_PUMP_err  Thd_BOAT_PUMP_qc  \\\n",
       "lon     lat     z                                                            \n",
       "30.284  84.3896 50.1              NaN                NaN               9.0   \n",
       "                100.2             NaN                NaN               9.0   \n",
       "                299.9             NaN                NaN               9.0   \n",
       "                500.4             NaN                NaN               9.0   \n",
       "                750.4             NaN                NaN               9.0   \n",
       "...                               ...                ...               ...   \n",
       "306.630 56.1206 2297.7            NaN                NaN               9.0   \n",
       "                2447.0            NaN                NaN               9.0   \n",
       "                2598.4            NaN                NaN               9.0   \n",
       "                2750.1            NaN                NaN               9.0   \n",
       "                2998.8            NaN                NaN               9.0   \n",
       "\n",
       "                        Thd_SUBICE_PUMP  Thd_SUBICE_PUMP_err  \\\n",
       "lon     lat     z                                              \n",
       "30.284  84.3896 50.1                NaN                  NaN   \n",
       "                100.2               NaN                  NaN   \n",
       "                299.9               NaN                  NaN   \n",
       "                500.4               NaN                  NaN   \n",
       "                750.4               NaN                  NaN   \n",
       "...                                 ...                  ...   \n",
       "306.630 56.1206 2297.7              NaN                  NaN   \n",
       "                2447.0              NaN                  NaN   \n",
       "                2598.4              NaN                  NaN   \n",
       "                2750.1              NaN                  NaN   \n",
       "                2998.8              NaN                  NaN   \n",
       "\n",
       "                        Thd_SUBICE_PUMP_qc  QV:ODV:SAMPLE  \n",
       "lon     lat     z                                          \n",
       "30.284  84.3896 50.1                   9.0            1.0  \n",
       "                100.2                  9.0            1.0  \n",
       "                299.9                  9.0            1.0  \n",
       "                500.4                  9.0            1.0  \n",
       "                750.4                  9.0            1.0  \n",
       "...                                    ...            ...  \n",
       "306.630 56.1206 2297.7                 9.0            1.0  \n",
       "                2447.0                 9.0            1.0  \n",
       "                2598.4                 9.0            1.0  \n",
       "                2750.1                 9.0            1.0  \n",
       "                2998.8                 9.0            1.0  \n",
       "\n",
       "[602 rows x 37 columns]"
      ]
     },
     "execution_count": 14,
     "metadata": {},
     "output_type": "execute_result"
    }
   ],
   "source": [
    "# examples without using tuples (can be ambiguous):\n",
    "obs_d.loc[0.00189, 'z_bottom']  # row lon=0.00189 (first of the index) and column z_bottom\n",
    "obs_d.loc[0.00189, :]           # row lon=0.00189 (first of the index) and all columns\n",
    "obs_d.loc[:,'Pad_BOTTLE']       # all rows; column Pad\n",
    "obs_d.loc[359.99814, -66.4999]  # lon=359.99814, lat=-66.4999 => only selecting rows here so ambiguous how to read .loc[,]\n",
    "\n",
    "# BETTER: same examples with using tuples to group row and column selections:\n",
    "# => not ambiguous and note that the bold headers stay (if extra commas are put in)\n",
    "obs_d.loc[(0.00189,), ('z_bottom',)]   # row lon=0.00189 (first of the index) and column z_bottom\n",
    "obs_d.loc[(0.00189,), :]               # row lon=0.00189 (first of the index) and all columns\n",
    "obs_d.loc[:, ('Pad_BOTTLE',)]          # all rows; column Pad\n",
    "obs_d.loc[(359.99814, -66.4999)]       # same as obs_d.loc[(359.99814, -66.4999), :]   # lon=359.99814, lat=--66.4999\n",
    "\n",
    "obs_d.loc[(359.99814, -66.4999), ('Pad_BOTTLE',)]   # show Pad for a certain lon, lat\n",
    "\n",
    "# pass a list of labels to select multiple rows or columns:\n",
    "obs_d.loc[(359.99814, -66.4999), ('Pad_BOTTLE','Thd_BOTTLE')]\n",
    "obs_d.loc[([0.00189,359.99814]), ('Pad_BOTTLE',)]   # deleted the lat=-66.4999 here, because lats are different at different lons\n",
    "\n",
    "# SLICING BY GIVING IN EXACT COORDS via start:stop:step is correctly done in a tuple:\n",
    "# obs_d.loc[0.00189:359.99814, 'Pad_BOTTLE']        # slicing works without tuples (for 1st index only(?))\n",
    "# obs_d.loc[(0.00189:359.99814,), ('Pad_BOTTLE',)]  # but analogous with tuples gives syntax error\n",
    "obs_d.loc[(0.00189,):(359.99814,), ('Pad_BOTTLE',)]  # this is the correct way with tuples to slice index 1\n",
    "obs_d.loc[(359.99814,-66.4999,):(359.99814,-58.1989,),('Pad_BOTTLE','Thd_BOTTLE')]  # slice index 1 and 2 (index 1 the same)\n",
    "obs_d.loc[(0.00189,-66.4999,):(359.99814,-58.1989,),('Pad_BOTTLE','Thd_BOTTLE')]     # slice index 1 and 2 (index 1 different)\n",
    "\n",
    "# SLICING WHATEVER WE WANT\n",
    "# We can use : to select all content when retrieving data via the first-level index. \n",
    "# However, we will be getting SyntaxError when using it with a multi-level index.\n",
    "# The correct way to select all content on a specific index level is to use slice(None):\n",
    "obs_d.loc[(slice(None), slice(None), slice(0,100)),('Pad_BOTTLE','Pad_BOTTLE_err',)]  # show all Pad, Pad_err in upper 100 meter\n",
    "\n",
    "# SLICING FROM IN A LIST\n",
    "obs_d[obs_d.cruise.isin(['GA02','GA03'])]\n",
    "\n",
    "# skipping part of tutorial #5 on .xs() (cross section) and #6 on index slice package"
   ]
  },
  {
   "cell_type": "markdown",
   "metadata": {},
   "source": [
    "### Check if data is complete\n",
    "The cruises that should be in there are:  \n",
    "Pa-231: GA02, GA03 (west and east) GIPY05 (west, center and east), GN01 (west and east), GN03, GPc01 (west and east), GP16  \n",
    "Th-230: same list plus GA10, GIpr05 (north and south; Indin ocean)  \n",
    "\n",
    "Sources (with map):    \n",
    "https://egeotraces.org/?group=Natural%20Radionuclides,variable=Pa_231%20dissolved  \n",
    "https://egeotraces.org/?group=Natural%20Radionuclides,variable=Th_230%20dissolved"
   ]
  },
  {
   "cell_type": "code",
   "execution_count": 15,
   "metadata": {},
   "outputs": [
    {
     "data": {
      "text/plain": [
       "array(['GA02', 'GA03', 'GA10', 'GAc02', 'GAc03', 'GIPY04', 'GIPY05',\n",
       "       'GIpr05', 'GN01', 'GN02', 'GN03', 'GN04', 'GP16', 'GPc01', 'GSc02'],\n",
       "      dtype=object)"
      ]
     },
     "execution_count": 15,
     "metadata": {},
     "output_type": "execute_result"
    }
   ],
   "source": [
    "cruises = np.unique(obs_d.cruise)\n",
    "# manually set colours such that e.g. GAc02 and GA02 are grouped together\n",
    "cols = {'GA02':'C0', 'GAc02':'C0', 'GA03':'C1', 'GAc03':'C1', 'GA10':'C2', \n",
    "        'GIPY04':'C3', 'GIPY05':'C4','GSc02':'C5','GIpr05':'C6', \n",
    "        'GN01':'C7', 'GN02':'C8', 'GN03':'C9', 'GN04':'C10', \n",
    "        'GP16':'C11', 'GPc01':'C12'}\n",
    "\n",
    "cruises\n",
    "# all required cruises are in the list; but even extra are: GN02, GN04, GIPY04, GSc02 (south west indian / southern ocean)"
   ]
  },
  {
   "cell_type": "code",
   "execution_count": 16,
   "metadata": {},
   "outputs": [
    {
     "name": "stdout",
     "output_type": "stream",
     "text": [
      "RHS: Black dots are printed at the bottom depth of each station location\n",
      "\n"
     ]
    },
    {
     "data": {
      "image/png": "[encoded data removed]",
      "text/plain": [
       "<Figure size 864x288 with 2 Axes>"
      ]
     },
     "metadata": {
      "needs_background": "light"
     },
     "output_type": "display_data"
    }
   ],
   "source": [
    "## DISTRIBUTION OF DATA POINTS:    VERSION FOR PA AND TH TOGETHER\n",
    "# plots all data in obs OBJECT\n",
    "\n",
    "##### SETTINGS ############\n",
    "small_dots = False  # for col 2; set True if many many data\n",
    "###########################\n",
    "\n",
    "## plot\n",
    "fig, ax = plt.subplots(1,2, figsize=(12,4))\n",
    "ax[0].set_title('Stations')\n",
    "ax[1].set_title('Samples in depth')\n",
    "counter = 0  # used for x axis (index number of station)\n",
    "for m,this_cruise in enumerate(cruises):\n",
    "    # prepare plotting objects\n",
    "    this_cruise_obs = obs_d.where(obs_d.cruise==this_cruise).dropna(how='all')\n",
    "    [stations, stations_lon, stations_lat, stations_z_bottom, stations_z] = f.prepare_stations_z_plot(this_cruise_obs)\n",
    "    \n",
    "    # plot col 1\n",
    "    ax[0].scatter(stations_lon, stations_lat, color=cols[this_cruise], label=this_cruise)\n",
    "    \n",
    "    # plot col 2\n",
    "    for n,this_station in enumerate(stations):\n",
    "        i_station = counter + n\n",
    "        if small_dots:\n",
    "            ax[1].scatter([i_station]*len(stations_z[n]), stations_z[n], \n",
    "                          s=0.1, color=cols[this_cruise])                              # expand [n] on x axis to [n, n, ... , n] with same length as y\n",
    "            ax[1].scatter(i_station, stations_z_bottom[n], s=1, marker='_', color='k') # plot z_bottom as a black horizontal line\n",
    "        else:\n",
    "            ax[1].scatter([i_station]*len(stations_z[n]), stations_z[n], \n",
    "                          s=0.5, color=cols[this_cruise])\n",
    "            ax[1].scatter(i_station, stations_z_bottom[n], s=2, marker='_', color='k') \n",
    "    counter = counter + len(stations_z)\n",
    "    \n",
    "ax[0].set_xlabel('Longitude [degree East]')\n",
    "ax[0].set_ylabel('Latitude')\n",
    "ax[0].set_ylim(-100,100)\n",
    "ax[0].set_xlim(-10,370)\n",
    "ax[0].legend(loc='center left', fontsize=8, ncol=2)\n",
    "print('RHS: Black dots are printed at the bottom depth of each station location\\n')\n",
    "ax[1].set_xlabel('station index number')\n",
    "ax[1].set_ylabel('Depth [m]')\n",
    "ax[1].invert_yaxis()\n",
    "plt.tight_layout()\n",
    "# plt.savefig(savedir / 'data_spread_pad_thd_together.png', dpi=500)\n",
    "plt.savefig(savedir / 'data_spread_pad_thd_together.pdf')\n",
    "plt.show()\n",
    "\n",
    "# Left panel is consistent with the tracks in the downloaded figure with Africa on the left hand side border (hard to see);\n",
    "# the west-east track just south of the equator is in the Pacific"
   ]
  },
  {
   "cell_type": "code",
   "execution_count": 17,
   "metadata": {},
   "outputs": [
    {
     "name": "stdout",
     "output_type": "stream",
     "text": [
      "Reduced dataset from  2256  rows to  2005  rows after deleting nans.\n",
      "Reduced dataset from  2256  rows to  2252  rows after deleting nans.\n",
      "RHS: Black dots are printed at the bottom depth of each station location\n"
     ]
    },
    {
     "data": {
      "image/png": "[encoded data removed]",
      "text/plain": [
       "<Figure size 720x432 with 4 Axes>"
      ]
     },
     "metadata": {
      "needs_background": "light"
     },
     "output_type": "display_data"
    }
   ],
   "source": [
    "## DISTRIBUTION OF DATA POINTS:    VERSION FOR PA AND TH SEPARATELY\n",
    "# plots all data in obs OBJECT\n",
    "\n",
    "##### SETTINGS ############\n",
    "small_dots_stations = True\n",
    "small_dots = False  # set True if many many data\n",
    "land = False         # not working yet\n",
    "legend = False\n",
    "###########################\n",
    "\n",
    "obs_Pa = f.take_data_subset_nonnan(obs_d.loc[:,('Pad_BOTTLE','Pad_BOAT_PUMP','Pad_SUBICE_PUMP','Pad_FISH','Pad_UWAY',\n",
    "                                              'station','z_bottom','cruise')])\n",
    "obs_Th = f.take_data_subset_nonnan(obs_d.loc[:,('Thd_BOTTLE','Thd_BOAT_PUMP','Thd_SUBICE_PUMP','Thd_FISH','Thd_UWAY',\n",
    "                                              'station','z_bottom','cruise')])\n",
    "\n",
    "# Calculate the landmask (used in surface plots)\n",
    "if \"res_entire\" not in globals():\n",
    "    if ensemble == 'PAR':\n",
    "        runid = all_run_nrs[ensemble][0]   # for example\n",
    "    else:\n",
    "        runid = all_run_nrs[ensemble][0] + 1000  # must be ID\n",
    "    [res_table, res_entire] = f.get_sim(memberid=runid, path=modeldir, obs_ave=obs_d_ave, \n",
    "                                        ensemble=ensemble, convert_unit_to_obs=True)\n",
    "land_mask = f.get_landmask(res_entire)\n",
    "X,Y = np.meshgrid(res_entire.lon_u, res_entire.lat_u) # u grid because pcolor needs left bottom corner\n",
    "\n",
    "## plot\n",
    "fig, ax = plt.subplots(2,2, figsize=(10,6))\n",
    "\n",
    "for row, this_obs in enumerate([obs_Pa, obs_Th]):\n",
    "    \n",
    "    ax[row,0].set_title('Stations')\n",
    "    ax[row,1].set_title('Samples in depth')\n",
    "\n",
    "    ## prepare plotting objects\n",
    "    counter = 0  # used for x axis (index number of station)\n",
    "    for m,this_cruise in enumerate(cruises):\n",
    "        # prepare plotting objects\n",
    "        this_cruise_obs = this_obs.where(this_obs.cruise==this_cruise).dropna(how='all')\n",
    "        [stations, stations_lon, stations_lat, stations_z_bottom, stations_z] = f.prepare_stations_z_plot(this_cruise_obs)\n",
    "\n",
    "        # plot col 1\n",
    "        if small_dots_stations:\n",
    "            ax[row,0].scatter(stations_lon, stations_lat, s=2, color=cols[this_cruise], label=this_cruise)\n",
    "        else:\n",
    "            ax[row,0].scatter(stations_lon, stations_lat, color=cols[this_cruise], label=this_cruise)\n",
    "\n",
    "        # plot col 2\n",
    "        for n,this_station in enumerate(stations):\n",
    "            i_station = counter + n\n",
    "            if small_dots:\n",
    "                ax[row,1].scatter([i_station]*len(stations_z[n]), stations_z[n], \n",
    "                                  s=0.1, color=cols[this_cruise])                              # expand [n] on x axis to [n, n, ... , n] with same length as y\n",
    "                ax[row,1].scatter(i_station, stations_z_bottom[n], s=1, marker='_', color='k') # plot z_bottom as a black horizontal line\n",
    "            else:\n",
    "                ax[row,1].scatter([i_station]*len(stations_z[n]), stations_z[n], \n",
    "                                  s=0.5, color=cols[this_cruise])\n",
    "                ax[row,1].scatter(i_station, stations_z_bottom[n], s=2, marker='_', color='k') \n",
    "        counter = counter + len(stations_z)    \n",
    "\n",
    "\n",
    "    ax[row,0].set_xlabel('Longitude [degree East]')\n",
    "    if land:\n",
    "        ax[row,0].pcolor(X, Y, land_mask[2].values, cmap='Greys', vmin=-0.5, vmax=0.1) # add black land\n",
    "    ax[row,0].set_ylim(-100,100)\n",
    "    ax[row,0].set_xlim(-10,370)\n",
    "    if legend:\n",
    "        ax[row,0].legend(loc='center left', fontsize=8, ncol=2)\n",
    "    \n",
    "    ax[row,1].set_xlabel('Station index number')\n",
    "    ax[row,1].set_ylabel('Depth [km]')\n",
    "    ax[row,1].invert_yaxis()\n",
    "    \n",
    "ax[0,0].set_ylabel('Pad \\n \\n Latitude')\n",
    "ax[1,0].set_ylabel('Thd \\n \\n Latitude')\n",
    "\n",
    "\n",
    "print('RHS: Black dots are printed at the bottom depth of each station location')\n",
    "\n",
    "plt.tight_layout()\n",
    "# plt.savefig(savedir / 'data_spread_pad_thd_per_row.png', dpi=500)\n",
    "plt.savefig(savedir / 'data_spread_pad_thd_per_row.pdf')\n",
    "plt.show()"
   ]
  },
  {
   "cell_type": "markdown",
   "metadata": {},
   "source": [
    "### Find out which concentration measurements to use\n",
    "\n",
    "**Which types of concentration are relevant?** For Pad and Thd the following exist. I added description from excel in https://www.geotraces.org/wp-content/uploads/2020/02/IDP2021_DissolvedTEIS_Ligands_SI_Assignment_27February2020_web.xlsx:\n",
    "- CONC_BOTTLE: Samples collected using a bottle sampling device\n",
    "- CONC_PUMP: Any kind of pump (e.g., in situ or deck)  \n",
    "  => CONC_BOATPUMP  \n",
    "  => CONC_SUBICEPUMP\n",
    "- CONC_FISH 'Towed fish': Samples collected using a trace metal clean towed fish\n",
    "- CONC_UWAY 'Ship's underway': Samples collected using a ship's underway seawater sampling system  \n",
    "\n",
    "**Conclusion: only use CONC_BOTTLE (as was done above under Load dissolved observations - quick)**"
   ]
  },
  {
   "cell_type": "code",
   "execution_count": 18,
   "metadata": {},
   "outputs": [
    {
     "name": "stdout",
     "output_type": "stream",
     "text": [
      "Reduced dataset from  2256  rows to  2200  rows after deleting nans.\n",
      "Reduced dataset from  2256  rows to  34  rows after deleting nans.\n",
      "Reduced dataset from  2256  rows to  3  rows after deleting nans.\n",
      "Reduced dataset from  2256  rows to  1  rows after deleting nans.\n",
      "Reduced dataset from  2256  rows to  18  rows after deleting nans.\n",
      "Reduced dataset from  34  rows to  34  rows after deleting nans.\n",
      "RHS: Black dots are printed at the bottom depth of each station location\n",
      "RHS: Black dots are printed at the bottom depth of each station location\n"
     ]
    },
    {
     "data": {
      "image/png": "[encoded data removed]",
      "text/plain": [
       "<Figure size 720x1080 with 10 Axes>"
      ]
     },
     "metadata": {
      "needs_background": "light"
     },
     "output_type": "display_data"
    }
   ],
   "source": [
    "# ================= TAKES A WHILE (< 5 MIN)========================\n",
    "\n",
    "## DISTRIBUTION OF DATA POINTS:    VERSION PER DATA TYPE\n",
    "# (does not depends on obs object; newly loads in data)\n",
    "\n",
    "##### SETTINGS ############\n",
    "small_dots_stations = False\n",
    "small_dots = False   # set True if many many data\n",
    "land = False         # TODO not working yet\n",
    "legend = False\n",
    "###########################\n",
    "\n",
    "## prepare plotting objects\n",
    "obs_bottle = f.take_data_subset_nonnan(obs_d.loc[:,('z_qc','z_bottom','cruise','station','pressure', 'pressure_qc','Pad_BOTTLE','Thd_BOTTLE',\n",
    "                                                  'Pad_BOTTLE_err','Thd_BOTTLE_err','Pad_BOTTLE_qc','Thd_BOTTLE_qc','QV:ODV:SAMPLE')])\n",
    "# keep more columns for obs_bottle because we will keep using it later on\n",
    "obs_fish = f.take_data_subset_nonnan(obs_d.loc[:,('cruise','station','z_bottom','Pad_FISH','Thd_FISH')])\n",
    "obs_uway = f.take_data_subset_nonnan(obs_d.loc[:,('cruise','station','z_bottom','Pad_UWAY','Thd_UWAY')])\n",
    "obs_boat_pump = f.take_data_subset_nonnan(obs_d.loc[:,('cruise','station','z_bottom','Pad_BOAT_PUMP','Thd_BOAT_PUMP')])\n",
    "obs_subice_pump = f.take_data_subset_nonnan(obs_d.loc[:,('cruise','station','z_bottom','Pad_SUBICE_PUMP','Thd_SUBICE_PUMP')])\n",
    "\n",
    "obs_fish = f.take_data_subset_nonnan(obs_fish)\n",
    "\n",
    "## plot\n",
    "fig, ax = plt.subplots(5,2, figsize=(10,15))\n",
    "\n",
    "ax[0,0].set_title('Stations\\n')\n",
    "ax[0,1].set_title('Samples in depth\\n')\n",
    "ax[4,0].set_xlabel('Longitude [degree East]')\n",
    "ax[4,1].set_xlabel('Station index number')\n",
    "\n",
    "print('RHS: Black dots are printed at the bottom depth of each station location')\n",
    "row_titles = ['CONC_BOTTLE', 'CONC_FISH', 'CONC_UWAY', 'BOAT_PUMP', 'SUBICE_PUMP']\n",
    "for row, this_obs_type in enumerate([obs_bottle, obs_fish, obs_uway, obs_boat_pump, obs_subice_pump]):\n",
    "    \n",
    "    ax[row,0].set_title('Stations')\n",
    "    ax[row,1].set_title('Samples in depth')\n",
    "\n",
    "    ## prepare plotting objects\n",
    "    counter = 0  # used for x axis (index number of station)\n",
    "    for m,this_cruise in enumerate(cruises):\n",
    "        # prepare plotting objects\n",
    "        this_cruise_obs = this_obs_type.where(this_obs_type.cruise==this_cruise).dropna(how='all')\n",
    "        [stations, stations_lon, stations_lat, stations_z_bottom, stations_z] = f.prepare_stations_z_plot(this_cruise_obs)\n",
    "\n",
    "        # plot col 1\n",
    "        if small_dots_stations:\n",
    "            ax[row,0].scatter(stations_lon, stations_lat, s=2, color=cols[this_cruise], label=this_cruise)\n",
    "        else:\n",
    "            ax[row,0].scatter(stations_lon, stations_lat, color=cols[this_cruise], label=this_cruise)\n",
    "\n",
    "        # plot col 2\n",
    "        for n,this_station in enumerate(stations):\n",
    "            i_station = counter + n\n",
    "            if small_dots:\n",
    "                ax[row,1].scatter([i_station]*len(stations_z[n]), stations_z[n], \n",
    "                                  s=0.1, color=cols[this_cruise])                              # expand [n] on x axis to [n, n, ... , n] with same length as y\n",
    "                ax[row,1].scatter(i_station, stations_z_bottom[n], s=1, marker='_', color='k') # plot z_bottom as a black horizontal line\n",
    "            else:\n",
    "                ax[row,1].scatter([i_station]*len(stations_z[n]), stations_z[n], \n",
    "                                  s=0.5, color=cols[this_cruise])\n",
    "                ax[row,1].scatter(i_station, stations_z_bottom[n], s=2, marker='_', color='k') \n",
    "        counter = counter + len(stations_z)    \n",
    "\n",
    "    ax[row,0].set_xlabel('Longitude [degree East]')\n",
    "    ax[row,0].set_ylabel(row_titles[row] + '\\nLatitude')\n",
    "    if land:\n",
    "        ax[row,0].pcolor(X, Y, land_mask[2].values, cmap='Greys', vmin=-0.5, vmax=0.1) # add black land\n",
    "    ax[row,0].set_ylim(-100,100)\n",
    "    ax[row,0].set_xlim(-10,370)\n",
    "    if legend:\n",
    "        ax[1,0].legend(loc='center left', fontsize=8, ncol=2)\n",
    "    \n",
    "    ax[row,1].set_xlabel('Station index number')\n",
    "    ax[row,1].set_ylabel('Depth [km]')\n",
    "    ax[row,1].invert_yaxis()\n",
    "\n",
    "print('RHS: Black dots are printed at the bottom depth of each station location')\n",
    "    \n",
    "plt.tight_layout()\n",
    "plt.savefig(savedir / 'data_spread_pad_thd_per_type.pdf')\n",
    "\n",
    "# Left panel seemed consistent with the tracks in the downloaded figure\n",
    "# We see Africa on the left hand side border (before dropping nans succesfull); the horizontal track ca along the equator is in the Pacific"
   ]
  },
  {
   "cell_type": "markdown",
   "metadata": {},
   "source": [
    "Summary of print statements:   \n",
    "- Total dataset contained 96184 rows including nans (stations or depths were vars other than Pad, Thd types were measured).\n",
    "- Pad and Thd BOTTLE:  2200  rows\n",
    "- Pad and Thd FISH:  34  rows (close to surface)\n",
    "- Pad and Thd UWAY:  3  rows\n",
    "- Pad and Thd BOAT_PUMP:  1  rows\n",
    "- Pad and Thd SUBICE_PUMP:  18  rows"
   ]
  },
  {
   "cell_type": "code",
   "execution_count": 19,
   "metadata": {},
   "outputs": [
    {
     "name": "stdout",
     "output_type": "stream",
     "text": [
      "maximum depth [m] where observations occur:\n",
      "BOTTLE: 5815.3\n",
      "FISH: 5.0\n",
      "UWAY: 7.0\n",
      "BOAT_PUMP: 1.0\n",
      "SUBICE_PUMP: 20.0\n"
     ]
    }
   ],
   "source": [
    "print('maximum depth [m] where observations occur:')\n",
    "print('BOTTLE:', np.vstack(obs_bottle.index)[:,2].max())\n",
    "print('FISH:', np.vstack(obs_fish.index)[:,2].max())\n",
    "print('UWAY:', np.vstack(obs_uway.index)[:,2].max())\n",
    "print('BOAT_PUMP:', np.vstack(obs_boat_pump.index)[:,2].max())\n",
    "print('SUBICE_PUMP:', np.vstack(obs_subice_pump.index)[:,2].max())"
   ]
  },
  {
   "cell_type": "markdown",
   "metadata": {},
   "source": [
    "Because all types other than BOTTLE are very rare and occur close to the surface, I don't take them into account. So I only consider BOTTLE."
   ]
  },
  {
   "cell_type": "code",
   "execution_count": 20,
   "metadata": {},
   "outputs": [],
   "source": [
    "# now constrain observations only to BOTTLE\n",
    "obs_d = obs_bottle.rename(columns={'Pad_BOTTLE':'Pad','Thd_BOTTLE':'Thd','Pad_BOTTLE_err':'Pad_err',\n",
    "                                   'Thd_BOTTLE_err':'Thd_err','Pad_BOTTLE_qc':'Pad_qc','Thd_BOTTLE_qc':'Thd_qc'})"
   ]
  },
  {
   "cell_type": "markdown",
   "metadata": {},
   "source": [
    "### Drop data of bad quality\n",
    "**Quality flags** are given in columns with quality control variables, named var_qc or var_qv. Their meaning is found here: https://vocab.seadatanet.org/v_bodc_vocab_v2/browse.asp?order=conceptid&formname=search&screen=0&lib=l20&v0_0=&v1_0=conceptid%2Cpreflabel%2Caltlabel%2Cdefinition%2Cmodified&v2_0=0&v0_1=&v1_1=conceptid&v2_1=3&v0_2=&v1_2=preflabel&v2_2=3&v0_3=&v1_3=altlabel&v2_3=3&v0_4=&v1_4=modified&v2_4=9&v0_5=&v1_5=modified&v2_5=10&x=27&y=12&v1_6=&v2_6=&v1_7=&v2_7=  \n",
    "\n",
    "When loading data as .nc we also found this description, but it seems not relevant for our .txt data:  \n",
    "flag_values : [48 49 50 51 52 53 54 55 56 57 65 81]  \n",
    "flag_meanings :  \n",
    "no_quality_control good_value probably_good_value probably_bad_value bad_value changed_value value_below_detection value_in_excess interpolated_value missing_value value_phenomenon_uncertain value_below_limit_of_quantification   \n",
    "\n",
    "Archive could to find number of occurrences of e.g. 'Q':  \n",
    "`from collections import Counter`  \n",
    "`Counter([f'{x} ({type(x)})' for x in obs_d.iloc[:,21].values])`  \n",
    "\n",
    "**Conclusion: given the high number of quality range 1 (1912 Pad + 2160 Thd) and the low accumulated number of the others (45 Pad + 36 Thd), which are <3%, we only use quality range 1 (as was done above under Load dissolved observations - quick)**"
   ]
  },
  {
   "cell_type": "code",
   "execution_count": 24,
   "metadata": {},
   "outputs": [
    {
     "name": "stdout",
     "output_type": "stream",
     "text": [
      "general quality values of sample:\n"
     ]
    },
    {
     "data": {
      "text/plain": [
       "array([1.])"
      ]
     },
     "execution_count": 24,
     "metadata": {},
     "output_type": "execute_result"
    }
   ],
   "source": [
    "# look at this separate column\n",
    "print('general quality values of sample:')\n",
    "np.unique(obs['QV:ODV:SAMPLE']) \n",
    "# 1 = good value everywhere => OK"
   ]
  },
  {
   "cell_type": "code",
   "execution_count": 25,
   "metadata": {},
   "outputs": [
    {
     "name": "stdout",
     "output_type": "stream",
     "text": [
      "quality values of Thd:\n"
     ]
    },
    {
     "data": {
      "text/plain": [
       "array([1., 2., 3., 4., 5., 9.])"
      ]
     },
     "execution_count": 25,
     "metadata": {},
     "output_type": "execute_result"
    }
   ],
   "source": [
    "# in Thd_qc neatly only floats appear:\n",
    "print('quality values of Thd:')\n",
    "np.unique(obs_d.Thd_qc)"
   ]
  },
  {
   "cell_type": "code",
   "execution_count": 26,
   "metadata": {},
   "outputs": [
    {
     "name": "stdout",
     "output_type": "stream",
     "text": [
      "quality values of Pad:\n"
     ]
    },
    {
     "data": {
      "text/plain": [
       "[9.0, 1.0, '1', 5.0, 4.0, '9', 3.0, '2', '3', 2.0, '6', '4', 'Q']"
      ]
     },
     "execution_count": 26,
     "metadata": {},
     "output_type": "execute_result"
    }
   ],
   "source": [
    "# for Pad_qc unique not working because also strings appear: a bit of a mess:\n",
    "Pad_qc_unique = []\n",
    "for qc in obs_d.Pad_qc:\n",
    "    if qc not in Pad_qc_unique:\n",
    "        Pad_qc_unique.append(qc)\n",
    "print('quality values of Pad:')\n",
    "Pad_qc_unique"
   ]
  },
  {
   "cell_type": "code",
   "execution_count": 27,
   "metadata": {},
   "outputs": [
    {
     "name": "stdout",
     "output_type": "stream",
     "text": [
      "Pad_qc:\n"
     ]
    },
    {
     "data": {
      "text/plain": [
       "Counter({\"9.0 (<class 'float'>)\": 171,\n",
       "         \"1.0 (<class 'float'>)\": 1487,\n",
       "         \"1 (<class 'str'>)\": 425,\n",
       "         \"5.0 (<class 'float'>)\": 3,\n",
       "         \"4.0 (<class 'float'>)\": 1,\n",
       "         \"9 (<class 'str'>)\": 72,\n",
       "         \"3.0 (<class 'float'>)\": 7,\n",
       "         \"2 (<class 'str'>)\": 1,\n",
       "         \"3 (<class 'str'>)\": 1,\n",
       "         \"2.0 (<class 'float'>)\": 1,\n",
       "         \"6 (<class 'str'>)\": 11,\n",
       "         \"4 (<class 'str'>)\": 6,\n",
       "         \"Q (<class 'str'>)\": 14})"
      ]
     },
     "execution_count": 27,
     "metadata": {},
     "output_type": "execute_result"
    }
   ],
   "source": [
    "# count occurrences per qv; summarized in text below\n",
    "from collections import Counter\n",
    "print('Pad_qc:')\n",
    "Counter([f'{x} ({type(x)})' for x in obs_d.Pad_qc])"
   ]
  },
  {
   "cell_type": "code",
   "execution_count": 28,
   "metadata": {},
   "outputs": [
    {
     "name": "stdout",
     "output_type": "stream",
     "text": [
      "Thd_qc:\n"
     ]
    },
    {
     "data": {
      "text/plain": [
       "Counter({\"1.0 (<class 'float'>)\": 2160,\n",
       "         \"3.0 (<class 'float'>)\": 6,\n",
       "         \"5.0 (<class 'float'>)\": 3,\n",
       "         \"9.0 (<class 'float'>)\": 4,\n",
       "         \"2.0 (<class 'float'>)\": 20,\n",
       "         \"4.0 (<class 'float'>)\": 7})"
      ]
     },
     "execution_count": 28,
     "metadata": {},
     "output_type": "execute_result"
    }
   ],
   "source": [
    "print('Thd_qc:')\n",
    "Counter([f'{x} ({type(x)})' for x in obs_d.Thd_qc])"
   ]
  },
  {
   "cell_type": "markdown",
   "metadata": {},
   "source": [
    "**Summary of quality variables:**  \n",
    "1 good value:   \n",
    "Pad 1912  Thd 2160  \n",
    "\n",
    "2 probably good value:  \n",
    "Pad 2  Thd 20  \n",
    "\n",
    "3 probably bad value:  \n",
    "(Data value recognised as unusual during quality control that forms part of a feature that is probably inconsistent with real phenomena.)  \n",
    "Pad 8  Thd 6\n",
    "\n",
    "4 bad value: An obviously erroneous data value.  \n",
    "Pad 7  Thd 7  \n",
    "\n",
    "5 changed value:  \n",
    "(Data value adjusted during quality control. Best practice strongly recommends that the value before the change be preserved in the data or its accompanying metadata.)  \n",
    "Pad 3  Thd 3  \n",
    "\n",
    "6 value below detection:  \n",
    "(The level of the measured phenomenon was less than the limit of detection (LoD) for the method employed to measure it. The accompanying value is the detection limit for the technique or zero if that value is unknown.)  \n",
    "Pad 11  Thd 0  \n",
    "\n",
    "9 missing value  \n",
    "(JS: this basically means Pad is measured and Thd is not or vice versa)  \n",
    "Pad 243  Thd 4  \n",
    "\n",
    "Q value below limit of quantification:  \n",
    "(Level of the measured phenomenon was less than the limit of quantification (LoQ). The accompanying value is the limit of quantification for the analytical method.)  \n",
    "Pad 14  Thd 0\n",
    "\n",
    "**Sum:**  \n",
    "Pad 2200  Thd 2200 (correct; =nr of rows in obs)  \n",
    "without nans (value 9) we should have:  \n",
    "Pad 1957  Thd 2196  \n",
    "\n",
    "Conclusion: given the high number of quality range 1 (1912 Pad + 2160 Thd) and the low accumulated number of the others (45 Pad + 36 Thd), which are <3%, we only use quality range 1."
   ]
  },
  {
   "cell_type": "code",
   "execution_count": null,
   "metadata": {},
   "outputs": [],
   "source": [
    "## restrain observations to only quality value 1; \n",
    "# this is also done if directly loading obs via .get_obs_geotraces(kwargs, good_quality=True)\n",
    "obs_d = f.restrict_obs_to_good_quality(obs_d)"
   ]
  },
  {
   "cell_type": "code",
   "execution_count": 84,
   "metadata": {},
   "outputs": [
    {
     "data": {
      "image/png": "[encoded data removed]",
      "text/plain": [
       "<Figure size 864x288 with 2 Axes>"
      ]
     },
     "metadata": {
      "needs_background": "light"
     },
     "output_type": "display_data"
    },
    {
     "name": "stdout",
     "output_type": "stream",
     "text": [
      "min, average and max measurement uncertainty for Pad [%]: 0.39 14.68 12203.42\n",
      "min, average and max measurement uncertainty for Thd [%]: 0.13 3.63 366.67\n",
      "For Pad:  57.9 % of measurements has uncertainty of < 5%;  22.0 % has uncertainty of 5-10%;\n",
      "For Thd:  81.1 % of measurements has uncertainty of < 5%;  13.2 % has uncertainty of 5-10%;\n"
     ]
    },
    {
     "data": {
      "text/plain": [
       "<Figure size 432x288 with 0 Axes>"
      ]
     },
     "metadata": {},
     "output_type": "display_data"
    }
   ],
   "source": [
    "# investigate measurement uncertainties\n",
    "nr_bins = 20\n",
    "\n",
    "Pad_uncertainty_percentage = (obs_d.Pad_err / obs_d.Pad * 100).dropna(how='all')\n",
    "Thd_uncertainty_percentage = (obs_d.Thd_err / obs_d.Thd * 100).dropna(how='all')\n",
    "\n",
    "## plot\n",
    "fig, ax = plt.subplots(1,2, figsize=(12,4))\n",
    "\n",
    "obj = Pad_uncertainty_percentage.values\n",
    "n,bins,patches = ax[0].hist(obj, bins=nr_bins, range=(0,100))\n",
    "ax[0].set_ylabel('Density')\n",
    "ax[0].set_xlabel('Uncertainty [%]')\n",
    "ax[0].set_title('Pad')\n",
    "\n",
    "obj = Thd_uncertainty_percentage.values\n",
    "n,bins,patches = ax[1].hist(obj, bins=nr_bins, range=(0,100))\n",
    "ax[1].set_xlabel('Uncertainty [%]')\n",
    "ax[1].set_title('Thd')\n",
    "\n",
    "plt.tight_layout()\n",
    "plt.show()\n",
    "plt.savefig(savedir / 'uncertainty_dissolved_geotraces.pdf')\n",
    "\n",
    "## print info\n",
    "print('min, average and max measurement uncertainty for Pad [%]:', np.round(Pad_uncertainty_percentage.min(),2), \n",
    "      np.round(Pad_uncertainty_percentage.mean(),2), np.round(Pad_uncertainty_percentage.max(),2))\n",
    "print('min, average and max measurement uncertainty for Thd [%]:', np.round(Thd_uncertainty_percentage.min(),2), \n",
    "      np.round(Thd_uncertainty_percentage.mean(),2), np.round(Thd_uncertainty_percentage.max(),2))\n",
    "\n",
    "# only use this figure for the bins info\n",
    "fig, ax = plt.subplots(1)\n",
    "obj = Pad_uncertainty_percentage.values\n",
    "n,bins,patches = ax.hist(obj, bins=20, range=(0,100))\n",
    "print('For Pad: ', np.round(n[0]/len(obj)*100,1), '% of measurements has uncertainty of < 5%; ', np.round(n[1]/len(obj)*100,1), '% has uncertainty of 5-10%;')\n",
    "obj = Thd_uncertainty_percentage.values\n",
    "n,bins,patches = ax.hist(obj, bins=20, range=(0,100))\n",
    "print('For Thd: ', np.round(n[0]/len(obj)*100,1), '% of measurements has uncertainty of < 5%; ', np.round(n[1]/len(obj)*100,1), '% has uncertainty of 5-10%;')\n",
    "plt.close()"
   ]
  },
  {
   "cell_type": "markdown",
   "metadata": {},
   "source": [
    "### Count number of seawater data points for dissolved\n",
    "Total of geotraces and Deng et al., Ng et al., Pavia et al."
   ]
  },
  {
   "cell_type": "code",
   "execution_count": 11,
   "metadata": {},
   "outputs": [
    {
     "name": "stdout",
     "output_type": "stream",
     "text": [
      "number of stations; number of measurements; average uncertainties:\n",
      "\n",
      "deng\n",
      "Pad: 10 127 10.06 %\n",
      "Thd: 10 119 8.96 %\n",
      "\n",
      "\n",
      "ng\n",
      "Pad: 8 20 5.69 %\n",
      "Thd: 8 20 3.82 %\n",
      "\n",
      "\n",
      "pavia\n",
      "Pad: 12 126 4.12 %\n",
      "Thd: 12 126 2.44 %\n",
      "\n",
      "\n",
      "geotraces excl arctic\n",
      "Pad: 92 1373 6.22 %\n",
      "Thd: 121 1592 3.57 %\n",
      "\n",
      "\n",
      "ALL (should be sum of above)\n",
      "Pad: 122 1646 6.35 %\n",
      "Thd: 151 1857 3.84 %\n",
      "\n",
      "\n"
     ]
    }
   ],
   "source": [
    "# they only give dissolved data\n",
    "print('number of stations; number of measurements; average uncertainties:\\n')\n",
    "\n",
    "this_obs_label = ['deng', 'ng', 'pavia', 'geotraces excl arctic', 'ALL (should be sum of above)']\n",
    "for i,this_obs in enumerate([obs_d_deng, obs_d_ng, obs_d_pavia, obs_d_geotraces, obs_d]):\n",
    "    print(this_obs_label[i])\n",
    "    \n",
    "    # Pad\n",
    "    avg_unc = ( this_obs.Pad_err / this_obs.Pad ).mean() * 100  # in %\n",
    "    this_obs_Pad = this_obs.Pad.dropna(how='all')\n",
    "    nr_stations = this_obs_Pad.reset_index().loc[:,('lon','lat')].drop_duplicates().shape[0]\n",
    "    nr_meas = this_obs_Pad.shape[0]\n",
    "    print('Pad:', nr_stations, nr_meas, np.round(avg_unc,2),'%')\n",
    "\n",
    "    # Thd\n",
    "    avg_unc = ( this_obs.Thd_err / this_obs.Thd ).mean() * 100  # in %\n",
    "    this_obs_Thd = this_obs.Thd.dropna(how='all')\n",
    "    nr_stations = this_obs_Thd.reset_index().loc[:,('lon','lat')].drop_duplicates().shape[0]\n",
    "    nr_meas = this_obs_Thd.shape[0]\n",
    "    print('Thd:', nr_stations, nr_meas, np.round(avg_unc,2),'%')\n",
    "    \n",
    "    print('\\n')"
   ]
  },
  {
   "cell_type": "markdown",
   "metadata": {
    "tags": []
   },
   "source": [
    "<a id='explore-obsp'></a>\n",
    "# Explore observations of particle-bound Pa, Th from GEOTRACES IDP2021\n",
    "IDP 2021 = Intermediate Data Product  \n",
    "see obsdir/IDP_2021_log_how_downloaded.rtf  \n",
    "[go to top](#top)"
   ]
  },
  {
   "cell_type": "markdown",
   "metadata": {},
   "source": [
    "### Load obs\n",
    "\"Particulate\" seems to correspond to \"particle-bound\".  \n",
    "Variables have types TP (total particles?), SPT (small particles) and LPT (large particles).\n",
    "- Pa_231_TP_CONC_PUMP and Th_230_TP_CONC_PUMP:  \n",
    "Concentration of total particulate Pa-231 determined by in situ filtration (pump) without size fractionation\n",
    "- Pa_231_SPT_CONC_PUMP and Th_230_SPT_CONC_PUMP: small particles  \n",
    "Concentration of total particulate Pa-231 determined by in situ filtration (pump) collected on a main filter (small particles)\n",
    "- Pa_231_LPT_CONC_PUMP and Th_230_LPT_CONC_PUMP: large particles  \n",
    "Concentration of total particulate Pa-231 determined by in situ filtration (pump) collected on a pre filter (large particles)"
   ]
  },
  {
   "cell_type": "code",
   "execution_count": 31,
   "metadata": {},
   "outputs": [],
   "source": [
    "# # find out in which year cruises took place (keep meta data while loading)\n",
    "\n",
    "# fnobs = obsdir / 'Pap_Thp_IDP2021.txt'\n",
    "\n",
    "# obs_p = f.get_obs_geotraces(fnobs, drop_meta_data=False, p_type='combined', good_quality=True)\n",
    "# [obs_p, obs_p_ave, obs_p_ave_num] = f.obs_to_model_grid(obs_p, fnctrl)\n",
    "\n",
    "# yr = [int(string[0:4]) for string in obs_p[\"yyyy-mm-ddThh:mm:ss.sss\"]]\n",
    "# np.unique(yr)\n",
    "\n",
    "## => 2008-2015 with gaps for particulate (2008, 2010, 2011, 2013, 2015)"
   ]
  },
  {
   "cell_type": "code",
   "execution_count": 32,
   "metadata": {},
   "outputs": [
    {
     "name": "stdout",
     "output_type": "stream",
     "text": [
      "Reduced dataset from  96184  rows to  860  rows after deleting nans.\n"
     ]
    }
   ],
   "source": [
    "fnobs = obsdir / 'Pap_Thp_IDP2021.txt'\n",
    "\n",
    "obs_p = f.get_obs_geotraces(fnobs, drop_meta_data=True, p_type='all', good_quality=False)\n",
    "# p_type 'all' is the original data columns; p_type 'combined' is used later on at the end\n",
    "# good_quality='false' => keeping all observations, good and bad quality  "
   ]
  },
  {
   "cell_type": "markdown",
   "metadata": {},
   "source": [
    "### Repeat for particle-bound: Drop data of bad quality?\n",
    "**Conclusion: we can again only take quality range 1 while keeping most of the data. But we need all types TP, SPT and LPT. Especially SPT has most of the data.** Recall that 9 stands for missing value."
   ]
  },
  {
   "cell_type": "code",
   "execution_count": 33,
   "metadata": {},
   "outputs": [
    {
     "name": "stdout",
     "output_type": "stream",
     "text": [
      "general quality values of sample: [1.]\n"
     ]
    }
   ],
   "source": [
    "# look at this separate column\n",
    "print('general quality values of sample:', np.unique(obs_p['QV:ODV:SAMPLE']) )\n",
    "# 1 = good value everywhere => OK"
   ]
  },
  {
   "cell_type": "code",
   "execution_count": 34,
   "metadata": {},
   "outputs": [
    {
     "name": "stdout",
     "output_type": "stream",
     "text": [
      "quality values of Pap_TP: [1. 3. 9.]\n",
      "quality values of Thp_TP: [1. 9.]\n"
     ]
    }
   ],
   "source": [
    "# check that only floats appear as quality flags (e.g. not 1 and '1' as well):\n",
    "print('quality values of Pap_TP:', np.unique(obs_p.Pap_TP_qc))\n",
    "print('quality values of Thp_TP:', np.unique(obs_p.Thp_TP_qc))"
   ]
  },
  {
   "cell_type": "code",
   "execution_count": 35,
   "metadata": {},
   "outputs": [
    {
     "name": "stdout",
     "output_type": "stream",
     "text": [
      "Pap_TP_qc:\n"
     ]
    },
    {
     "data": {
      "text/plain": [
       "Counter({\"9.0 (<class 'float'>)\": 803,\n",
       "         \"1.0 (<class 'float'>)\": 56,\n",
       "         \"3.0 (<class 'float'>)\": 1})"
      ]
     },
     "execution_count": 35,
     "metadata": {},
     "output_type": "execute_result"
    }
   ],
   "source": [
    "# count occurrences per qv; summarized in text below\n",
    "from collections import Counter\n",
    "print('Pap_TP_qc:')\n",
    "Counter([f'{x} ({type(x)})' for x in obs_p.Pap_TP_qc])"
   ]
  },
  {
   "cell_type": "code",
   "execution_count": 36,
   "metadata": {},
   "outputs": [
    {
     "name": "stdout",
     "output_type": "stream",
     "text": [
      "Thp_TP_qc:\n"
     ]
    },
    {
     "data": {
      "text/plain": [
       "Counter({\"9.0 (<class 'float'>)\": 803, \"1.0 (<class 'float'>)\": 57})"
      ]
     },
     "execution_count": 36,
     "metadata": {},
     "output_type": "execute_result"
    }
   ],
   "source": [
    "print('Thp_TP_qc:')\n",
    "Counter([f'{x} ({type(x)})' for x in obs_p.Thp_TP_qc])"
   ]
  },
  {
   "cell_type": "code",
   "execution_count": 37,
   "metadata": {},
   "outputs": [
    {
     "name": "stdout",
     "output_type": "stream",
     "text": [
      "Pap_SPT_qc:\n"
     ]
    },
    {
     "data": {
      "text/plain": [
       "Counter({\"9.0 (<class 'float'>)\": 161,\n",
       "         \"1.0 (<class 'float'>)\": 690,\n",
       "         \"3.0 (<class 'float'>)\": 6,\n",
       "         \"6.0 (<class 'float'>)\": 3})"
      ]
     },
     "execution_count": 37,
     "metadata": {},
     "output_type": "execute_result"
    }
   ],
   "source": [
    "# count occurrences per qv; summarized in text below\n",
    "from collections import Counter\n",
    "print('Pap_SPT_qc:')\n",
    "Counter([f'{x} ({type(x)})' for x in obs_p.Pap_SPT_qc])"
   ]
  },
  {
   "cell_type": "code",
   "execution_count": 38,
   "metadata": {},
   "outputs": [
    {
     "name": "stdout",
     "output_type": "stream",
     "text": [
      "Thp_SPT_qc:\n"
     ]
    },
    {
     "data": {
      "text/plain": [
       "Counter({\"1.0 (<class 'float'>)\": 789,\n",
       "         \"9.0 (<class 'float'>)\": 65,\n",
       "         \"3.0 (<class 'float'>)\": 6})"
      ]
     },
     "execution_count": 38,
     "metadata": {},
     "output_type": "execute_result"
    }
   ],
   "source": [
    "# count occurrences per qv; summarized in text below\n",
    "from collections import Counter\n",
    "print('Thp_SPT_qc:')\n",
    "Counter([f'{x} ({type(x)})' for x in obs_p.Thp_SPT_qc])"
   ]
  },
  {
   "cell_type": "code",
   "execution_count": 39,
   "metadata": {},
   "outputs": [
    {
     "name": "stdout",
     "output_type": "stream",
     "text": [
      "Pap_LPT_qc:\n"
     ]
    },
    {
     "data": {
      "text/plain": [
       "Counter({\"9.0 (<class 'float'>)\": 707, \"1.0 (<class 'float'>)\": 153})"
      ]
     },
     "execution_count": 39,
     "metadata": {},
     "output_type": "execute_result"
    }
   ],
   "source": [
    "# count occurrences per qv; summarized in text below\n",
    "from collections import Counter\n",
    "print('Pap_LPT_qc:')\n",
    "Counter([f'{x} ({type(x)})' for x in obs_p.Pap_LPT_qc])"
   ]
  },
  {
   "cell_type": "code",
   "execution_count": 40,
   "metadata": {},
   "outputs": [
    {
     "name": "stdout",
     "output_type": "stream",
     "text": [
      "Thp_LPT_qc:\n"
     ]
    },
    {
     "data": {
      "text/plain": [
       "Counter({\"9.0 (<class 'float'>)\": 703,\n",
       "         \"1.0 (<class 'float'>)\": 156,\n",
       "         \"2.0 (<class 'float'>)\": 1})"
      ]
     },
     "execution_count": 40,
     "metadata": {},
     "output_type": "execute_result"
    }
   ],
   "source": [
    "# count occurrences per qv; summarized in text below\n",
    "from collections import Counter\n",
    "print('Thp_LPT_qc:')\n",
    "Counter([f'{x} ({type(x)})' for x in obs_p.Thp_LPT_qc])"
   ]
  },
  {
   "cell_type": "markdown",
   "metadata": {},
   "source": [
    "**Summary of quality variables:**  \n",
    "\n",
    "**For CONC_TP_PUMP = concentration of total particulate Pa-231 determined by in situ filtration (pump) without size fractionation:**  \n",
    "1 good value:   \n",
    "Pap 56  Thp 57  \n",
    "\n",
    "3 probably bad value:  \n",
    "Pap 1  Thp 0\n",
    "\n",
    "Sum:  \n",
    "Pap 57  Thp 57   \n",
    "\n",
    "**For CONC_SPT_PUMP = Concentration of total particulate Pa-231 determined by in situ filtration (pump) collected on a main filter (small particles):**    \n",
    "1 good value:     \n",
    "Pap 690  Thp 789   \n",
    "\n",
    "3 probably bad value:  \n",
    "Pap 6  Thp 6  \n",
    "\n",
    "6 value below detection:  \n",
    "Pap 3  Thp 0 \n",
    "\n",
    "Sum:  \n",
    "Pap 699  Thp 795     \n",
    "\n",
    "**For CONC_LPT_PUMP = Concentration of total particulate Pa-231 determined by in situ filtration (pump) collected on a pre filter (large particles):**    \n",
    "1 good value:     \n",
    "Pap 153  Thp 156  \n",
    "\n",
    "2 probably good value:  \n",
    "Pap 0  Thp 1\n",
    "\n",
    "Sum:  \n",
    "Pap 153  Thp 157   \n",
    "\n",
    "\n",
    "**Conclusions:** \n",
    "- We can again only take quality range 1 while keeping most of the data (done just below).\n",
    "- We want to consider all types TP, SPT and LPT. Especially SPT is needed as it contains most data. For this, we made a special setting p_type='combined', such that **columns Pap and Thp are filled with all 3 types and additional columns Pap_type, Thp_type save which was used** (done below)."
   ]
  },
  {
   "cell_type": "code",
   "execution_count": 41,
   "metadata": {},
   "outputs": [],
   "source": [
    "## restrain observations to only quality value 1\n",
    "# this function also works for the particle-bound observations (analogously)\n",
    "obs_p = f.restrict_obs_to_good_quality(obs_p)\n",
    "# warning is not a problem and means that for certain vars nothing needed to be set to NaN; only a problem if warning comes for all vars"
   ]
  },
  {
   "cell_type": "code",
   "execution_count": 20,
   "metadata": {},
   "outputs": [
    {
     "name": "stdout",
     "output_type": "stream",
     "text": [
      "Reduced dataset from  102686  rows to  860  rows after deleting nans.\n",
      "Reduced dataset from  1009  rows to  1003  rows after deleting nans.\n"
     ]
    }
   ],
   "source": [
    "# RELOAD WITH NEW COLUMNS Pap, Thp THAT COMBINE SPT,LPT,TP and \n",
    "# extra columns Pap_type, Thp_type which keep track of the origin\n",
    "# also with only keeping good quality measurements\n",
    "fnobs = obsdir / 'Pap_Thp_IDP2021.txt'\n",
    "\n",
    "obs_p_incl_arctic = f.get_obs_geotraces(fnobs, drop_meta_data=True, p_type='combined', good_quality=True)\n",
    "obs_p = obs_p_incl_arctic[~obs_p_incl_arctic.cruise.isin(\n",
    "    ['GN01','GN02','GN03','GN04'])].copy()"
   ]
  },
  {
   "cell_type": "code",
   "execution_count": 86,
   "metadata": {},
   "outputs": [
    {
     "data": {
      "image/png": "[encoded data removed]",
      "text/plain": [
       "<Figure size 864x288 with 2 Axes>"
      ]
     },
     "metadata": {
      "needs_background": "light"
     },
     "output_type": "display_data"
    },
    {
     "name": "stdout",
     "output_type": "stream",
     "text": [
      "min, average and max measurement uncertainty for Pap [%]: 0.37 10.17 500.0\n",
      "min, average and max measurement uncertainty for Thp [%]: 0.11 4.12 147.95\n",
      "For Pap:  50.4 % of measurements has uncertainty of < 5%;  23.9 % has uncertainty of 5-10%;\n",
      "For Thp:  80.3 % of measurements has uncertainty of < 5%;  10.4 % has uncertainty of 5-10%;\n"
     ]
    },
    {
     "data": {
      "text/plain": [
       "<Figure size 432x288 with 0 Axes>"
      ]
     },
     "metadata": {},
     "output_type": "display_data"
    }
   ],
   "source": [
    "# investigate measurement uncertainties\n",
    "nr_bins = 20\n",
    "\n",
    "Pap_uncertainty_percentage = (obs_p.Pap_err / obs_p.Pap * 100).dropna(how='all')\n",
    "Thp_uncertainty_percentage = (obs_p.Thp_err / obs_p.Thp * 100).dropna(how='all')\n",
    "\n",
    "## plot\n",
    "fig, ax = plt.subplots(1,2, figsize=(12,4))\n",
    "\n",
    "obj = Pap_uncertainty_percentage.values\n",
    "n,bins,patches = ax[0].hist(obj, bins=nr_bins, range=(0,100))\n",
    "ax[0].set_ylabel('Density')\n",
    "ax[0].set_xlabel('Uncertainty [%]')\n",
    "ax[0].set_title('Pap')\n",
    "\n",
    "obj = Thp_uncertainty_percentage.values\n",
    "n,bins,patches = ax[1].hist(obj, bins=nr_bins, range=(0,100))\n",
    "ax[1].set_xlabel('Uncertainty [%]')\n",
    "ax[1].set_title('Thp')\n",
    "\n",
    "plt.tight_layout()\n",
    "plt.show()\n",
    "plt.savefig(savedir / 'uncertainty_particulate_geotraces.pdf')\n",
    "\n",
    "## print info\n",
    "print('min, average and max measurement uncertainty for Pap [%]:', np.round(Pap_uncertainty_percentage.min(),2), \n",
    "      np.round(Pap_uncertainty_percentage.mean(),2), np.round(Pap_uncertainty_percentage.max(),2))\n",
    "print('min, average and max measurement uncertainty for Thp [%]:', np.round(Thp_uncertainty_percentage.min(),2), \n",
    "      np.round(Thp_uncertainty_percentage.mean(),2), np.round(Thp_uncertainty_percentage.max(),2))\n",
    "\n",
    "# only use this figure for the bins info\n",
    "fig, ax = plt.subplots(1)\n",
    "obj = Pap_uncertainty_percentage.values\n",
    "n,bins,patches = ax.hist(obj, bins=20, range=(0,100))\n",
    "print('For Pap: ', np.round(n[0]/len(obj)*100,1), '% of measurements has uncertainty of < 5%; ', np.round(n[1]/len(obj)*100,1), '% has uncertainty of 5-10%;')\n",
    "obj = Thp_uncertainty_percentage.values\n",
    "n,bins,patches = ax.hist(obj, bins=20, range=(0,100))\n",
    "print('For Thp: ', np.round(n[0]/len(obj)*100,1), '% of measurements has uncertainty of < 5%; ', np.round(n[1]/len(obj)*100,1), '% has uncertainty of 5-10%;')\n",
    "plt.close()"
   ]
  },
  {
   "cell_type": "markdown",
   "metadata": {},
   "source": [
    "### Count number of seawater data points for particle-bound\n",
    "Is only geotraces"
   ]
  },
  {
   "cell_type": "code",
   "execution_count": 21,
   "metadata": {},
   "outputs": [
    {
     "name": "stdout",
     "output_type": "stream",
     "text": [
      "number of stations; number of measurements; average uncertainties:\n",
      "\n",
      "geotraces excl arctic = ALL\n",
      "Pap: 50 548 10.67 %\n",
      "Thp: 59 648 4.89 %\n",
      "\n",
      "\n"
     ]
    }
   ],
   "source": [
    "print('number of stations; number of measurements; average uncertainties:\\n')\n",
    "\n",
    "this_obs_label = ['geotraces excl arctic = ALL']\n",
    "for i,this_obs in enumerate([obs_p]):\n",
    "    print(this_obs_label[i])\n",
    "    \n",
    "    # Pap\n",
    "    avg_unc = ( this_obs.Pap_err / this_obs.Pap ).mean() * 100  # in %\n",
    "    this_obs_Pap = this_obs.Pap.dropna(how='all')\n",
    "    nr_stations = this_obs_Pap.reset_index().loc[:,('lon','lat')].drop_duplicates().shape[0]\n",
    "    nr_meas = this_obs_Pap.shape[0]\n",
    "    print('Pap:', nr_stations, nr_meas, np.round(avg_unc,2),'%')\n",
    "\n",
    "    # Thp\n",
    "    avg_unc = ( this_obs.Thp_err / this_obs.Thp ).mean() * 100  # in %\n",
    "    this_obs_Thp = this_obs.Thp.dropna(how='all')\n",
    "    nr_stations = this_obs_Thp.reset_index().loc[:,('lon','lat')].drop_duplicates().shape[0]\n",
    "    nr_meas = this_obs_Thp.shape[0]\n",
    "    print('Thp:', nr_stations, nr_meas, np.round(avg_unc,2),'%')\n",
    "    \n",
    "    print('\\n')"
   ]
  },
  {
   "cell_type": "markdown",
   "metadata": {
    "tags": []
   },
   "source": [
    "<a id='load-model'></a>\n",
    "# Load model runs - quick  \n",
    "Here we only load the run IDs (which determine the runnames) and the parameters.  \n",
    "It is combined into a table, to which we later add the RMSEs and final skill scores per run.  \n",
    "We do not need to load the model runs here, but this is done 1 by 1 in the part 'Compute RMSE'.  \n",
    "[go to top](#top)"
   ]
  },
  {
   "cell_type": "markdown",
   "metadata": {
    "tags": []
   },
   "source": [
    "### Load run IDs and parameters"
   ]
  },
  {
   "cell_type": "code",
   "execution_count": 12,
   "metadata": {},
   "outputs": [],
   "source": [
    "# read in the csv on which the tuning runs were based\n",
    "# this already gives us columns run_ID and the 13 parameters that were adjusted (all in the BGC routine, of which Pa, Th is a part)\n",
    "# using var 'ensemble' as set on top of this notebook\n",
    "total_table = pd.read_csv(obsdir / ('parameters_'+ensemble+'_sampled_after_constraints.csv'))\n",
    "\n",
    "total_table.rename(columns={'# setID':'run_ID', '﻿BGC_PaThWs':'PaThWs', 'BGC_PaDesConst':'PaDesConst', 'BGC_PaThWs':'PaThWs', 'BGC_ThDesConst':'ThDesConst', \n",
    "                            'BGC_sigmaPaPOC':'sigmaPaPOC', 'BGC_sigmaPaCa':'sigmaPaCa', \n",
    "                            'BGC_sigmaPaOp':'sigmaPaOp', 'BGC_sigmaPaDu':'sigmaPaDu', 'BGC_sigmaPaNeph':'sigmaPaNeph', \n",
    "                            'BGC_sigmaThPOC':'sigmaThPOC', 'BGC_sigmaThCa':'sigmaThCa', \n",
    "                            'BGC_sigmaThOp':'sigmaThOp', 'BGC_sigmaThDu':'sigmaThDu', 'BGC_sigmaThNeph':'sigmaThNeph'}, \n",
    "                   inplace=True) # BGC_PaThWs column name contained still DOF unicode char\n",
    "\n",
    "# add a column with the runname for completeness (corresponding parameter files, .out files and output files carry this name)\n",
    "#     N.B. technically speaking: with runname we mean parameterfilesname here. We dont mean executablename, \n",
    "#     since the executable is the same for the entire ensemble.\n",
    "total_table.insert(1, 'runname', [f.runname(n, ID=True, ensemble=ensemble) for n in total_table.run_ID]) # add new column runnames after column 1"
   ]
  },
  {
   "cell_type": "markdown",
   "metadata": {
    "tags": []
   },
   "source": [
    "<a id='explore-model'></a>\n",
    "# Explore model runs\n",
    "Ca. 3000 model runs are done for the tuning. Here we explore them and do a couple of checks to see that they were succesfull and are in equilibrium at the end.  \n",
    "Runnames have the form '1TUNNNN_PI' or '2TUNNNN_PI', where:\n",
    "- '1TU' is the ensemble name and stands for tuning 1   \n",
    "  '2TU' is tuning ensemble 2 (optionally a 3rd step could be taken in a subdomain of the parameter space to zoom in more)  \n",
    "  Notebook runs the ensemble that is set on the very top of the notebook.  \n",
    "- 'NNNN' is the run ID, **going from 1000 to 3950 for 1TU; from 1000 to 1510 for 2TU**\n",
    "- '_ PI' is the phase name, but we only have 1 phase (no separate spinups are needed if params change), at pre-industrial steady state.   \n",
    "\n",
    "All model runnames with their parameters are already load into a table 'table_total' above.\n",
    "  \n",
    "[go to top](#top)"
   ]
  },
  {
   "cell_type": "markdown",
   "metadata": {},
   "source": [
    "### Plot parameter distributions as scatter as a check\n",
    "They are uniformly distributed (for 2TU), except for the check conditions, which change mainly du's and neph's distribution."
   ]
  },
  {
   "cell_type": "code",
   "execution_count": 19,
   "metadata": {},
   "outputs": [
    {
     "data": {
      "image/png": "[encoded data removed]",
      "text/plain": [
       "<Figure size 1152x504 with 15 Axes>"
      ]
     },
     "metadata": {},
     "output_type": "display_data"
    }
   ],
   "source": [
    "fig, ax = plt.subplots(3,5, figsize=(16,7))\n",
    "\n",
    "x = total_table.index\n",
    "ax[0,0].scatter(x, total_table.PaThWs, s=1)\n",
    "ax[0,0].set_ylabel('Ws\\n[m/yr]')\n",
    "ax[0,0].set_yticks(range(0,5500,1000))\n",
    "\n",
    "ax[0,1].scatter(x, total_table.PaDesConst, s=1)\n",
    "ax[0,1].set_ylabel('PaDesConst\\n[/yr]')\n",
    "ax[0,1].set_yticks(range(0,6))\n",
    "ax[0,2].scatter(x, total_table.ThDesConst, s=1)\n",
    "ax[0,2].set_ylabel('ThDesConst\\n[/yr]')\n",
    "ax[0,2].set_yticks(range(0,6))\n",
    "\n",
    "ax[1,0].scatter(x, total_table.sigmaPaPOC, s=1)\n",
    "ax[1,0].set_ylabel('sigmaPaPOC\\n[m2/mol C]')\n",
    "ax[2,0].scatter(x, total_table.sigmaThPOC, s=1)\n",
    "ax[2,0].set_ylabel('sigmaThPOC\\n[m2/mol C]')\n",
    "\n",
    "ax[1,1].scatter(x, total_table.sigmaPaCa, s=1)\n",
    "ax[1,1].set_ylabel('sigmaPaCa\\n[m2/mol C]')\n",
    "ax[2,1].scatter(x, total_table.sigmaThCa, s=1)\n",
    "ax[2,1].set_ylabel('sigmaThCa\\n[m2/mol C]')\n",
    "\n",
    "ax[1,2].scatter(x, total_table.sigmaPaOp, s=1)\n",
    "ax[1,2].set_ylabel('sigmaPaOp\\n[m2/mol Si]')\n",
    "ax[2,2].scatter(x, total_table.sigmaThOp, s=1)\n",
    "ax[2,2].set_ylabel('sigmaThOp\\n[m2/mol Si]')\n",
    "\n",
    "ax[1,3].scatter(x, total_table.sigmaPaDu, s=1)\n",
    "ax[1,3].set_ylabel('sigmaPaDu\\n[m2/g dust]')\n",
    "ax[2,3].scatter(x, total_table.sigmaThDu, s=1)\n",
    "ax[2,3].set_ylabel('sigmaThDu\\n[m2/g dust]')\n",
    "\n",
    "ax[1,4].scatter(x, total_table.sigmaPaNeph, s=1)\n",
    "ax[1,4].set_ylabel('sigmaPaNeph\\n[m2/g neph]')\n",
    "ax[2,4].scatter(x, total_table.sigmaThNeph, s=1)\n",
    "ax[2,4].set_ylabel('sigmaThNeph\\n[m2/g neph]')\n",
    "\n",
    "ax[0,3].set_axis_off()\n",
    "ax[0,4].set_axis_off()\n",
    "\n",
    "plt.tight_layout()\n",
    "plt.savefig(savedir / ('params_ensemble_' + ensemble + '.pdf'))"
   ]
  },
  {
   "cell_type": "markdown",
   "metadata": {},
   "source": [
    "Now we load all runs. To save memory, we take care to only load the relevant variables, such that the memory is much less and this is actually possible. Runs are already such that full output was saved only for the last time step.  \n",
    "Estimate: loading only Pad and Thd from the in total ca. 75 three-dimensional vars, will load ca. 2/75 of the full_ave.nc output files. These files are each 18 Mb (1 file per run), so instead of 54 Gb, **we will load ca. 1.4 Gb into memory.**  \n",
    "For ensemble 2TU everything looks uniform indeed except Du and Neph, because of the constraints that a.o. Du > Neph"
   ]
  },
  {
   "cell_type": "markdown",
   "metadata": {},
   "source": [
    "### Check that no runs produced nan output everywhere"
   ]
  },
  {
   "cell_type": "code",
   "execution_count": 20,
   "metadata": {},
   "outputs": [
    {
     "name": "stdout",
     "output_type": "stream",
     "text": [
      "All 20 runs were succesfull IF this is the first print statement. Done.\n"
     ]
    }
   ],
   "source": [
    "# ================= TAKES A WHILE (< 5 MIN)========================\n",
    "\n",
    "# LOAD FULL MODEL OUTPUT OF ALL RUNS FOR Pa,Th VARS ONLY\n",
    "\n",
    "###### SETTINGS #########################\n",
    "runs = [f.runname(n, ensemble=ensemble) for n in all_run_nrs[ensemble]]\n",
    "# runs = [f.runname(n, ensemble=ensemble) for n in all_run_nrs[ensemble][0:10]]  # for testing\n",
    "#########################################\n",
    "\n",
    "modelled_path_vars = f.load_var_multiple_runs(['Pad','Thd','Pap','Thp'], 'full_ave', \n",
    "                                              modeldir, runs, spinup_yr=spinup_yr)\n",
    "\n",
    "## CHECK THAT ALL RUNS WERE SUCCESFULL (no only-NaN output)\n",
    "## => print if any run has NaN values in Pad and Thd at example ocean grid cell\n",
    "for run in runs:\n",
    "    if np.isnan(modelled_path_vars[run].Pad.isel(lon_t=10, lat_t=10, z_t=10, time=-1).item()):\n",
    "        print(\"Nan values for Pad in run \", run)\n",
    "    if np.isnan(modelled_path_vars[run].Thd.isel(lon_t=10, lat_t=10, z_t=10, time=-1).item()):\n",
    "        print(\"Nan values for Thd in run \", run)\n",
    "    if np.isnan(modelled_path_vars[run].Pap.isel(lon_t=10, lat_t=10, z_t=10, time=-1).item()):\n",
    "        print(\"Nan values for Pad in run \", run)\n",
    "    if np.isnan(modelled_path_vars[run].Thp.isel(lon_t=10, lat_t=10, z_t=10, time=-1).item()):\n",
    "        print(\"Nan values for Thd in run \", run)\n",
    "\n",
    "print('All',len(runs),'runs were succesfull IF this is the first print statement. Done.')"
   ]
  },
  {
   "cell_type": "code",
   "execution_count": 21,
   "metadata": {},
   "outputs": [],
   "source": [
    "# delete object again to save memory\n",
    "del modelled_path_vars"
   ]
  },
  {
   "cell_type": "markdown",
   "metadata": {},
   "source": [
    "### Inventory\n",
    "not used yet but can be interesting"
   ]
  },
  {
   "cell_type": "code",
   "execution_count": 22,
   "metadata": {},
   "outputs": [
    {
     "name": "stdout",
     "output_type": "stream",
     "text": [
      "run: KDE1002_PI\n"
     ]
    },
    {
     "data": {
      "image/png": "[encoded data removed]",
      "text/plain": [
       "<Figure size 432x288 with 1 Axes>"
      ]
     },
     "metadata": {},
     "output_type": "display_data"
    }
   ],
   "source": [
    "# ================= TAKES A WHILE (< 5 MIN)========================\n",
    "\n",
    "# Inventory over time; should approach equilibrium\n",
    "n = 2   # run number\n",
    "print('run:', f.runname(all_run_nrs[ensemble][n], ensemble=ensemble))\n",
    "\n",
    "modelled_inventory = f.load_var_multiple_runs(['tinv_Pad','tinv_Thd','tinv_Pap','tinv_Thp'], \n",
    "                                              'timeseries_inst', modeldir, runs, spinup_yr=spinup_yr)\n",
    "modelled_inventory[f.runname(all_run_nrs[ensemble][n], ensemble=ensemble)].tinv_Pad.plot()\n",
    "plt.show()\n",
    "# example plot of inventory for first run and Pad"
   ]
  },
  {
   "cell_type": "code",
   "execution_count": 23,
   "metadata": {},
   "outputs": [],
   "source": [
    "# delete objects again to save memory\n",
    "del modelled_inventory"
   ]
  },
  {
   "cell_type": "markdown",
   "metadata": {},
   "source": [
    "<a id='MRT'></a>\n",
    "# Compute Mean Residence Time (MRT)\n",
    "Saved MRT is based on average of last 50 years of run. Also checks that in equilibrium: otherwise MRT=nan is added to total_table.  \n",
    "\n",
    "**Expected residence time:**   \n",
    "Marchal et al. 2000 & Siddall et al. 2005 cite Yu et al. 1996: Pa ~200 yr; Th ~30yr  \n",
    "Rempfer et al. 2017 (cites multiple): Pa 100-200 yr; Th few decades  \n",
    "**Missiaen et al. 2020 (cites Henderson et al. 2003): Pa 50-200 yr; Th 10-40 yr**  \n",
    "[go to top](#top)"
   ]
  },
  {
   "cell_type": "code",
   "execution_count": 13,
   "metadata": {},
   "outputs": [],
   "source": [
    "# ================= TAKES A WHILE (< 5 MIN)========================\n",
    "\n",
    "## Load MEAN RESIDENCE TIME for all runs\n",
    "runs = [f.runname(n, ensemble=ensemble) for n in all_run_nrs[ensemble]]\n",
    "modelled_mrt = f.load_var_multiple_runs(['Mrt_Pa_bac','Mrt_Th_bac'], \n",
    "                                        'timeseries_inst', modeldir, runs, spinup_yr=spinup_yr)\n",
    "sec_to_yr = 1.0 / (365.25*24*3600)"
   ]
  },
  {
   "cell_type": "code",
   "execution_count": 14,
   "metadata": {},
   "outputs": [
    {
     "name": "stdout",
     "output_type": "stream",
     "text": [
      "equilibrium residence time of Pa: 67.7 yr\n",
      "equilibrium residence time of Th: 18.3 yr\n",
      "\n"
     ]
    },
    {
     "data": {
      "image/png": "[encoded data removed]",
      "text/plain": [
       "<Figure size 432x288 with 1 Axes>"
      ]
     },
     "metadata": {},
     "output_type": "display_data"
    }
   ],
   "source": [
    "# PLOT mean residence time for a specific run\n",
    "\n",
    "######### SETTINGS ############### \n",
    "n = 2  # run number of ensemble\n",
    "##################################\n",
    "\n",
    "ds = modelled_mrt[f.runname(all_run_nrs[ensemble][n], ensemble=ensemble)]\n",
    "\n",
    "sns.set_style('ticks')\n",
    "fig, ax = plt.subplots(1)\n",
    "\n",
    "ax.set_title('Mean residence time \\n run: ' + f.runname(all_run_nrs[ensemble][n], ensemble=ensemble))\n",
    "ax.plot(ds.Mrt_Pa_bac.time, ds.Mrt_Pa_bac * sec_to_yr, label='Pa')\n",
    "ax.plot(ds.Mrt_Th_bac.time, ds.Mrt_Th_bac * sec_to_yr, label='Th')\n",
    "ax.legend(loc='lower right')\n",
    "ax.set_xlabel('Simulation time [yr]')\n",
    "ax.set_ylabel('Mean residence time [yr]')\n",
    "plt.tight_layout()\n",
    "plt.savefig(savedir / ('residence_time_run_' + f.runname(all_run_nrs[ensemble][n], ensemble=ensemble) + '.pdf'))\n",
    "\n",
    "# diagnose residence time at last 100 years\n",
    "print('equilibrium residence time of Pa:', np.round((ds.Mrt_Pa_bac[-100:-1] * sec_to_yr).mean().item(),1), 'yr')\n",
    "print('equilibrium residence time of Th:', np.round((ds.Mrt_Th_bac[-100:-1] * sec_to_yr).mean().item(),1), 'yr\\n')"
   ]
  },
  {
   "cell_type": "code",
   "execution_count": 15,
   "metadata": {},
   "outputs": [
    {
     "name": "stdout",
     "output_type": "stream",
     "text": [
      "All 84 runs were succesfull IF this is the first print statement. Done.\n"
     ]
    }
   ],
   "source": [
    "# ================= TAKES A WHILE (< 5 MIN)========================\n",
    "\n",
    "## check if runs are in equilibrium & insert MRT to table\n",
    "\n",
    "###### SETTINGS #########################\n",
    "# what is the 'internal variability' of the above curve? (trial and error by eye gives 0.1 yr)\n",
    "delta_significant = 0.1  # in yr; a difference is significant if > delta_significant\n",
    "# hardcoded: 50 yr average of MRT at end is saved\n",
    "#########################################\n",
    "\n",
    "# fill lists with information on the way\n",
    "mrts_Pa = []\n",
    "mrts_Th = []\n",
    "for n in all_run_nrs[ensemble]:\n",
    "    ds = modelled_mrt[f.runname(n, ensemble=ensemble)]\n",
    "    # t1 is 200 yr before end;     t2 is at end (50 yr average)\n",
    "    mrt_Pa_t1 = ds.Mrt_Pa_bac.isel(time=-200) * sec_to_yr                    \n",
    "    mrt_Pa_t2 = ds.Mrt_Pa_bac.isel(time=slice(-50,-1)).mean() * sec_to_yr \n",
    "    mrt_Th_t1 = ds.Mrt_Th_bac.isel(time=-200) * sec_to_yr \n",
    "    mrt_Th_t2 = ds.Mrt_Th_bac.isel(time=slice(-50,-1)).mean() * sec_to_yr   \n",
    "\n",
    "    if abs(mrt_Pa_t2 - mrt_Pa_t1) < delta_significant:\n",
    "        # simulation ran into equilibrium\n",
    "        mrts_Pa.append(mrt_Pa_t2.item())\n",
    "        mrts_Th.append(mrt_Th_t2.item())\n",
    "    else:\n",
    "        # mrts_Pa.append(mrt_Pa_t2)\n",
    "        # mrts_Th.append(mrt_Th_t2)\n",
    "        # save nan instead as a sign that this run is not in equilibrium\n",
    "        mrts_Pa.append(np.nan)\n",
    "        mrts_Th.append(np.nan)        \n",
    "        print(\"MRT is not constant i.e. no equilibrium for run nr\", n, \"which has runname\", f.runname(n,ensemble=ensemble))\n",
    "        \n",
    "print('All',len(all_run_nrs[ensemble]),'runs were succesfull IF this is the first print statement. Done.')\n",
    "# surprisingly, all runs of 2TU are in equilibrium!\n",
    "\n",
    "# add resulting MRTs to table\n",
    "total_table.insert(2, 'MRT_Pa', mrts_Pa) # add new column MRT_Pa after column 2\n",
    "total_table.insert(3, 'MRT_Th', mrts_Th) "
   ]
  },
  {
   "cell_type": "code",
   "execution_count": 16,
   "metadata": {},
   "outputs": [
    {
     "name": "stdout",
     "output_type": "stream",
     "text": [
      "min and max MRT of Pa: 42.3 144.1 yr\n",
      "min and max MRT of Th: 10.6 35.2 yr \n",
      "\n"
     ]
    }
   ],
   "source": [
    "# explore result\n",
    "print('min and max MRT of Pa:', round(np.nanmin(mrts_Pa),1), round(np.nanmax(mrts_Pa),1), 'yr')    # wanted 50-200\n",
    "print('min and max MRT of Th:', round(np.nanmin(mrts_Th),1), round(np.nanmax(mrts_Th),1), 'yr \\n') # wanted 10-40"
   ]
  },
  {
   "cell_type": "markdown",
   "metadata": {},
   "source": [
    "- Ensemble 1TU: residence times are way too low!\n",
    "- Ensemble 2TU: residence times have the correct range inside them (but span more)\n",
    "- Ensemble PAR: residence times for Pa are perfect funnily enough; for Th have the correct range inside them (but span more)\n",
    "- Ensemble 3TU: residence times have the correct range inside them (but span more)"
   ]
  },
  {
   "cell_type": "code",
   "execution_count": 17,
   "metadata": {},
   "outputs": [],
   "source": [
    "## delete objects again to save memory\n",
    "del modelled_mrt"
   ]
  },
  {
   "cell_type": "markdown",
   "metadata": {},
   "source": [
    "<a id='median-kads'></a>\n",
    "# Compute median ( and k_ads_Pa_sum, k_ads_Th_sum (a measure of total scavenging) )\n",
    "[go to top](#top)  \n",
    "\n",
    "### We compute K_ads^j_summed as a measure of total scavenging, to sort model ensemble\n",
    "Why?   \n",
    "I expect that total scavenging dominates over individual params. (Rempfer et al. ONLY tuned the total scavenging sigma_0). If my suspicion is correct, only tuning runs with comparable K_ads^j_summed should be compared.  \n",
    "\n",
    "Here the sum is over all grid cells, weighted by the grid cell volume (IS A CHOICE):\n",
    "$$\\sum_{\\theta,\\phi,z} k_{ads}^{Pa} (\\theta,\\phi,z) = \n",
    "\\frac{\\sum_{\\theta,\\phi,z} \\sum_i V(\\theta,\\phi,z) \\cdot \\sigma_i^{Pa} \\cdot F_i(\\theta,\\phi,z)}{\\sum_{\\theta,\\phi,z} V(\\theta,\\phi,z)}\n",
    "$$  \n",
    "where land and sediment cells are ignored and the particle flux is the export flux multiplied with the remineralization profile for particle type $i$:  \n",
    "$$F_i(\\theta,\\phi,z) = F_{i,surf}(\\theta,\\phi)\\cdot R_i(z)$$  \n",
    "Analagously for Th."
   ]
  },
  {
   "cell_type": "code",
   "execution_count": 18,
   "metadata": {},
   "outputs": [
    {
     "name": "stdout",
     "output_type": "stream",
     "text": [
      "median of Pad obs: 2.592 uBq/kg\n",
      "median of Thd obs: 4.737377 uBq/kg\n",
      "median of Pap obs: 0.030676 uBq/kg\n",
      "median of Thp obs: 0.5572295 uBq/kg\n",
      "\n"
     ]
    }
   ],
   "source": [
    "############################################# TAKES CA. 5 MINS ########\n",
    "\n",
    "# COMPUTE median & K_ads_Pa_summed & K_ads_Th_summed AND ADD TO TABLE\n",
    "\n",
    "######### SETTINGS: ########\n",
    "# run_nrs = [334, 297, 15] # for testing 2TU; 334, 297, 15 are best fits (wo Arctic): overall, for Pad, for Thd\n",
    "# run_nrs = all_run_nrs[ensemble][0:5]\n",
    "run_nrs = all_run_nrs[ensemble]    # defined at top of notebook\n",
    "############################\n",
    "\n",
    "## ASSUMING PARTICLE EXPORT FIELDS ARE THE SAME FOR ALL RUNS\n",
    "\n",
    "# print observations median of Pad, Thd, Pap, Thp as comparison\n",
    "print('median of Pad obs:', obs_d.Pad.median(), 'uBq/kg')\n",
    "print('median of Thd obs:', obs_d.Thd.median(), 'uBq/kg')\n",
    "if 'obs_p' in globals():\n",
    "    print('median of Pap obs:', obs_p.Pap.median(), 'uBq/kg')\n",
    "    print('median of Thp obs:', obs_p.Thp.median(), 'uBq/kg\\n')\n",
    "\n",
    "## load all model data\n",
    "runnames = [f.runname(nr=i, ensemble=ensemble, ID=False) for i in run_nrs]\n",
    "load_vars = ['Pad','Thd','Pap','Thp','rho_SI','boxvol']\n",
    "# load_vars = ['Pad','Thd','Pap','Thp','FLDPOM','FLDCA','FLDOP','rho_SI','boxvol']\n",
    "data_fulls = f.load_var_multiple_runs(variables=load_vars, file_type='full_ave', \n",
    "                                      folder=modeldir, runs=runnames)  # still has model units of dpm/m3; converted below\n",
    "\n",
    "# COMMENT OUT KADSTOTAL\n",
    "\n",
    "# ## prepare dust field for K_ads dust term\n",
    "# # outside loop over runs because always the same\n",
    "# # read in dust field (based on Mahowald et al., 2006, JGR)\n",
    "# bgc_input_fields = xr.open_dataset(obsdir / 'world_41x40.BGC.nc', decode_times=False)\n",
    "# dust_field = bgc_input_fields.dust_dep_mod.mean(dim='time') * 1000 # avg over 12 months; result in g-dust/m**2/s\n",
    "# # process same way as in model: conversion of dust-units; kg-dust/m^2/s to g-dust/m**2/s                                                                                                                                                   \n",
    "# flux_du = dust_field * 365.25 * 24 * 3600\n",
    "\n",
    "# ## prepare sigma values\n",
    "# sigmas_all_runs = total_table.loc[:,('run_ID','sigmaPaPOC', 'sigmaPaCa', 'sigmaPaOp', 'sigmaPaDu', \n",
    "#                                      'sigmaThPOC', 'sigmaThCa', 'sigmaThOp', 'sigmaThDu')]\n",
    "\n",
    "# ## prepare fluxes F_i\n",
    "# # ASSUMING PARTICLE EXPORT FIELDS ARE THE SAME FOR ALL RUNS; otherwise move inside for loop\n",
    "n = run_nrs[0]\n",
    "run = f.runname(nr=n, ensemble=ensemble, ID=False)\n",
    "# # Find export fluxes F_i(theta,phi) at surface\n",
    "# # output is in C/(m^2*s) resp. C/(m^2*s) resp. Si/(m^2*s) resp. g dust/(m^2*s) \n",
    "# # but convert /s to /yr:\n",
    "# flux_poc = data_fulls[run]['FLDPOM'].isel(time=-1) * 365.25 * 24 * 3600 \n",
    "# flux_ca = data_fulls[run]['FLDCA'].isel(time=-1) * 365.25 * 24 * 3600\n",
    "# flux_op = data_fulls[run]['FLDOP'].isel(time=-1) * 365.25 * 24 * 3600\n",
    "\n",
    "# prepare grid cell volume and mask it with wet cells only\n",
    "# used for k_ads_sum\n",
    "vol = data_fulls[run].boxvol  \n",
    "test_var = data_fulls[run].Pad.isel(time=-1)\n",
    "vol = xr.where(np.isnan(test_var), np.nan, vol)\n",
    "# correct: since vol is in denum and nom, this mask is applied to both sums over theta,phi,z\n",
    "\n",
    "## loop over runs and fill information on the way\n",
    "median_Pad = []\n",
    "median_Thd = []\n",
    "median_Pap = []\n",
    "median_Thp = []\n",
    "# k_ads_pa_sum = []\n",
    "# k_ads_th_sum = []\n",
    "for i,n in enumerate(run_nrs):\n",
    "    run = f.runname(nr=n, ensemble=ensemble, ID=False)\n",
    "    \n",
    "    # convert model units dpm/m3 to uBq/kg\n",
    "    obj = data_fulls[run].isel(time=-1) # output of this run, still in dpm/m3\n",
    "    obj = f.model_to_sw_unit(obj, data_fulls[run].rho_SI.isel(time=-1)) # to uBq/kg\n",
    "\n",
    "    # compute and save median\n",
    "    median_Pad.append(obj.Pad.median().item())\n",
    "    median_Thd.append(obj.Thd.median().item())\n",
    "    median_Pap.append(obj.Pap.median().item())\n",
    "    median_Thp.append(obj.Thp.median().item())\n",
    "    \n",
    "#     ## Compute and save K_ads^j_summed, where sum is over all grid cells\n",
    "#     # TODO ignoring direct effect of neph on Kads for now (indirect: other diffusion is w/i run)\n",
    "\n",
    "#     # Find sigmas of this run nr n\n",
    "#     if ensemble == 'PAR':\n",
    "#         # quick fix with using i instead of n (n is a string in case of PAR ensemble); breaks if specific run nrs are asked\n",
    "#         [junk_ID, sig_pa_poc, sig_pa_ca, sig_pa_op, sig_pa_du, \n",
    "#          sig_th_poc, sig_th_ca, sig_th_op, sig_th_du] = sigmas_all_runs.loc[i].values\n",
    "#     else:\n",
    "#         # [sig_pa_poc, sig_pa_ca, sig_pa_op, sig_pa_du, \n",
    "#         #  sig_th_poc, sig_th_ca, sig_th_op, sig_th_du] = sigmas_all_runs.loc[n].values\n",
    "        \n",
    "#         [junk_ID, sig_pa_poc, sig_pa_ca, sig_pa_op, sig_pa_du, \n",
    "#          sig_th_poc, sig_th_ca, sig_th_op, sig_th_du] = sigmas_all_runs[sigmas_all_runs.run_ID == n+1000].values[0]\n",
    "    \n",
    "#     # Compute k_ads_sum\n",
    "#     this_kads_pa_sum = 0  # unit is /yr, same as k_ads_pa\n",
    "#     this_kads_th_sum = 0\n",
    "#     for z in data_fulls[run].z_t:\n",
    "#         # vol.sel(z_t=z) & flux_poc both have coords (lat,lon), which are preserved; rest scalars\n",
    "#         res = vol.sel(z_t=z) * (flux_poc * sig_pa_poc * f.remin_curve_val(z, 'POC') +\n",
    "#                                 flux_ca * sig_pa_ca * f.remin_curve_val(z, 'CaCO3') +\n",
    "#                                 flux_op * sig_pa_op * f.remin_curve_val(z, 'opal') +\n",
    "#                                 flux_du * sig_pa_du * f.remin_curve_val(z, 'dust') ) # numerator (theta,phi,z)\n",
    "#         this_kads_pa_sum += res.sum(dim=('lat_t','lon_t')).item()\n",
    "\n",
    "#         # repeat for Th\n",
    "#         res = vol.sel(z_t=z) * (flux_poc * sig_th_poc * f.remin_curve_val(z, 'POC') +\n",
    "#                                 flux_ca * sig_th_ca * f.remin_curve_val(z, 'CaCO3') +\n",
    "#                                 flux_op * sig_th_op * f.remin_curve_val(z, 'opal') +\n",
    "#                                 flux_du * sig_th_du * f.remin_curve_val(z, 'dust') ) \n",
    "#         this_kads_th_sum += res.sum(dim=('lat_t','lon_t')).item()\n",
    "#     # denominator: divide by total weights\n",
    "#     k_ads_pa_sum.append(this_kads_pa_sum / vol.sum().item())\n",
    "#     k_ads_th_sum.append(this_kads_th_sum / vol.sum().item())\n",
    "    \n",
    "    # print result for 1 run\n",
    "    if run == '2TU1334_PI':\n",
    "        print('median of Pad best-fit (run nr 334):', obj.Pad.median().item(), 'uBq/kg')\n",
    "        print('median of Thd best-fit (run nr 334):', obj.Thd.median().item(), 'uBq/kg')\n",
    "        print('median of Pap best-fit (run nr 334):', obj.Pap.median().item(), 'uBq/kg')\n",
    "        print('median of Thp best-fit (run nr 334):', obj.Thp.median().item(), 'uBq/kg\\n')\n",
    "        \n",
    "        # print('k_ads_pa_sum of best-fit (run nr 334):', this_kads_pa_sum, '/yr')\n",
    "        # print('k_ads_th_sum of best-fit (run nr 334):', this_kads_th_sum, '/yr\\n')\n",
    "\n",
    "# add results to table\n",
    "total_table.insert(4, 'median_Pad', median_Pad)\n",
    "total_table.insert(5, 'median_Thd', median_Thd)\n",
    "total_table.insert(6, 'median_Pap', median_Pap)\n",
    "total_table.insert(7, 'median_Thp', median_Thp)\n",
    "# total_table.insert(8, 'k_ads_pa_sum', k_ads_pa_sum)\n",
    "# total_table.insert(9, 'k_ads_th_sum', k_ads_th_sum)\n",
    "\n",
    "# delete (large) datasets again to save memory\n",
    "del data_fulls"
   ]
  },
  {
   "cell_type": "markdown",
   "metadata": {},
   "source": [
    "<a id='RMSE'></a>\n",
    "# Compute RMSEs\n",
    "We will now use obs_ave together with every model run via the get_sim() function to compute RMSE of model-obs misfit. Care is taken that both objects are pandas dataframes (both xarray would have been possible as well but not implemented).    \n",
    "Weights: obs uncertainties & grid cell volume  \n",
    "[go to top](#top)"
   ]
  },
  {
   "cell_type": "code",
   "execution_count": 158,
   "metadata": {},
   "outputs": [
    {
     "name": "stderr",
     "output_type": "stream",
     "text": [
      "<ipython-input-158-4f9e1c643f82>:8: DtypeWarning: Columns (21) have mixed types.Specify dtype option on import or set low_memory=False.\n",
      "  obs_d_geotraces_incl_arctic = f.get_obs_geotraces(fnobs, dissolved_type='BOTTLE',\n"
     ]
    },
    {
     "name": "stdout",
     "output_type": "stream",
     "text": [
      "Column 21 has mixed types as it contains quality control variables, which can be int or string. Fine.\n",
      "Reduced dataset from  96184  rows to  2166  rows after deleting nans.\n",
      "Reduced dataset from  129  rows to  129  rows after deleting nans.\n",
      "Reduced dataset from  20  rows to  20  rows after deleting nans.\n",
      "Reduced dataset from  126  rows to  126  rows after deleting nans.\n",
      "Starting to match obs to nearest model coords... \n",
      "... finished matching.\n",
      "Performing a weighted average (weights=1/error) in cells with >1 obs, with error propagation.\n",
      "Function obs_to_model_grid(): done.\n",
      "Reduced dataset from  102686  rows to  860  rows after deleting nans.\n",
      "Reduced dataset from  1009  rows to  1003  rows after deleting nans.\n",
      "Starting to match obs to nearest model coords... \n",
      "... finished matching.\n",
      "Performing a weighted average (weights=1/error) in cells with >1 obs, with error propagation.\n",
      "Function obs_to_model_grid(): done.\n"
     ]
    }
   ],
   "source": [
    "## prepare: load obs \n",
    "\n",
    "## load observations again to be sure to have the right version / desired subset\n",
    "\n",
    "# dissolved\n",
    "# load geotraces observations\n",
    "fnobs = obsdir / 'Pad_Thd_IDP2021.txt'\n",
    "obs_d_geotraces_incl_arctic = f.get_obs_geotraces(fnobs, dissolved_type='BOTTLE', \n",
    "                                                  drop_meta_data=True, good_quality=True)\n",
    "obs_d_geotraces = obs_d_geotraces_incl_arctic[~obs_d_geotraces_incl_arctic.cruise.isin(\n",
    "    ['GN01','GN02','GN03','GN04'])].copy()\n",
    "\n",
    "# load other dissolved observations from 3 additional studies\n",
    "obs_d_deng = f.get_obs_other(obsdir / 'Deng2018Pad_Thd_formatted_uBq_per_kg.csv') # is geovide\n",
    "obs_d_ng = f.get_obs_other(obsdir / 'Ng2020Pad_Thd_formatted_dpm_per_1000kg.csv')\n",
    "for var in ['Pad','Pad_err','Thd','Thd_err']:\n",
    "    # convert dpm/1000kg to uBq/kg; using 1 dpm = 1/60 * 1e6 uBq\n",
    "    obs_d_ng[var] = obs_d_ng[var] / 60.0 * 1e3  \n",
    "obs_d_pavia = f.get_obs_other(obsdir / 'Pavia2020Pad_Thd_formatted_uBq_per_kg.csv')\n",
    "\n",
    "# combine all dissolved data\n",
    "obs_d = pd.concat([obs_d_geotraces,obs_d_deng,obs_d_ng,obs_d_pavia], join='outer')\n",
    "obs_d_incl_arctic = pd.concat([obs_d_geotraces_incl_arctic,obs_d_deng,obs_d_ng\n",
    "                               ,obs_d_pavia], join='outer')  # for completeness; not used\n",
    "[obs_d, obs_d_ave, obs_d_ave_num] = f.obs_to_model_grid(obs_d, fnctrl)\n",
    "\n",
    "# particle-bound\n",
    "fnobs = obsdir / 'Pap_Thp_IDP2021.txt'\n",
    "obs_p = f.get_obs_geotraces(fnobs, drop_meta_data=True, p_type='combined', good_quality=True)\n",
    "[obs_p, obs_p_ave, obs_p_ave_num] = f.obs_to_model_grid(obs_p, fnctrl)"
   ]
  },
  {
   "cell_type": "code",
   "execution_count": null,
   "metadata": {},
   "outputs": [],
   "source": [
    "## prepare: compute weights\n",
    "\n",
    "# load one example run; only used for volume of grid cells\n",
    "if ensemble == 'PAR':\n",
    "    runid = all_run_nrs[ensemble][0]\n",
    "else:\n",
    "    runid = all_run_nrs[ensemble][0] + 1000  # must be ID\n",
    "    \n",
    "# dissolved\n",
    "[res_d_table, res_entire] = f.get_sim(memberid=runid, path=modeldir, obs_ave=obs_d_ave, \n",
    "                                      ensemble=ensemble, convert_unit_to_obs=True)\n",
    "# find weights (explained below) => 3 types possible\n",
    "[weights_tot_Pad, weights_tot_Thd] = f.find_weights(obs_d_ave, res_entire, volume=True, uncertainty=True)\n",
    "[weights_vol_Pad, weights_vol_Thd] = f.find_weights(obs_d_ave, res_entire, volume=True, uncertainty=False)\n",
    "[weights_unc_Pad, weights_unc_Thd] = f.find_weights(obs_d_ave, res_entire, volume=False, uncertainty=True)\n",
    "\n",
    "# particle-bound \n",
    "# => has other res_table since obs are at other locations: other model grid cells are selected\n",
    "[res_p_table, res_entire] = f.get_sim(memberid=runid, path=modeldir, obs_ave=obs_p_ave, \n",
    "                                      ensemble=ensemble, convert_unit_to_obs=True)\n",
    "# find weights (explained below) => 3 types possible\n",
    "[weights_tot_Pap, weights_tot_Thp] = f.find_weights(obs_p_ave, res_entire, volume=True, uncertainty=True)\n",
    "[weights_vol_Pap, weights_vol_Thp] = f.find_weights(obs_p_ave, res_entire, volume=True, uncertainty=False)\n",
    "[weights_unc_Pap, weights_unc_Thp] = f.find_weights(obs_p_ave, res_entire, volume=False, uncertainty=True)"
   ]
  },
  {
   "cell_type": "markdown",
   "metadata": {
    "tags": []
   },
   "source": [
    "### Set weights\n",
    "- We choose the RMSE as measure of the observation minus model misfit (not e.g. MSE) because it is easier interpretable as the unit of RMSE is the same as the unit of obs/models.   \n",
    "Formula:  \n",
    "$$RMSE = \\sqrt{\\frac{\\sum_{k=1}^N w_k \\cdot (sim_k - obs_k)^2}{\\sum_{k=1}^N w_k}}$$\n",
    "where $k$ is a model grid cell (lat, lon, z) where observations are present. If multiple observations occur in 1 grid cell, they are averaged and the result is saved as $obs_k$. Output of model grid cells where no observations are present is ignored.\n",
    "- We want to weight the RMSE by the uncertainty in the observations. If this was our only weighting, we would choose weights\n",
    "$$w_{err,k} = \\frac{1}{err_k}$$\n",
    "where $err_k$ is the uncertainty reported in the observations. Note that $w_k \\to \\infty$ when $err_k\\to 0$, but we check below that none of the errors in Pad and Thd is literally 0. \n",
    "- We also want to weight the RMSE by the grid cell volume. This is important because we are not interested in the surface, but most observations are in the surface ocean. In our model, grid box height increases exponentially with depth, so deeper cells will have more weight. If this was our only weighting, the weights would be\n",
    "$$w_{vol,k} = vol_k$$   \n",
    "where $vol_k$ is the grid cell volume in $m^3$.\n",
    "- Now we combine both types of weights to\n",
    "$$w_k = \\frac{vol_k}{err_k}$$\n",
    "- This last formula is used in the function find_weights()"
   ]
  },
  {
   "cell_type": "markdown",
   "metadata": {},
   "source": [
    "### Get RMSE for 1 example run"
   ]
  },
  {
   "cell_type": "code",
   "execution_count": 28,
   "metadata": {},
   "outputs": [],
   "source": [
    "# first load 1 model run\n",
    "\n",
    "###### SETTINGS #########################\n",
    "n = 5  # set run_nr\n",
    "#########################################\n",
    "\n",
    "if ensemble == 'PAR':\n",
    "    runid = all_run_nrs[ensemble][n]\n",
    "else:\n",
    "    runid = all_run_nrs[ensemble][n] + 1000  # must be ID\n",
    "    \n",
    "[res_d_table, res_entire] = f.get_sim(memberid=runid, path=modeldir, obs_ave=obs_d_ave, \n",
    "                                      ensemble=ensemble, convert_unit_to_obs=True)\n",
    "[res_p_table, res_entire] = f.get_sim(memberid=runid, path=modeldir, obs_ave=obs_p_ave, \n",
    "                                      ensemble=ensemble, convert_unit_to_obs=True)\n",
    "# res_entire gives entire model data in xarray(all 3D variables including also Pad, Thd, Pap, Thp)\n",
    "# res_d/p_table gives pandas dataframe/table with columns Pad,Thd resp. Pap,Thp; only containing grid cells where obs are \n",
    "#               available; using index of obs_ave (column names of obs_ave determine whether Pad,Thd or Pap,Thp is of interest)"
   ]
  },
  {
   "cell_type": "code",
   "execution_count": 29,
   "metadata": {},
   "outputs": [
    {
     "name": "stdout",
     "output_type": "stream",
     "text": [
      "RMSEs without weights for runid 1005 :\n",
      "Pad:\n",
      "RMSE = 2.215 [uBq/kg]\n",
      "Thd:\n",
      "RMSE = 7.358 [uBq/kg]\n",
      "Pap:\n",
      "RMSE = 0.115 [uBq/kg]\n",
      "Thp:\n",
      "RMSE = 2.97 [uBq/kg]\n",
      "\n",
      "\n",
      "RMSEs with total weights for runid 1005 :\n",
      "Pad:\n",
      "RMSE = 1.99 [uBq/kg]\n",
      "Thd:\n",
      "RMSE = 5.556 [uBq/kg]\n",
      "Pap:\n",
      "RMSE = 0.049 [uBq/kg]\n",
      "Thp:\n",
      "RMSE = 0.793 [uBq/kg]\n",
      "RMSEs with volume weights for runid 1005 :\n",
      "Pad:\n",
      "RMSE = 2.166 [uBq/kg]\n",
      "Thd:\n",
      "RMSE = 5.956 [uBq/kg]\n",
      "Pap:\n",
      "RMSE = 0.078 [uBq/kg]\n",
      "Thp:\n",
      "RMSE = 2.296 [uBq/kg]\n",
      "RMSEs with uncertainty weights for runid 1005 :\n",
      "Pad:\n",
      "RMSE = 1.631 [uBq/kg]\n",
      "Thd:\n",
      "RMSE = 6.939 [uBq/kg]\n",
      "Pap:\n",
      "RMSE = 0.033 [uBq/kg]\n",
      "Thp:\n",
      "RMSE = 0.514 [uBq/kg]\n"
     ]
    }
   ],
   "source": [
    "# compute RMSE for that example run without weights\n",
    "print('RMSEs without weights for runid', runid,':')\n",
    "print('Pad:')\n",
    "this_RMSE = f.calc_rmse(model=res_d_table.Pad, observation=obs_d_ave.Pad, weights=None, verbose=True)\n",
    "print('Thd:')\n",
    "this_RMSE = f.calc_rmse(model=res_d_table.Thd, observation=obs_d_ave.Thd, weights=None, verbose=True)\n",
    "print('Pap:')\n",
    "this_RMSE = f.calc_rmse(model=res_p_table.Pap, observation=obs_p_ave.Pap, weights=None, verbose=True)\n",
    "print('Thp:')\n",
    "this_RMSE = f.calc_rmse(model=res_p_table.Thp, observation=obs_p_ave.Thp, weights=None, verbose=True)\n",
    "print('\\n')\n",
    "\n",
    "# now with total weights (grid volume and observational uncertainty)\n",
    "print('RMSEs with total weights for runid', runid,':')\n",
    "print('Pad:')\n",
    "this_RMSE = f.calc_rmse(model=res_d_table.Pad, observation=obs_d_ave.Pad, weights=weights_tot_Pad, verbose=True)\n",
    "print('Thd:')\n",
    "this_RMSE = f.calc_rmse(model=res_d_table.Thd, observation=obs_d_ave.Thd, weights=weights_tot_Thd, verbose=True)\n",
    "print('Pap:')\n",
    "this_RMSE = f.calc_rmse(model=res_p_table.Pap, observation=obs_p_ave.Pap, weights=weights_tot_Pap, verbose=True)\n",
    "print('Thp:')\n",
    "this_RMSE = f.calc_rmse(model=res_p_table.Thp, observation=obs_p_ave.Thp, weights=weights_tot_Thp, verbose=True)\n",
    "\n",
    "print('RMSEs with volume weights for runid', runid,':')\n",
    "print('Pad:')\n",
    "this_RMSE = f.calc_rmse(model=res_d_table.Pad, observation=obs_d_ave.Pad, weights=weights_vol_Pad, verbose=True)\n",
    "print('Thd:')\n",
    "this_RMSE = f.calc_rmse(model=res_d_table.Thd, observation=obs_d_ave.Thd, weights=weights_vol_Thd, verbose=True)\n",
    "print('Pap:')\n",
    "this_RMSE = f.calc_rmse(model=res_p_table.Pap, observation=obs_p_ave.Pap, weights=weights_vol_Pap, verbose=True)\n",
    "print('Thp:')\n",
    "this_RMSE = f.calc_rmse(model=res_p_table.Thp, observation=obs_p_ave.Thp, weights=weights_vol_Thp, verbose=True)\n",
    "\n",
    "print('RMSEs with uncertainty weights for runid', runid,':')\n",
    "print('Pad:')\n",
    "this_RMSE = f.calc_rmse(model=res_d_table.Pad, observation=obs_d_ave.Pad, weights=weights_unc_Pad, verbose=True)\n",
    "print('Thd:')\n",
    "this_RMSE = f.calc_rmse(model=res_d_table.Thd, observation=obs_d_ave.Thd, weights=weights_unc_Thd, verbose=True)\n",
    "print('Pap:')\n",
    "this_RMSE = f.calc_rmse(model=res_p_table.Pap, observation=obs_p_ave.Pap, weights=weights_unc_Pap, verbose=True)\n",
    "print('Thp:')\n",
    "this_RMSE = f.calc_rmse(model=res_p_table.Thp, observation=obs_p_ave.Thp, weights=weights_unc_Thp, verbose=True)\n"
   ]
  },
  {
   "cell_type": "code",
   "execution_count": 23,
   "metadata": {},
   "outputs": [
    {
     "name": "stdout",
     "output_type": "stream",
     "text": [
      "Average obs Pad is 3.11 uBq/kg,   with an average uncertainty of  0.135 uBq/kg, which is  4.4 %.\n",
      "Average obs Thd is 6.7 uBq/kg,   with an average uncertainty of  0.167 uBq/kg, which is  2.5 %.\n",
      "Average obs Pap is 0.06 uBq/kg,   with an average uncertainty of  0.003 uBq/kg, which is  5.0 %.\n",
      "Average obs Thp is 1.12 uBq/kg,   with an average uncertainty of  0.024 uBq/kg, which is  2.1 %.\n"
     ]
    }
   ],
   "source": [
    "print('Average obs Pad is', np.round(obs_d_ave.Pad.mean(),2), 'uBq/kg,   with an average uncertainty of ', \n",
    "      np.round(obs_d_ave.Pad_err.mean(),3), 'uBq/kg, which is ', \n",
    "      np.round(obs_d_ave.Pad_err.mean() / obs_d_ave.Pad.mean() * 100,1),'%.')\n",
    "print('Average obs Thd is', np.round(obs_d_ave.Thd.mean(),2), 'uBq/kg,   with an average uncertainty of ', \n",
    "      np.round(obs_d_ave.Thd_err.mean(),3), 'uBq/kg, which is ', \n",
    "      np.round(obs_d_ave.Thd_err.mean() / obs_d_ave.Thd.mean() * 100,1),'%.')\n",
    "print('Average obs Pap is', np.round(obs_p_ave.Pap.mean(),2), 'uBq/kg,   with an average uncertainty of ', \n",
    "      np.round(obs_p_ave.Pap_err.mean(),3), 'uBq/kg, which is ', \n",
    "      np.round(obs_p_ave.Pap_err.mean() / obs_p_ave.Pap.mean() * 100,1),'%.')\n",
    "print('Average obs Thp is', np.round(obs_p_ave.Thp.mean(),2), 'uBq/kg,   with an average uncertainty of ', \n",
    "      np.round(obs_p_ave.Thp_err.mean(),3), 'uBq/kg, which is ', \n",
    "      np.round(obs_p_ave.Thp_err.mean() / obs_p_ave.Thp.mean() * 100,1),'%.')\n",
    "# => obs uncertainties in percentage domain => non-negligible: using them as weights is meaningful."
   ]
  },
  {
   "cell_type": "markdown",
   "metadata": {},
   "source": [
    "## Get all RMSEs\n",
    "[go to top](#top)"
   ]
  },
  {
   "cell_type": "code",
   "execution_count": 12,
   "metadata": {},
   "outputs": [],
   "source": [
    "## define basins/cruises of interest\n",
    "# using obs_d since obs_p would only give a subset of that\n",
    "cruises_incl_arctic = np.unique(obs_d_incl_arctic.cruise)  # for completion; not used\n",
    "cruises_all = np.unique(obs_d.cruise)                      # already excludes Arctic cruises\n",
    "\n",
    "# only 1 basin incl its SO sector\n",
    "cruises_Atl = ['GA02', 'GAc02', 'GA03', 'GAc03', 'GA10','GIPY04', 'GIPY05', \n",
    "               'deng', 'ng'] # deng=geovide\n",
    "cruises_Pac = ['GP16', 'GPc01', 'GSc02', 'pavia']\n",
    "\n",
    "# SO (Southern Ocean)\n",
    "cruises_SO = ['GSc02','GIPY04', 'GIPY05','GIpr05', 'pavia'] \n",
    "# chosing here the definition that GA10 is not SO\n",
    "\n",
    "# for testing purposes; NOTE: these are only in the obs_d_incl_arctic, obs_p_incl_arctic objects\n",
    "cruises_Arctic = ['GN01', 'GN02', 'GN03', 'GN04']  \n",
    "cruises_Labr = ['GN02']"
   ]
  },
  {
   "cell_type": "markdown",
   "metadata": {},
   "source": [
    "## Get all desired RMSEs: per basin & with/without surface & with/without weights"
   ]
  },
  {
   "cell_type": "code",
   "execution_count": 22,
   "metadata": {},
   "outputs": [
    {
     "name": "stdout",
     "output_type": "stream",
     "text": [
      "--- NUMBER OF TASKS: GOING TO COMPUTE 8 different versions of RMSEs (actually x 4 for Pad,Thd,Pap,Thp).\n",
      "Performing a weighted average (weights=1/error) in cells with >1 obs, with error propagation.\n",
      "Function obs_to_model_grid(): done.\n",
      "Performing a weighted average (weights=1/error) in cells with >1 obs, with error propagation.\n",
      "Function obs_to_model_grid(): done.\n",
      "Going to compute RMSE_Pad, RMSE_Thd, RMSE_Pap, RMSE_Thp for 40 model runs.\n",
      "--- FINISHED TASK NUMBER 1  ---\n",
      "Performing a weighted average (weights=1/error) in cells with >1 obs, with error propagation.\n",
      "Function obs_to_model_grid(): done.\n",
      "Performing a weighted average (weights=1/error) in cells with >1 obs, with error propagation.\n",
      "Function obs_to_model_grid(): done.\n",
      "Going to compute RMSE_Pad, RMSE_Thd, RMSE_Pap, RMSE_Thp for 40 model runs.\n",
      "--- FINISHED TASK NUMBER 2  ---\n",
      "Performing a weighted average (weights=1/error) in cells with >1 obs, with error propagation.\n",
      "Function obs_to_model_grid(): done.\n",
      "Performing a weighted average (weights=1/error) in cells with >1 obs, with error propagation.\n",
      "Function obs_to_model_grid(): done.\n",
      "Going to compute RMSE_Pad, RMSE_Thd, RMSE_Pap, RMSE_Thp for 40 model runs.\n",
      "--- FINISHED TASK NUMBER 3  ---\n",
      "Performing a weighted average (weights=1/error) in cells with >1 obs, with error propagation.\n",
      "Function obs_to_model_grid(): done.\n",
      "Performing a weighted average (weights=1/error) in cells with >1 obs, with error propagation.\n",
      "Function obs_to_model_grid(): done.\n",
      "Going to compute RMSE_Pad, RMSE_Thd, RMSE_Pap, RMSE_Thp for 40 model runs.\n",
      "--- FINISHED TASK NUMBER 4  ---\n",
      "Performing a weighted average (weights=1/error) in cells with >1 obs, with error propagation.\n",
      "Function obs_to_model_grid(): done.\n",
      "Performing a weighted average (weights=1/error) in cells with >1 obs, with error propagation.\n",
      "Function obs_to_model_grid(): done.\n",
      "Going to compute RMSE_Pad, RMSE_Thd, RMSE_Pap, RMSE_Thp for 40 model runs.\n",
      "--- FINISHED TASK NUMBER 5  ---\n",
      "Performing a weighted average (weights=1/error) in cells with >1 obs, with error propagation.\n",
      "Function obs_to_model_grid(): done.\n",
      "Performing a weighted average (weights=1/error) in cells with >1 obs, with error propagation.\n",
      "Function obs_to_model_grid(): done.\n",
      "Going to compute RMSE_Pad, RMSE_Thd, RMSE_Pap, RMSE_Thp for 40 model runs.\n",
      "--- FINISHED TASK NUMBER 6  ---\n",
      "Performing a weighted average (weights=1/error) in cells with >1 obs, with error propagation.\n",
      "Function obs_to_model_grid(): done.\n",
      "Performing a weighted average (weights=1/error) in cells with >1 obs, with error propagation.\n",
      "Function obs_to_model_grid(): done.\n",
      "Going to compute RMSE_Pad, RMSE_Thd, RMSE_Pap, RMSE_Thp for 40 model runs.\n",
      "--- FINISHED TASK NUMBER 7  ---\n",
      "Performing a weighted average (weights=1/error) in cells with >1 obs, with error propagation.\n",
      "Function obs_to_model_grid(): done.\n",
      "Performing a weighted average (weights=1/error) in cells with >1 obs, with error propagation.\n",
      "Function obs_to_model_grid(): done.\n",
      "Going to compute RMSE_Pad, RMSE_Thd, RMSE_Pap, RMSE_Thp for 40 model runs.\n",
      "--- FINISHED TASK NUMBER 8  ---\n",
      "...FINISHED!\n"
     ]
    }
   ],
   "source": [
    "######### COMPUTE ALL DESIRED RMSEs: TAKES A LONG WHILE ###########\n",
    "                            # for 150 runs x 16 tasks x 2 (Pad,Thd) = 4800 it took 30 minutes so ca. 0.4 second per RMSE per run\n",
    "                            # but really depends on overhead of loading observations again for each task\n",
    "###### SETTINGS ######\n",
    "\n",
    "# define all RMSEs to be computed as fourplets and name them (without the _Pad, _Thd)\n",
    "# fourplets (cruises, wo_surface, weighted_vol, weighted_unc) \n",
    "\n",
    "RMSE_tasks = {'RMSE_unc_weights':(cruises_all,False,False,True), \n",
    "              'RMSE_no_weights':(cruises_all,False,False,False),\n",
    "              'RMSE_incl_arctic_unc_weights':(cruises_incl_arctic,False,False,True), \n",
    "              'RMSE_incl_arctic_no_weights':(cruises_incl_arctic,False,False,False)}\n",
    "\n",
    "model_run_nrs = all_run_nrs[ensemble]    # all; takes ca. 1 hour for 1TU and 10 mins for 2TU;  MULTIPLIED WITH number of tasks\n",
    "\n",
    "######################\n",
    "\n",
    "if ensemble == 'PAR':\n",
    "    modelrunIDs = model_run_nrs\n",
    "else:\n",
    "    modelrunIDs = np.asarray(model_run_nrs) + 1000  # must be ID   \n",
    "\n",
    "print('--- NUMBER OF TASKS: GOING TO COMPUTE', len(RMSE_tasks), 'different versions of RMSEs (actually x 4 for Pad,Thd,Pap,Thp).')\n",
    "\n",
    "RMSE_results = {}\n",
    "counter = 0\n",
    "for key in RMSE_tasks:\n",
    "    (cruises, wo_surface, weighted_vol, weighted_unc) = RMSE_tasks[key]\n",
    "    \n",
    "    [junk, this_obs_d_ave, junk2] = f.subset_of_obs(obs_d, fnctrl, cruises=cruises, wo_surface=wo_surface)\n",
    "    [junk, this_obs_p_ave, junk2] = f.subset_of_obs(obs_p, fnctrl, cruises=cruises, wo_surface=wo_surface)\n",
    "    \n",
    "    [RMSEs_task_Pad, RMSEs_task_Thd, RMSEs_task_Pap, RMSEs_task_Thp] = f.calc_all_RMSEs(this_obs_d_ave, this_obs_p_ave, \n",
    "                                                                                        modelrunIDs=modelrunIDs, modeldir=modeldir, \n",
    "                                                                                        ensemble=ensemble, weighted_vol=weighted_vol, \n",
    "                                                                                        weighted_unc=weighted_unc, verbose=False)\n",
    "    RMSE_results[key+'_Pad'] = RMSEs_task_Pad\n",
    "    RMSE_results[key+'_Thd'] = RMSEs_task_Thd\n",
    "    RMSE_results[key+'_Pap'] = RMSEs_task_Pap\n",
    "    RMSE_results[key+'_Thp'] = RMSEs_task_Thp\n",
    "    \n",
    "    counter += 1\n",
    "    print('--- FINISHED TASK NUMBER', counter, ' ---')\n",
    "    \n",
    "print('...FINISHED!')\n",
    "\n",
    "# if ERROR: cruises objects are defined a few cells above"
   ]
  },
  {
   "cell_type": "markdown",
   "metadata": {},
   "source": [
    "<a id='MAE'></a>\n",
    "# Compute MAEs\n",
    "Analagously we compute MAEs, mean absolute errors. They have the advantage over RMSE to be less influenced by outliers (and are a bit more intuitive to interpret because no square root).   \n",
    "\n",
    "Formula:  \n",
    "$$MAE = \\frac{\\sum_{k=1}^N w_k \\cdot |sim_k - obs_k|}{\\sum_{k=1}^N w_k}$$\n",
    "where $|x|$ is the absolute value of $x$ and $k$ is a model grid cell (lat, lon, z) where observations are present. If multiple observations occur in 1 grid cell, they are averaged and the result is saved as $obs_k$. Output of model grid cells where no observations are present is ignored.  \n",
    "\n",
    "Weights are identical to the weights for RMSE explained above.  \n",
    "[go to top](#top)"
   ]
  },
  {
   "cell_type": "markdown",
   "metadata": {},
   "source": [
    "### Get MAE for 1 example run"
   ]
  },
  {
   "cell_type": "code",
   "execution_count": 25,
   "metadata": {},
   "outputs": [],
   "source": [
    "# first load 1 model run\n",
    "\n",
    "###### SETTINGS #########################\n",
    "n = 5  # set run_nr\n",
    "#########################################\n",
    "\n",
    "if ensemble == 'PAR':\n",
    "    runid = all_run_nrs[ensemble][n]\n",
    "else:\n",
    "    runid = all_run_nrs[ensemble][n] + 1000  # must be ID\n",
    "    \n",
    "[res_d_table, res_entire] = f.get_sim(memberid=runid, path=modeldir, obs_ave=obs_d_ave, \n",
    "                                      ensemble=ensemble, convert_unit_to_obs=True)\n",
    "[res_p_table, res_entire] = f.get_sim(memberid=runid, path=modeldir, obs_ave=obs_p_ave, \n",
    "                                      ensemble=ensemble, convert_unit_to_obs=True)\n",
    "# res_entire gives entire model data in xarray(all 3D variables including also Pad, Thd, Pap, Thp)\n",
    "# res_d/p_table gives pandas dataframe/table with columns Pad,Thd resp. Pap,Thp; only containing grid cells where obs are \n",
    "#               available; using index of obs_ave (column names of obs_ave determine whether Pad,Thd or Pap,Thp is of interest)"
   ]
  },
  {
   "cell_type": "code",
   "execution_count": 26,
   "metadata": {},
   "outputs": [
    {
     "name": "stdout",
     "output_type": "stream",
     "text": [
      "MAE without weights for runid 1005 :\n",
      "Pad:\n",
      "MAE = 1.625 [uBq/kg]\n",
      "Thd:\n",
      "MAE = 4.789 [uBq/kg]\n",
      "Pap:\n",
      "MAE = 0.036 [uBq/kg]\n",
      "Thp:\n",
      "MAE = 0.672 [uBq/kg]\n",
      "\n",
      "\n",
      "MAE with total weights for runid 1005 :\n",
      "Pad:\n",
      "MAE = 1.418 [uBq/kg]\n",
      "Thd:\n",
      "MAE = 3.43 [uBq/kg]\n",
      "Pap:\n",
      "MAE = 0.025 [uBq/kg]\n",
      "Thp:\n",
      "MAE = 0.5 [uBq/kg]\n",
      "MAE with volume weights for runid 1005 :\n",
      "Pad:\n",
      "MAE = 1.483 [uBq/kg]\n",
      "Thd:\n",
      "MAE = 4.011 [uBq/kg]\n",
      "Pap:\n",
      "MAE = 0.032 [uBq/kg]\n",
      "Thp:\n",
      "MAE = 0.843 [uBq/kg]\n",
      "MAE with uncertainty weights for runid 1005 :\n",
      "Pad:\n",
      "MAE = 1.099 [uBq/kg]\n",
      "Thd:\n",
      "MAE = 3.886 [uBq/kg]\n",
      "Pap:\n",
      "MAE = 0.015 [uBq/kg]\n",
      "Thp:\n",
      "MAE = 0.287 [uBq/kg]\n"
     ]
    }
   ],
   "source": [
    "# compute MAE for that example run without weights\n",
    "print('MAE without weights for runid', runid,':')\n",
    "print('Pad:')\n",
    "this_MAE = f.calc_mae(model=res_d_table.Pad, observation=obs_d_ave.Pad, weights=None, verbose=True)\n",
    "print('Thd:')\n",
    "this_MAE = f.calc_mae(model=res_d_table.Thd, observation=obs_d_ave.Thd, weights=None, verbose=True)\n",
    "print('Pap:')\n",
    "this_MAE = f.calc_mae(model=res_p_table.Pap, observation=obs_p_ave.Pap, weights=None, verbose=True)\n",
    "print('Thp:')\n",
    "this_MAE = f.calc_mae(model=res_p_table.Thp, observation=obs_p_ave.Thp, weights=None, verbose=True)\n",
    "print('\\n')\n",
    "\n",
    "# now with weights (grid volume and observational uncertainty)\n",
    "print('MAE with total weights for runid', runid,':')\n",
    "print('Pad:')\n",
    "this_MAE = f.calc_mae(model=res_d_table.Pad, observation=obs_d_ave.Pad, weights=weights_tot_Pad, verbose=True)\n",
    "print('Thd:')\n",
    "this_MAE = f.calc_mae(model=res_d_table.Thd, observation=obs_d_ave.Thd, weights=weights_tot_Thd, verbose=True)\n",
    "print('Pap:')\n",
    "this_MAE = f.calc_mae(model=res_p_table.Pap, observation=obs_p_ave.Pap, weights=weights_tot_Pap, verbose=True)\n",
    "print('Thp:')\n",
    "this_MAE = f.calc_mae(model=res_p_table.Thp, observation=obs_p_ave.Thp, weights=weights_tot_Thp, verbose=True)\n",
    "\n",
    "print('MAE with volume weights for runid', runid,':')\n",
    "print('Pad:')\n",
    "this_MAE = f.calc_mae(model=res_d_table.Pad, observation=obs_d_ave.Pad, weights=weights_vol_Pad, verbose=True)\n",
    "print('Thd:')\n",
    "this_MAE = f.calc_mae(model=res_d_table.Thd, observation=obs_d_ave.Thd, weights=weights_vol_Thd, verbose=True)\n",
    "print('Pap:')\n",
    "this_MAE = f.calc_mae(model=res_p_table.Pap, observation=obs_p_ave.Pap, weights=weights_vol_Pap, verbose=True)\n",
    "print('Thp:')\n",
    "this_MAE = f.calc_mae(model=res_p_table.Thp, observation=obs_p_ave.Thp, weights=weights_vol_Thp, verbose=True)\n",
    "\n",
    "print('MAE with uncertainty weights for runid', runid,':')\n",
    "print('Pad:')\n",
    "this_MAE = f.calc_mae(model=res_d_table.Pad, observation=obs_d_ave.Pad, weights=weights_unc_Pad, verbose=True)\n",
    "print('Thd:')\n",
    "this_MAE = f.calc_mae(model=res_d_table.Thd, observation=obs_d_ave.Thd, weights=weights_unc_Thd, verbose=True)\n",
    "print('Pap:')\n",
    "this_MAE = f.calc_mae(model=res_p_table.Pap, observation=obs_p_ave.Pap, weights=weights_unc_Pap, verbose=True)\n",
    "print('Thp:')\n",
    "this_MAE = f.calc_mae(model=res_p_table.Thp, observation=obs_p_ave.Thp, weights=weights_unc_Thp, verbose=True)"
   ]
  },
  {
   "cell_type": "code",
   "execution_count": null,
   "metadata": {},
   "outputs": [],
   "source": []
  },
  {
   "cell_type": "markdown",
   "metadata": {},
   "source": [
    "## Get all desired MAEs: per basin & with/without surface & with/without weights"
   ]
  },
  {
   "cell_type": "code",
   "execution_count": 25,
   "metadata": {},
   "outputs": [
    {
     "name": "stdout",
     "output_type": "stream",
     "text": [
      "--- NUMBER OF TASKS: GOING TO COMPUTE 8 different versions of MAEs (actually x 4 for Pad,Thd,Pap,Thp).\n",
      "Performing a weighted average (weights=1/error) in cells with >1 obs, with error propagation.\n",
      "Function obs_to_model_grid(): done.\n",
      "Performing a weighted average (weights=1/error) in cells with >1 obs, with error propagation.\n",
      "Function obs_to_model_grid(): done.\n",
      "Going to compute MAE_Pad, MAE_Thd, MAE_Pap, MAE_Thp for 40 model runs.\n",
      "--- FINISHED TASK NUMBER 1  ---\n",
      "Performing a weighted average (weights=1/error) in cells with >1 obs, with error propagation.\n",
      "Function obs_to_model_grid(): done.\n",
      "Performing a weighted average (weights=1/error) in cells with >1 obs, with error propagation.\n",
      "Function obs_to_model_grid(): done.\n",
      "Going to compute MAE_Pad, MAE_Thd, MAE_Pap, MAE_Thp for 40 model runs.\n",
      "--- FINISHED TASK NUMBER 2  ---\n",
      "Performing a weighted average (weights=1/error) in cells with >1 obs, with error propagation.\n",
      "Function obs_to_model_grid(): done.\n",
      "Performing a weighted average (weights=1/error) in cells with >1 obs, with error propagation.\n",
      "Function obs_to_model_grid(): done.\n",
      "Going to compute MAE_Pad, MAE_Thd, MAE_Pap, MAE_Thp for 40 model runs.\n",
      "--- FINISHED TASK NUMBER 3  ---\n",
      "Performing a weighted average (weights=1/error) in cells with >1 obs, with error propagation.\n",
      "Function obs_to_model_grid(): done.\n",
      "Performing a weighted average (weights=1/error) in cells with >1 obs, with error propagation.\n",
      "Function obs_to_model_grid(): done.\n",
      "Going to compute MAE_Pad, MAE_Thd, MAE_Pap, MAE_Thp for 40 model runs.\n",
      "--- FINISHED TASK NUMBER 4  ---\n",
      "Performing a weighted average (weights=1/error) in cells with >1 obs, with error propagation.\n",
      "Function obs_to_model_grid(): done.\n",
      "Performing a weighted average (weights=1/error) in cells with >1 obs, with error propagation.\n",
      "Function obs_to_model_grid(): done.\n",
      "Going to compute MAE_Pad, MAE_Thd, MAE_Pap, MAE_Thp for 40 model runs.\n",
      "--- FINISHED TASK NUMBER 5  ---\n",
      "Performing a weighted average (weights=1/error) in cells with >1 obs, with error propagation.\n",
      "Function obs_to_model_grid(): done.\n",
      "Performing a weighted average (weights=1/error) in cells with >1 obs, with error propagation.\n",
      "Function obs_to_model_grid(): done.\n",
      "Going to compute MAE_Pad, MAE_Thd, MAE_Pap, MAE_Thp for 40 model runs.\n",
      "--- FINISHED TASK NUMBER 6  ---\n",
      "Performing a weighted average (weights=1/error) in cells with >1 obs, with error propagation.\n",
      "Function obs_to_model_grid(): done.\n",
      "Performing a weighted average (weights=1/error) in cells with >1 obs, with error propagation.\n",
      "Function obs_to_model_grid(): done.\n",
      "Going to compute MAE_Pad, MAE_Thd, MAE_Pap, MAE_Thp for 40 model runs.\n",
      "--- FINISHED TASK NUMBER 7  ---\n",
      "Performing a weighted average (weights=1/error) in cells with >1 obs, with error propagation.\n",
      "Function obs_to_model_grid(): done.\n",
      "Performing a weighted average (weights=1/error) in cells with >1 obs, with error propagation.\n",
      "Function obs_to_model_grid(): done.\n",
      "Going to compute MAE_Pad, MAE_Thd, MAE_Pap, MAE_Thp for 40 model runs.\n",
      "--- FINISHED TASK NUMBER 8  ---\n",
      "...FINISHED!\n"
     ]
    }
   ],
   "source": [
    "######### COMPUTE ALL DESIRED MAEs: TAKES A LONG WHILE ###########\n",
    "\n",
    "###### SETTINGS ######\n",
    "\n",
    "# define all MAEs to be computed as fourplets and name them (without the _Pad, _Thd)\n",
    "# fourplets (cruises, wo_surface, weighted_vol, weighted_unc) \n",
    "MAE_tasks = {'MAE_tot_weights':(cruises_all,False,True,True), \n",
    "             'MAE_vol_weights':(cruises_all,False,True,False), \n",
    "             'MAE_unc_weights':(cruises_all,False,False,True), \n",
    "             'MAE_no_weights':(cruises_all,False,False,False)}\n",
    "             # 'MAE_incl_arctic_tot_weights':(cruises_incl_arctic,False,True,True), \n",
    "             # 'MAE_incl_arctic_vol_weights':(cruises_incl_arctic,False,True,False),\n",
    "             # 'MAE_incl_arctic_unc_weights':(cruises_incl_arctic,False,False,True), \n",
    "             # 'MAE_incl_arctic_no_weights':(cruises_incl_arctic,False,False,False)}\n",
    "        \n",
    "model_run_nrs = all_run_nrs[ensemble]    # all; takes ca. 1 hour for 1TU and 10 mins for 2TU;  MULTIPLIED WITH number of tasks\n",
    "\n",
    "######################\n",
    "\n",
    "if ensemble == 'PAR':\n",
    "    modelrunIDs = model_run_nrs\n",
    "else:\n",
    "    modelrunIDs = np.asarray(model_run_nrs) + 1000  # must be ID   \n",
    "\n",
    "print('--- NUMBER OF TASKS: GOING TO COMPUTE', len(MAE_tasks), 'different versions of MAEs (actually x 4 for Pad,Thd,Pap,Thp).')\n",
    "\n",
    "MAE_results = {}\n",
    "counter = 0\n",
    "for key in MAE_tasks:\n",
    "    (cruises, wo_surface, weighted_vol, weighted_unc) = MAE_tasks[key]\n",
    "    \n",
    "    [junk, this_obs_d_ave, junk2] = f.subset_of_obs(obs_d, fnctrl, cruises=cruises, wo_surface=wo_surface)\n",
    "    [junk, this_obs_p_ave, junk2] = f.subset_of_obs(obs_p, fnctrl, cruises=cruises, wo_surface=wo_surface)\n",
    "    [MAEs_task_Pad, MAEs_task_Thd, MAEs_task_Pap, MAEs_task_Thp] = f.calc_all_MAEs(this_obs_d_ave, this_obs_p_ave, \n",
    "                                                                                   modelrunIDs=modelrunIDs, modeldir=modeldir,\n",
    "                                                                                   ensemble=ensemble, weighted_vol=weighted_vol, \n",
    "                                                                                   weighted_unc=weighted_unc, verbose=False)\n",
    "    MAE_results[key+'_Pad'] = MAEs_task_Pad\n",
    "    MAE_results[key+'_Thd'] = MAEs_task_Thd\n",
    "    MAE_results[key+'_Pap'] = MAEs_task_Pap\n",
    "    MAE_results[key+'_Thp'] = MAEs_task_Thp\n",
    "    \n",
    "    counter += 1\n",
    "    print('--- FINISHED TASK NUMBER', counter, ' ---')\n",
    "\n",
    "print('...FINISHED!')\n",
    "# if ERROR: cruises objects are defined a few cells above"
   ]
  },
  {
   "cell_type": "markdown",
   "metadata": {},
   "source": [
    "## Get MAEs for a custom set of runs"
   ]
  },
  {
   "cell_type": "code",
   "execution_count": 13,
   "metadata": {},
   "outputs": [
    {
     "name": "stdout",
     "output_type": "stream",
     "text": [
      "--- NUMBER OF TASKS: GOING TO COMPUTE 2 different versions of MAEs (actually x 4 for Pad,Thd,Pap,Thp) for  3  runs.\n",
      "Performing a weighted average (weights=1/error) in cells with >1 obs, with error propagation.\n",
      "Function obs_to_model_grid(): done.\n",
      "Starting to match obs to nearest model coords... \n",
      "... finished matching.\n",
      "Performing a weighted average (weights=1/error) in cells with >1 obs, with error propagation.\n",
      "Function obs_to_model_grid(): done.\n",
      "Going to compute MAE_Pad, MAE_Thd, MAE_Pap, MAE_Thp for 3 model runs.\n",
      "--- FINISHED TASK NUMBER 1  ---\n",
      "Performing a weighted average (weights=1/error) in cells with >1 obs, with error propagation.\n",
      "Function obs_to_model_grid(): done.\n",
      "Starting to match obs to nearest model coords... \n",
      "... finished matching.\n",
      "Performing a weighted average (weights=1/error) in cells with >1 obs, with error propagation.\n",
      "Function obs_to_model_grid(): done.\n",
      "Going to compute MAE_Pad, MAE_Thd, MAE_Pap, MAE_Thp for 3 model runs.\n",
      "--- FINISHED TASK NUMBER 2  ---\n",
      "...FINISHED!\n"
     ]
    }
   ],
   "source": [
    "######### COMPUTE MAEs FOR A CUSTOM SET OF RUNS ###########\n",
    "\n",
    "###### SETTINGS ######\n",
    "\n",
    "# runnames = ['2TUBESTCOM', '2TUBESTWPA', '2TUBESTWTH', '2TUBESTCOR', '2TUBESTCOD']\n",
    "# runnames = ['3TU' + str(n+1800) + '_PI' for n in range(0,10)]\n",
    "# runnames = ['1P5' + str(n+4000) + '_PI' for n in range(0,6)]\n",
    "# runnames = ['THTEST_LOW','THTESTNORM','THTESTHIGH']\n",
    "# runnames = ['3P5TST05MX','3P5TST1XMX','3P5TST2XMX']\n",
    "# runnames = ['3P51000_PI','3P52364_PI','3P53999_PI']\n",
    "runnames = ['3P5OPTIMAL','3P5DU_TEST','3P5OPDUNEW']\n",
    "\n",
    "# define all MAEs to be computed as fourplets and name them (without the _Pad, _Thd)\n",
    "# fourplets (cruises, wo_surface, weighted_vol, weighted_unc)\n",
    "# MAE_tasks_tmp = {'MAE_unc_weights':(cruises_all,False,False,True)}\n",
    "\n",
    "MAE_tasks_tmp = {'MAE_no_weights':(cruises_all,False,False,False),\n",
    "                 'MAE_unc_weights':(cruises_all,False,False,True)}\n",
    "\n",
    "\n",
    "######################\n",
    "\n",
    "print('--- NUMBER OF TASKS: GOING TO COMPUTE', len(MAE_tasks_tmp), 'different versions of MAEs (actually x 4 for Pad,Thd,Pap,Thp) for ', len(runnames), ' runs.')\n",
    "\n",
    "MAE_results_tmp = {}\n",
    "counter = 0\n",
    "for key in MAE_tasks_tmp:\n",
    "    (cruises, wo_surface, weighted_vol, weighted_unc) = MAE_tasks_tmp[key]\n",
    "    \n",
    "    [junk, this_obs_d_ave, junk2] = f.subset_of_obs(obs_d, fnctrl, cruises=cruises, wo_surface=wo_surface)\n",
    "    [junk, this_obs_p_ave, junk2] = f.subset_of_obs(obs_p, fnctrl, cruises=cruises, wo_surface=wo_surface)\n",
    "    [MAEs_task_Pad, MAEs_task_Thd, MAEs_task_Pap, MAEs_task_Thp] = f.calc_all_MAEs(this_obs_d_ave, this_obs_p_ave, \n",
    "                                                                                   modelrunIDs=runnames, modeldir=modeldir,\n",
    "                                                                                   ensemble='FREE', weighted_vol=weighted_vol, \n",
    "                                                                                   weighted_unc=weighted_unc, verbose=False)\n",
    "    MAE_results_tmp[key+'_Pad'] = MAEs_task_Pad\n",
    "    MAE_results_tmp[key+'_Thd'] = MAEs_task_Thd\n",
    "    MAE_results_tmp[key+'_Pap'] = MAEs_task_Pap\n",
    "    MAE_results_tmp[key+'_Thp'] = MAEs_task_Thp\n",
    "    \n",
    "    counter += 1\n",
    "    print('--- FINISHED TASK NUMBER', counter, ' ---')\n",
    "\n",
    "print('...FINISHED!')\n",
    "# if ERROR: cruises objects are defined a few cells above"
   ]
  },
  {
   "cell_type": "code",
   "execution_count": null,
   "metadata": {},
   "outputs": [],
   "source": [
    "MAE_results_tmp"
   ]
  },
  {
   "cell_type": "markdown",
   "metadata": {},
   "source": [
    "<a id='export'></a>\n",
    "# Export result\n",
    "Best fit is found in tuning_analyse.ipynb  \n",
    "[go to top](#top)"
   ]
  },
  {
   "cell_type": "code",
   "execution_count": 29,
   "metadata": {},
   "outputs": [],
   "source": [
    "# add all results to total_table\n",
    "col = 8  # start inserting from column 8, because the last column inserted above is at position 7\n",
    "\n",
    "for key in MAE_results:\n",
    "    total_table.insert(col, key, MAE_results[key])\n",
    "    col += 1\n",
    "\n",
    "# continue with RMSE at col where MAE finished\n",
    "for key in RMSE_results:\n",
    "    total_table.insert(col, key, RMSE_results[key])\n",
    "    col += 1"
   ]
  },
  {
   "cell_type": "code",
   "execution_count": null,
   "metadata": {},
   "outputs": [],
   "source": [
    "total_table.columns"
   ]
  },
  {
   "cell_type": "code",
   "execution_count": 31,
   "metadata": {},
   "outputs": [],
   "source": [
    "# export table to csv\n",
    "total_table.to_csv(savedir / ('total_table_ensemble_' + ensemble + '.csv'), index=False)"
   ]
  },
  {
   "cell_type": "code",
   "execution_count": null,
   "metadata": {},
   "outputs": [],
   "source": []
  },
  {
   "cell_type": "code",
   "execution_count": null,
   "metadata": {},
   "outputs": [],
   "source": []
  },
  {
   "cell_type": "code",
   "execution_count": null,
   "metadata": {},
   "outputs": [],
   "source": []
  },
  {
   "cell_type": "code",
   "execution_count": null,
   "metadata": {},
   "outputs": [],
   "source": []
  },
  {
   "cell_type": "markdown",
   "metadata": {},
   "source": [
    "# Archive\n",
    "[go to top](#top)"
   ]
  },
  {
   "cell_type": "markdown",
   "metadata": {},
   "source": [
    "## Load in observational data via nc file (into xarray); format was more complicated than as txt file"
   ]
  },
  {
   "cell_type": "code",
   "execution_count": 31,
   "metadata": {},
   "outputs": [],
   "source": [
    "# obs = xr.open_dataset(obsdir / 'Pad_Thd_IDP2021.nc')\n",
    "\n",
    "# # The data variables are still named var1 etc. The real names are described in the file obsdir/Pad_Thd_IDP_2021_description.txt, \n",
    "# # which came along with the download.  \n",
    "# # Luckily, they are also given in the attributes in the long_name.\n",
    "# # We rename here the ones most relevant for us (rest visible in obsdir/Pad_Thd_IDP_2021_description.txt):   \n",
    "# obs = obs.rename({'metavar1' : 'cruise', 'metavar2' : 'station','longitude' : 'lon', 'latitude' : 'lat', \n",
    "#                   'metavar4' : 'z_bottom', 'var2' : 'z', 'var2_qc' : 'z_qc', 'var3' : 'Pad', 'var3_qc' : 'Pad_qc', \n",
    "#                   'var3_err' : 'Pad_err', 'var8' : 'Thd', 'var8_qc' : 'Thd_qc', 'var8_err' : 'Thd_err'})\n",
    "\n",
    "# # ASSUMPTION! So we selected the BOTTLE concentration to be the one of interest and ignored the others."
   ]
  },
  {
   "cell_type": "code",
   "execution_count": null,
   "metadata": {},
   "outputs": [],
   "source": []
  },
  {
   "cell_type": "markdown",
   "metadata": {},
   "source": [
    "### How to use this netcdf dataset?  \n",
    "After playing around with it, I understood the dataset's structure:\n",
    "- N_STATIONS and N_SAMPLES are the only coordinates, which can be used for indexing with obs.isel() etc\n",
    "- NR OF STATIONS = 3149 and forms a kind-of-grid in (lat,lon) space. Since this dataset is not alligned (as in a model grid), you cannot directly grab lat or lon. \n",
    "- NR OF SAMPLES = 698 and forms a kind-of-grid in the z direction. For most stations, there were not 698 measurements done in depth dir, but apparently this is the maximum so probably for 1 station they did 698 measurements. \n",
    "- Find location of a station with index 15 via obs.lat.isel(N_STATIONS=15) and same for lon\n",
    "- Find depth of a station with index 15 via obs.z.isel(N_STATIONS=15).values. If e.g. 40 depth measurements were done, then the first 40 values give the depth coordinates, followed by 698-40 nan values."
   ]
  },
  {
   "cell_type": "code",
   "execution_count": 32,
   "metadata": {},
   "outputs": [],
   "source": [
    "# ARCHIVE\n",
    "# PLAYING AROUND TO UNDERSTAND DATASET STRUCTURE\n",
    "\n",
    "# obs.sel(lat=slice(-10,10), lon=slice(-165,-180))  \n",
    "# => fails with 'lat is not a valid dimension or coordinate'\n",
    "\n",
    "# obs.Pad.shape, obs.Thd.shape, obs.z.shape\n",
    "# => all give shape (3149, 698) = (nr_stations, nr_samples)\n",
    "\n",
    "# obs.lat.shape, obs.lon.shape\n",
    "# => all give shape (3149, ) = (nr_stations, )\n",
    "\n",
    "# So the data does not lie in a grid with easily accessible xarray coordinates, as the model data. \n",
    "# Rather it has 3149 data points (the stations) in (lat,lon) space and in addition, I suspect, it has 698 depths (the samples) with possible measurements.  \n",
    "# Thus, **a certain data point at e.g. station=12, sample=5, can be located via lat(station=12) and lon(station=12).**\n",
    "\n",
    "# obs.Thd.isel(N_STATIONS=12, N_SAMPLES=5)\n",
    "# => indexing only works with the dimensions N_STATIONS and N_SAMPLES\n",
    "# => but often it is NaN (not measured at all depths)\n",
    "\n",
    "# np.nanmax(obs.Pad.isel(N_STATIONS=15))\n",
    "# => it turns out often at a station is not measured Pad or Thd at all"
   ]
  },
  {
   "cell_type": "markdown",
   "metadata": {},
   "source": [
    "**Pad, Thd were not measured on all stations during the cruise tracks; many are skipped**"
   ]
  },
  {
   "cell_type": "markdown",
   "metadata": {},
   "source": [
    "Let us look at an example and try to select a certain datapoint. Let us take the Pad and Thd measurement around:\n",
    "- lat=0 \n",
    "- lon=175 W \n",
    "- z=2000 m  \n",
    "\n",
    "\n",
    "Avoid to make use of preknowledge like looking at the map and choosing the cruise because that is not possible later on in the model-data comparison either.  \n",
    "=> this seems daunting/impossible  \n",
    "=> it would help to create a mapping with (lon,lat) pairs <=> station  \n",
    "=> no instead I will switch to pandas (and load in the txt instead of nc file)"
   ]
  },
  {
   "cell_type": "code",
   "execution_count": 33,
   "metadata": {},
   "outputs": [],
   "source": [
    "# # create a mapping with (lon,lat) pairs <=> station\n",
    "\n",
    "# # from station index to (lon,lat)\n",
    "# lons = obs.lon.values\n",
    "# lats = obs.lat.values\n",
    "# assert len(lons)==len(lats), \"something wrong with lat vs lon coords\"\n",
    "# station_to_lon_lat = [(lons[station], lats[station]) for station in range(len(lons))]"
   ]
  },
  {
   "cell_type": "code",
   "execution_count": 34,
   "metadata": {},
   "outputs": [],
   "source": [
    "# # plot to get a feeling for data\n",
    "# fig, ax = plt.subplots(1,2, figsize=(10,3))\n",
    "# ax[0].set_title('stations')\n",
    "# ax[0].scatter(obs.lon, obs.lat)\n",
    "# ax[0].set_xlabel('lon')\n",
    "# ax[0].set_ylabel('lat')\n",
    "\n",
    "# ax[1].set_title('samples in depth')\n",
    "# # ax[1].plot(range(len(obs.z.values)), obs.z.values)\n",
    "# plt.show()\n",
    "\n",
    "# # Left panel seems consistent with the tracks in the downloaded figure\n",
    "# # We see Africa on the left hand side border; the horizontal track ca along the equator is in the Pacific"
   ]
  },
  {
   "cell_type": "code",
   "execution_count": null,
   "metadata": {},
   "outputs": [],
   "source": []
  },
  {
   "cell_type": "code",
   "execution_count": 35,
   "metadata": {},
   "outputs": [],
   "source": [
    "# # try directly using the package \n",
    "# => works but don't want to run it\n",
    "\n",
    "\n",
    "# import lhstools as lh\n",
    "\n",
    "# # f = lh.FLUXNET(config_name='config_template.ini', init=True)  # creates a Benchmark object for FLUXNET/npp obs\n",
    "# f = lh.FLUXNET(config_name='config_D01.ini', init=True)\n",
    "# f.calc_skill()\n",
    "# f.save_stats()\n",
    "# # f.load_stats()"
   ]
  },
  {
   "cell_type": "code",
   "execution_count": 36,
   "metadata": {},
   "outputs": [],
   "source": [
    "# # OLD: plot is correct but not so useful. The PDF is more insightful. This plot is equal to CDF after mirroring in x=y\n",
    "\n",
    "\n",
    "# # settings: ####\n",
    "# run_nrs = [100,200,300,400]\n",
    "# ################\n",
    "\n",
    "# # load model data\n",
    "# runnames = [runname(i, ensemble='2TU') for i in run_nrs]\n",
    "# col_vars = ['Pad','Thd','Pap','Thp']\n",
    "# data_fulls = load_var_multiple_runs(variables=col_vars+['rho_SI'], file_type='full_ave', folder=modeldir, runs=runnames)\n",
    "\n",
    "# # plot model output in 1st row\n",
    "# fig, ax = plt.subplots(2,4, figsize=(12,5))\n",
    "\n",
    "# fig.suptitle('CDF of Pa and Th for a few runs and for obs')\n",
    "# for col,var in enumerate(col_vars):\n",
    "#     ax[0,col].set_title(var + '\\n')\n",
    "#     ax[0,col].set_xlabel('coord index (sorted)')\n",
    "#     ax[1,col].set_xlabel('coord index (sorted)')\n",
    "#     # Lenght of x index for model: 32*40*41= 52480 incl nans. \n",
    "#     # ocean only w/o sediment   => 29847 excl nans.\n",
    "#     ax[0,col].set_xticks([0,15000,30000])\n",
    "\n",
    "#     for n,run in enumerate(runnames):\n",
    "#         obj = data_fulls[run][var].isel(time=-1) # all output values of this run in dpm/m3\n",
    "#         obj = model_to_sw_unit(obj, data_fulls[run].rho_SI.isel(time=-1)) # to uBq/kg \n",
    "#         ax[0,col].plot(np.sort(obj.values.flatten()), label='run '+str(run_nrs[n]))\n",
    "#         # OLD: ax[row,col].hist(np.sort(data_fulls[run][var].isel(time=-1).values.flatten()), bins=100)\n",
    "#         # OLD: ax[-1,0].scatter(range(len(obs_d.Pad.values)), np.sort(obs_d.Pad.values), s=0.1)\n",
    "        \n",
    "# # plot observations in 2nd row\n",
    "# ax[1,0].plot(np.sort(obs_d.Pad.values), c='k')\n",
    "# ax[1,1].plot(np.sort(obs_d.Thd.values), c='k')\n",
    "# ax[1,2].plot(np.sort(obs_p.Pap.values), c='k')\n",
    "# ax[1,3].plot(np.sort(obs_p.Thp.values), c='k')\n",
    "\n",
    "# # labels, titles and ticks\n",
    "# ax[0,0].set_ylabel('A FEW RUNS \\n\\n [uBq/kg]')        \n",
    "# ax[1,0].set_ylabel('OBSERVATIONS \\n\\n [uBq/kg]')\n",
    "# ax[0,0].legend(loc='upper left', fontsize=8)\n",
    "# # yticks for obs chosen s.t. obs end ca. halfway y axis:\n",
    "# for row in [0,1]:\n",
    "#     ax[row,0].set_ylim(0,20)  # Pad\n",
    "#     ax[row,1].set_ylim(0,60)  # Thd\n",
    "#     ax[row,2].set_ylim(0,1) # Pap\n",
    "#     ax[row,3].set_ylim(0,10)  # Thp\n",
    "\n",
    "# plt.tight_layout()\n",
    "# plt.savefig(savedir / 'distributions.pdf')"
   ]
  },
  {
   "cell_type": "code",
   "execution_count": 37,
   "metadata": {},
   "outputs": [],
   "source": [
    "# # plot depths of Arctic cruises only (4 cruises with in total 54 stations)\n",
    "\n",
    "# fig, ax = plt.subplots()\n",
    "# ax.set_title('Samples in depth - ARCTIC ONLY')\n",
    "# counter = 0  # used for x axis (index number of station)\n",
    "# for m,this_cruise in enumerate(['GN01', 'GN02', 'GN03', 'GN04']):\n",
    "#     this_cruise_obs = obs_d_geotraces_incl_arctic.where(obs_d_geotraces_incl_arctic.cruise==this_cruise).dropna(how='all')\n",
    "#     [stations, stations_lon, stations_lat, stations_z_bottom, stations_z] = f.prepare_stations_z_plot(this_cruise_obs)\n",
    "#     for n,this_station in enumerate(stations):\n",
    "#         i_station = counter + n\n",
    "#         ax.scatter([i_station]*len(stations_z[n]), stations_z[n], s=2, color=cols[this_cruise]) # expand [n] on x axis to [n, n, ... , n] with same length as y\n",
    "#         ax.scatter(i_station, stations_z_bottom[n], s=2, marker='_', color='k') # plot z_bottom as a black horizontal line\n",
    "#     counter = counter + len(stations_z)\n",
    "        \n",
    "# print('RHS: Black dots are printed at the bottom depth of each station location\\n')\n",
    "# ax.set_xlabel('station index number (ARCTIC)')\n",
    "# ax.set_ylabel('Depth [m]')\n",
    "# ax.invert_yaxis()\n",
    "# plt.tight_layout()\n",
    "# plt.savefig(savedir / 'data_depth_arctic.pdf')\n",
    "# plt.show()\n",
    "# # conclusion: they are not only at the surface but mostly until bottom; quite useful still. Especially GN02, is in Labrador Sea"
   ]
  },
  {
   "cell_type": "code",
   "execution_count": 38,
   "metadata": {},
   "outputs": [],
   "source": [
    "# ### Get RMSEs for 1 example run per basin\n",
    "\n",
    "# # set the wanted subset of cruises\n",
    "\n",
    "# ###### SETTINGS #########################\n",
    "# cruises_restricted = cruises_all\n",
    "# n = 12   # for example\n",
    "# #########################################\n",
    "\n",
    "# # NB the content of this code cell went into calc_all_RMSEs() for the case of multiple runs\n",
    "\n",
    "# if ensemble == 'PAR':\n",
    "#     runid = all_run_nrs[ensemble][n]\n",
    "# else:\n",
    "#     runid = all_run_nrs[ensemble][n] + 1000  # must be ID\n",
    "\n",
    "# obs_all = obs_d\n",
    "\n",
    "# ## 1). compute new obs_ave of only these cruises\n",
    "# obs = obs_all.where(obs_all.cruise.isin(cruises_restricted)).dropna(how='all')\n",
    "# obs = f.restrict_obs_to_good_quality(obs)\n",
    "# [obs, obs_ave, obs_ave_num] = f.obs_to_model_grid(obs, fnctrl)\n",
    "\n",
    "# ## 2). restrict model output to only grid cells with these obs\n",
    "# [res_table, res_entire] = f.get_sim(memberid=runid, path=modeldir, obs_ave=obs_ave, \n",
    "#                                     ensemble=ensemble, convert_unit_to_obs=True)\n",
    "\n",
    "# ## 3). redefine weights (although weights dont need to be normalized, this is needed s.t. len(obs_ave) = len(weights) )\n",
    "# [weights_Pad_these_cruises, weights_Thd_these_cruises] = f.find_weights(obs_ave, res_entire)\n",
    "\n",
    "# ## 4). compute RMSE for cruises_restricted with weights\n",
    "# print('\\nRMSEs for certain cruises with weights for runid', runid,':')\n",
    "# print('Pad:')\n",
    "# this_RMSE = f.calc_rmse(model=res_table.Pad, observation=obs_ave.Pad, weights=weights_Pad_these_cruises, verbose=True)\n",
    "# print('Thd:')\n",
    "# this_RMSE = f.calc_rmse(model=res_table.Thd, observation=obs_ave.Thd, weights=weights_Thd_these_cruises, verbose=True)\n",
    "\n",
    "# del obs, obs_ave, res_table, res_entire  # to make sure it is not continued unwanted\n",
    "\n",
    "# # PLAYING AROUND => ARCTIC CRUISES INDEED SEEM THE BOTTLENECK WITH VERY HIGH RMSE"
   ]
  },
  {
   "cell_type": "code",
   "execution_count": 39,
   "metadata": {},
   "outputs": [],
   "source": [
    "# GET THE NORMAL TOTAL RMSE\n",
    "\n",
    "# ######### TAKES 1s PER RUN E.G. 1 HOUR FOR ALL (OUTDATED) ############\n",
    "\n",
    "# ###### SETTINGS ##################\n",
    "# model_run_nrs = range(0,5)  # for testing\n",
    "# # model_run_nrs = all_run_nrs[ensemble]    # all; takes ca. 1 hour for 1TU and 10 mins for 2TU\n",
    "# verbose = True\n",
    "# ##################################\n",
    "\n",
    "# if ensemble == 'PAR':\n",
    "#     modelrunIDs = model_run_nrs\n",
    "# else:\n",
    "#     modelrunIDs = np.asarray(model_run_nrs) + 1000  # must be ID\n",
    "\n",
    "# # using obs_ave from above (correct)\n",
    "# [RMSEs_Pad, RMSEs_Thd] = f.calc_all_RMSEs(obs_ave, modelrunIDs=modelrunIDs, modeldir=modeldir, \n",
    "#                                           ensemble=ensemble, weighted=True, verbose=verbose)\n",
    "\n",
    "# ## equivalent to\n",
    "# # [junk, this_obs_ave, junk2] = f.subset_of_obs(obs, fnctrl, cruises='all', wo_surface=False)\n",
    "# # [RMSEs_noArc_yesLabr_Pad, RMSEs_noArc_yesLabr_Thd] = f.calc_all_RMSEs(this_obs_ave, modelrunIDs=modelrunIDs, modeldir=modeldir,\n",
    "# #                                                                       ensemble=ensemble, weighted=True, verbose=verbose)"
   ]
  },
  {
   "cell_type": "code",
   "execution_count": 40,
   "metadata": {},
   "outputs": [],
   "source": [
    "# # add all results to total_table\n",
    "# total_table.insert(10, \"RMSE_total\", RMSE_total)\n",
    "# total_table.insert(11, \"RMSE_total_noArc_yesLabr\", RMSE_total_noArc_yesLabr)\n",
    "# total_table.insert(12, \"RMSE_Pad\", RMSEs_Pad)\n",
    "# total_table.insert(13, \"RMSE_Thd\", RMSEs_Thd)\n",
    "# total_table.insert(14, \"RMSE_noArc_yesLabr_Pad\", RMSEs_noArc_yesLabr_Pad)\n",
    "# total_table.insert(15, \"RMSE_noArc_yesLabr_Thd\", RMSEs_noArc_yesLabr_Thd)\n",
    "# total_table.insert(16, \"RMSE_noArc_noLabr_Pad\", RMSEs_noArc_noLabr_Pad)\n",
    "# total_table.insert(17, \"RMSE_noArc_noLabr_Thd\", RMSEs_noArc_noLabr_Thd)\n",
    "# total_table.insert(18, \"RMSE_Atl_Pad\", RMSEs_Atl_Pad)\n",
    "# total_table.insert(19, \"RMSE_Atl_Thd\", RMSEs_Atl_Thd)\n",
    "# total_table.insert(20, \"RMSE_Pac_Pad\", RMSEs_Pac_Pad)\n",
    "# total_table.insert(21, \"RMSE_Pac_Thd\", RMSEs_Pac_Thd)\n",
    "# total_table.insert(22, \"RMSE_SO_Pad\", RMSEs_SO_Pad)\n",
    "# total_table.insert(23, \"RMSE_SO_Thd\", RMSEs_SO_Thd)"
   ]
  },
  {
   "cell_type": "code",
   "execution_count": null,
   "metadata": {},
   "outputs": [],
   "source": []
  }
 ],
 "metadata": {
  "celltoolbar": "Slideshow",
  "hide_input": false,
  "kernelspec": {
   "display_name": "base",
   "language": "python",
   "name": "base"
  },
  "language_info": {
   "codemirror_mode": {
    "name": "ipython",
    "version": 3
   },
   "file_extension": ".py",
   "mimetype": "text/x-python",
   "name": "python",
   "nbconvert_exporter": "python",
   "pygments_lexer": "ipython3",
   "version": "3.8.3"
  },
  "toc": {
   "colors": {
    "hover_highlight": "#DAA520",
    "running_highlight": "#FF0000",
    "selected_highlight": "#FFD700"
   },
   "moveMenuLeft": true,
   "nav_menu": {
    "height": "63px",
    "width": "252px"
   },
   "navigate_menu": true,
   "number_sections": true,
   "sideBar": true,
   "threshold": 4,
   "toc_cell": false,
   "toc_section_display": "block",
   "toc_window_display": false
  }
 },
 "nbformat": 4,
 "nbformat_minor": 4
}
